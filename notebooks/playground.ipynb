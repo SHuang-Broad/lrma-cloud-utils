{
 "cells": [
  {
   "cell_type": "markdown",
   "source": [
    "# load library"
   ],
   "metadata": {
    "collapsed": false
   }
  },
  {
   "cell_type": "code",
   "execution_count": 1,
   "outputs": [],
   "source": [
    "# auto reloading of local scripts under dev\n",
    "import pprint\n",
    "%load_ext autoreload\n",
    "%autoreload 2"
   ],
   "metadata": {
    "collapsed": false,
    "pycharm": {
     "name": "#%%\n"
    }
   }
  },
  {
   "cell_type": "code",
   "execution_count": 13,
   "outputs": [],
   "source": [
    "# relying on these stdlib anyway\n",
    "import http\n",
    "import re\n",
    "import os\n",
    "import sys\n",
    "import datetime\n",
    "import pprint\n",
    "from dateutil import parser\n",
    "import pandas as pd"
   ],
   "metadata": {
    "collapsed": false,
    "pycharm": {
     "name": "#%%\n"
    }
   }
  },
  {
   "cell_type": "code",
   "execution_count": 3,
   "outputs": [],
   "source": [
    "# Google Cloud and FISS\n",
    "from firecloud import api as fapi\n",
    "\n",
    "from google.cloud import storage\n",
    "storage_client = storage.Client()"
   ],
   "metadata": {
    "collapsed": false,
    "pycharm": {
     "name": "#%%\n"
    }
   }
  },
  {
   "cell_type": "code",
   "execution_count": 62,
   "outputs": [],
   "source": [
    "# load local lib\n",
    "module_path = os.path.abspath(os.path.join('..'))\n",
    "if module_path not in sys.path:\n",
    "    sys.path.append(module_path)\n",
    "\n",
    "from src.gcs_utils import GcsPath\n",
    "\n",
    "from src.terra.table_utils import *\n",
    "from src.terra.submission.submission_utils import verify_before_submit"
   ],
   "metadata": {
    "collapsed": false,
    "pycharm": {
     "name": "#%%\n"
    }
   }
  },
  {
   "cell_type": "code",
   "execution_count": 4,
   "outputs": [],
   "source": [],
   "metadata": {
    "collapsed": false,
    "pycharm": {
     "name": "#%%\n"
    }
   }
  },
  {
   "cell_type": "markdown",
   "source": [
    "# load data"
   ],
   "metadata": {
    "collapsed": false
   }
  },
  {
   "cell_type": "code",
   "execution_count": 5,
   "outputs": [],
   "source": [
    "# primary_namespace = 'production-long-reads'\n",
    "# primary_workspace = 'broad-gp-pacbio'\n",
    "# root_data_type = 'sample'"
   ],
   "metadata": {
    "collapsed": false,
    "pycharm": {
     "name": "#%%\n"
    }
   }
  },
  {
   "cell_type": "code",
   "execution_count": 6,
   "outputs": [],
   "source": [
    "primary_namespace = 'broad-firecloud-dsde-methods'\n",
    "primary_workspace = 'HGSVC2-unified'\n",
    "root_data_type = 'ccs-flowcell'"
   ],
   "metadata": {
    "collapsed": false,
    "pycharm": {
     "name": "#%%\n"
    }
   }
  },
  {
   "cell_type": "code",
   "execution_count": 7,
   "outputs": [],
   "source": [
    "flowcell_table = \\\n",
    "  fetch_existing_root_table(ns=primary_namespace,\n",
    "                            ws=primary_workspace,\n",
    "                            etype=root_data_type)"
   ],
   "metadata": {
    "collapsed": false,
    "pycharm": {
     "name": "#%%\n"
    }
   }
  },
  {
   "cell_type": "code",
   "execution_count": null,
   "outputs": [],
   "source": [],
   "metadata": {
    "collapsed": false,
    "pycharm": {
     "name": "#%%\n"
    }
   }
  },
  {
   "cell_type": "code",
   "execution_count": 8,
   "outputs": [],
   "source": [
    "gcs_locations = ['aligned_bai', 'aligned_bam', 'aligned_pbi',\n",
    "                 'ccs_bam', 'ccs_pbi', 'ccs_report',\n",
    "                 'fingerprint_details', 'fingerprint_metrics',\n",
    "                 'fq', 'gcs_input_dir', 'input_bam', 'input_pbi', 'subreads_bam', 'subreads_pbi']"
   ],
   "metadata": {
    "collapsed": false,
    "pycharm": {
     "name": "#%%\n"
    }
   }
  },
  {
   "cell_type": "code",
   "execution_count": null,
   "outputs": [],
   "source": [
    "lab_identity = ['bio_sample', 'description', 'well_sample']\n",
    "sequencer_identity = ['flowcell_id', 'movie_name', 'well_name']\n",
    "terra_identity = ['sample']"
   ],
   "metadata": {
    "collapsed": false,
    "pycharm": {
     "name": "#%%\n"
    }
   }
  },
  {
   "cell_type": "code",
   "execution_count": null,
   "outputs": [],
   "source": [
    "categorical_columns = {'type': 'category',\n",
    "                       'columns': ['application', 'experiment_type', 'instrument', 'workspace']}\n",
    "\n",
    "date_time_columns = {'type': 'datetime64',\n",
    "                     'timezone': datetime.timezone.utc,\n",
    "                     'columns': ['created_at']}\n",
    "\n",
    "boolean_columns = {'type': 'bool',\n",
    "                   'columns': ['is_ccs', 'is_corrected', 'is_isoseq']}\n",
    "\n",
    "int_type_columns = {'type': 'Int64',\n",
    "                    'columns': ['aligned_num_bases','aligned_num_reads','aligned_read_length_N50',\n",
    "                                'ccs_zmws_fail_filters','ccs_zmws_input','ccs_zmws_pass_filters', 'ccs_zmws_shortcut_filters',\n",
    "                                'insert_size',\n",
    "                                'num_bases','num_reads','num_reads_Q10','num_reads_Q12','num_reads_Q15','num_reads_Q5','num_reads_Q7','num_records',\n",
    "                                'total_length']}\n",
    "\n",
    "float_type_columns = {'type': 'float64',\n",
    "                      'columns': ['lod_expected_sample',\n",
    "                                  'aligned_est_fold_cov', 'raw_est_fold_cov',\n",
    "                                  'aligned_frac_bases','aligned_read_length_mean','aligned_read_length_median','aligned_read_length_stdev',\n",
    "                                  'average_identity', 'median_identity',\n",
    "                                  'ccs_zmws_fail_filters_pct','ccs_zmws_pass_filters_pct','ccs_zmws_shortcut_filters_pct',\n",
    "                                  'polymerase_read_length_N50', 'polymerase_read_length_mean',\n",
    "                                  'read_length_N50', 'read_length_mean', 'read_length_median', 'read_length_stdev', 'read_qual_mean', 'read_qual_median',\n",
    "                                  'subread_read_length_N50','subread_read_length_mean']}\n",
    "\n",
    "string_type_columns = {'type': 'str',\n",
    "                       'columns': gcs_locations + terra_identity + lab_identity + sequencer_identity}"
   ],
   "metadata": {
    "collapsed": false,
    "pycharm": {
     "name": "#%%\n"
    }
   }
  },
  {
   "cell_type": "code",
   "execution_count": null,
   "outputs": [],
   "source": [
    "for n in boolean_columns['columns']:\n",
    "    flowcell_table[n] = flowcell_table[n].apply(lambda s: s=='TRUE' or s=='True' or s=='true').astype(boolean_columns['type'])"
   ],
   "metadata": {
    "collapsed": false,
    "pycharm": {
     "name": "#%%\n"
    }
   }
  },
  {
   "cell_type": "code",
   "execution_count": null,
   "outputs": [],
   "source": [
    "for n in categorical_columns['columns']:\n",
    "    flowcell_table[n] = flowcell_table[n].astype(categorical_columns['type'])"
   ],
   "metadata": {
    "collapsed": false,
    "pycharm": {
     "name": "#%%\n"
    }
   }
  },
  {
   "cell_type": "code",
   "execution_count": null,
   "outputs": [],
   "source": [
    "for n in string_type_columns['columns']:\n",
    "    flowcell_table[n] = flowcell_table[n].astype(string_type_columns['type'])"
   ],
   "metadata": {
    "collapsed": false,
    "pycharm": {
     "name": "#%%\n"
    }
   }
  },
  {
   "cell_type": "code",
   "execution_count": null,
   "outputs": [],
   "source": [
    "def convert_to_float(e) -> float or None:\n",
    "    if e:\n",
    "        if e.lower() in ['nan', 'none']:\n",
    "            return None\n",
    "        else:\n",
    "            try:\n",
    "                return float(e)\n",
    "            except TypeError:\n",
    "                print(e)\n",
    "                raise\n",
    "    else:\n",
    "        return None\n",
    "\n",
    "def convert_to_int(e) -> int:\n",
    "    f = convert_to_float(e)\n",
    "    return round(f) if f else None"
   ],
   "metadata": {
    "collapsed": false,
    "pycharm": {
     "name": "#%%\n"
    }
   }
  },
  {
   "cell_type": "code",
   "execution_count": null,
   "outputs": [],
   "source": [
    "for n in int_type_columns['columns']:\n",
    "    try:\n",
    "        flowcell_table[n] = flowcell_table[n].apply(convert_to_int).astype(int_type_columns['type'])\n",
    "    except ValueError:\n",
    "        print(n)\n",
    "        raise"
   ],
   "metadata": {
    "collapsed": false,
    "pycharm": {
     "name": "#%%\n"
    }
   }
  },
  {
   "cell_type": "code",
   "execution_count": null,
   "outputs": [],
   "source": [
    "for n in float_type_columns['columns']:\n",
    "    try:\n",
    "        flowcell_table[n] = flowcell_table[n].apply(convert_to_float).astype(float_type_columns['type'])\n",
    "    except ValueError:\n",
    "        print(n)\n",
    "        raise"
   ],
   "metadata": {
    "collapsed": false,
    "pycharm": {
     "name": "#%%\n"
    }
   }
  },
  {
   "cell_type": "code",
   "execution_count": null,
   "outputs": [],
   "source": [
    "def convert_date_time(s):\n",
    "    try:\n",
    "        t = parser.isoparse(s).astimezone(tz=date_time_columns['timezone'])\n",
    "        return pd.to_datetime(t)\n",
    "    except (ValueError, pd.errors.OutOfBoundsDatetime):\n",
    "        return pd.Timestamp.min\n",
    "for n in date_time_columns['columns']:\n",
    "    flowcell_table[n] = flowcell_table[n].apply(lambda s: pd.to_datetime(convert_date_time(s)))"
   ],
   "metadata": {
    "collapsed": false,
    "pycharm": {
     "name": "#%%\n"
    }
   }
  },
  {
   "cell_type": "markdown",
   "source": [
    "# PLAY"
   ],
   "metadata": {
    "collapsed": false
   }
  },
  {
   "cell_type": "code",
   "execution_count": null,
   "outputs": [],
   "source": [],
   "metadata": {
    "collapsed": false,
    "pycharm": {
     "name": "#%%\n"
    }
   }
  },
  {
   "cell_type": "code",
   "execution_count": null,
   "outputs": [],
   "source": [
    "verify_before_submit(hgsvc2_namespace, hgsvc2_workspace,\n",
    "                     workflow_name='Dummy',\n",
    "                     etype='ccs-flowcell', enames=hgsvc2_ccs_flowcells['ccs-flowcell'][0:4].tolist(),\n",
    "                     expression='this.ccs-flowcells',\n",
    "                     use_callcache=True)"
   ],
   "metadata": {
    "collapsed": false,
    "pycharm": {
     "name": "#%%\n"
    }
   }
  },
  {
   "cell_type": "code",
   "execution_count": null,
   "outputs": [],
   "source": [],
   "metadata": {
    "collapsed": false,
    "pycharm": {
     "name": "#%%\n"
    }
   }
  },
  {
   "cell_type": "code",
   "execution_count": 10,
   "outputs": [
    {
     "data": {
      "text/plain": "True"
     },
     "execution_count": 10,
     "metadata": {},
     "output_type": "execute_result"
    }
   ],
   "source": [
    "response = fapi.get_workspace_config(primary_namespace, primary_workspace, primary_namespace, 'Dummy')\n",
    "response.ok"
   ],
   "metadata": {
    "collapsed": false,
    "pycharm": {
     "name": "#%%\n"
    }
   }
  },
  {
   "cell_type": "code",
   "execution_count": 11,
   "outputs": [
    {
     "data": {
      "text/plain": "{'deleted': False,\n 'inputs': {'Dummy.bai': 'this.aligned_bai', 'Dummy.bam': 'this.aligned_bam'},\n 'methodConfigVersion': 3,\n 'methodRepoMethod': {'methodUri': 'dockstore://github.com%2Fbroadinstitute%2Flong-read-pipelines%2FDummy/sh_dummy',\n  'sourceRepo': 'dockstore',\n  'methodPath': 'github.com/broadinstitute/long-read-pipelines/Dummy',\n  'methodVersion': 'sh_dummy'},\n 'name': 'Dummy',\n 'namespace': 'broad-firecloud-dsde-methods',\n 'outputs': {},\n 'prerequisites': {},\n 'rootEntityType': 'ccs-flowcell'}"
     },
     "execution_count": 11,
     "metadata": {},
     "output_type": "execute_result"
    }
   ],
   "source": [
    "response.json()"
   ],
   "metadata": {
    "collapsed": false,
    "pycharm": {
     "name": "#%%\n"
    }
   }
  },
  {
   "cell_type": "code",
   "execution_count": 14,
   "outputs": [
    {
     "name": "stdout",
     "output_type": "stream",
     "text": [
      "{'deleted': False,\n",
      " 'inputs': {'Dummy.bai': 'this.aligned_bai', 'Dummy.bam': 'this.aligned_bam'},\n",
      " 'methodConfigVersion': 3,\n",
      " 'methodRepoMethod': {'methodUri': 'dockstore://github.com%2Fbroadinstitute%2Flong-read-pipelines%2FDummy/sh_dummy',\n",
      "                      'sourceRepo': 'dockstore',\n",
      "                      'methodPath': 'github.com/broadinstitute/long-read-pipelines/Dummy',\n",
      "                      'methodVersion': 'sh_dummy'},\n",
      " 'name': 'Dummy',\n",
      " 'namespace': 'broad-firecloud-dsde-methods',\n",
      " 'outputs': {},\n",
      " 'prerequisites': {},\n",
      " 'rootEntityType': 'ccs-flowcell'}\n"
     ]
    }
   ],
   "source": [
    "pprint.pp(response.json())"
   ],
   "metadata": {
    "collapsed": false,
    "pycharm": {
     "name": "#%%\n"
    }
   }
  },
  {
   "cell_type": "code",
   "execution_count": 15,
   "outputs": [],
   "source": [
    "import copy"
   ],
   "metadata": {
    "collapsed": false,
    "pycharm": {
     "name": "#%%\n"
    }
   }
  },
  {
   "cell_type": "code",
   "execution_count": 16,
   "outputs": [],
   "source": [
    "to_be_updated = copy.deepcopy(response.json())"
   ],
   "metadata": {
    "collapsed": false,
    "pycharm": {
     "name": "#%%\n"
    }
   }
  },
  {
   "cell_type": "code",
   "execution_count": 17,
   "outputs": [],
   "source": [
    "to_be_updated['rootEntityType'] = 'clr-flowcell'"
   ],
   "metadata": {
    "collapsed": false,
    "pycharm": {
     "name": "#%%\n"
    }
   }
  },
  {
   "cell_type": "code",
   "execution_count": 18,
   "outputs": [
    {
     "name": "stdout",
     "output_type": "stream",
     "text": [
      "{'deleted': False,\n",
      " 'inputs': {'Dummy.bai': 'this.aligned_bai', 'Dummy.bam': 'this.aligned_bam'},\n",
      " 'methodConfigVersion': 3,\n",
      " 'methodRepoMethod': {'methodUri': 'dockstore://github.com%2Fbroadinstitute%2Flong-read-pipelines%2FDummy/sh_dummy',\n",
      "                      'sourceRepo': 'dockstore',\n",
      "                      'methodPath': 'github.com/broadinstitute/long-read-pipelines/Dummy',\n",
      "                      'methodVersion': 'sh_dummy'},\n",
      " 'name': 'Dummy',\n",
      " 'namespace': 'broad-firecloud-dsde-methods',\n",
      " 'outputs': {},\n",
      " 'prerequisites': {},\n",
      " 'rootEntityType': 'clr-flowcell'}\n"
     ]
    }
   ],
   "source": [
    "pprint.pp(to_be_updated)"
   ],
   "metadata": {
    "collapsed": false,
    "pycharm": {
     "name": "#%%\n"
    }
   }
  },
  {
   "cell_type": "code",
   "execution_count": 19,
   "outputs": [],
   "source": [
    "import json"
   ],
   "metadata": {
    "collapsed": false,
    "pycharm": {
     "name": "#%%\n"
    }
   }
  },
  {
   "cell_type": "code",
   "execution_count": 24,
   "outputs": [
    {
     "data": {
      "text/plain": "3"
     },
     "execution_count": 24,
     "metadata": {},
     "output_type": "execute_result"
    }
   ],
   "source": [
    "to_be_updated.pop('deleted')\n",
    "to_be_updated.pop('methodConfigVersion')"
   ],
   "metadata": {
    "collapsed": false,
    "pycharm": {
     "name": "#%%\n"
    }
   }
  },
  {
   "cell_type": "code",
   "execution_count": 33,
   "outputs": [],
   "source": [
    "to_be_updated['methodConfigVersion'] = 4\n",
    "to_be_updated['deleted'] = False"
   ],
   "metadata": {
    "collapsed": false,
    "pycharm": {
     "name": "#%%\n"
    }
   }
  },
  {
   "cell_type": "code",
   "execution_count": 34,
   "outputs": [
    {
     "data": {
      "text/plain": "True"
     },
     "execution_count": 34,
     "metadata": {},
     "output_type": "execute_result"
    }
   ],
   "source": [
    "response = fapi.update_workspace_config(primary_namespace, primary_workspace, primary_namespace,\n",
    "                                        configname='Dummy', body=to_be_updated)\n",
    "response.ok"
   ],
   "metadata": {
    "collapsed": false,
    "pycharm": {
     "name": "#%%\n"
    }
   }
  },
  {
   "cell_type": "code",
   "execution_count": 32,
   "outputs": [
    {
     "data": {
      "text/plain": "{'400 Bad Request': \"The request content was malformed:\\nObject is missing required member 'deleted'\",\n 'timestamp': 1641525394720}"
     },
     "execution_count": 32,
     "metadata": {},
     "output_type": "execute_result"
    }
   ],
   "source": [
    "response.json()"
   ],
   "metadata": {
    "collapsed": false,
    "pycharm": {
     "name": "#%%\n"
    }
   }
  },
  {
   "cell_type": "code",
   "execution_count": 27,
   "outputs": [
    {
     "data": {
      "text/plain": "dict"
     },
     "execution_count": 27,
     "metadata": {},
     "output_type": "execute_result"
    }
   ],
   "source": [
    "type(response.json())"
   ],
   "metadata": {
    "collapsed": false,
    "pycharm": {
     "name": "#%%\n"
    }
   }
  },
  {
   "cell_type": "code",
   "execution_count": 63,
   "outputs": [],
   "source": [
    "from src.terra.submission.submission_utils import *"
   ],
   "metadata": {
    "collapsed": false,
    "pycharm": {
     "name": "#%%\n"
    }
   }
  },
  {
   "cell_type": "code",
   "execution_count": 70,
   "outputs": [
    {
     "data": {
      "text/plain": "['a7013a6d-c784-4d52-b339-be42e28c7f4b']"
     },
     "execution_count": 70,
     "metadata": {},
     "output_type": "execute_result"
    }
   ],
   "source": [
    "# primary_namespace = 'production-long-reads'\n",
    "# primary_workspace = 'broad-gp-pacbio'\n",
    "# root_data_type = 'sample'\n",
    "analyzable_entities('production-long-reads', 'broad-gp-pacbio',\n",
    "                    'PBFlowcell',\n",
    "                    'sample',\n",
    "                    ['3894997c-6eab-497f-a8a9-0417ce985e6a', '66200c03-2e0c-4e45-a037-855e48a204a7', 'a7013a6d-c784-4d52-b339-be42e28c7f4b'])"
   ],
   "metadata": {
    "collapsed": false,
    "pycharm": {
     "name": "#%%\n"
    }
   }
  },
  {
   "cell_type": "code",
   "execution_count": 39,
   "outputs": [
    {
     "data": {
      "text/plain": "True"
     },
     "execution_count": 39,
     "metadata": {},
     "output_type": "execute_result"
    }
   ],
   "source": [
    "response = fapi.get_submission('production-long-reads', 'broad-gp-pacbio', '5a9e1602-2652-40cf-9adb-08e5882a0bad')\n",
    "response.ok"
   ],
   "metadata": {
    "collapsed": false,
    "pycharm": {
     "name": "#%%\n"
    }
   }
  },
  {
   "cell_type": "code",
   "execution_count": 41,
   "outputs": [
    {
     "name": "stdout",
     "output_type": "stream",
     "text": [
      "{'cost': 0.0,\n",
      " 'deleteIntermediateOutputFiles': False,\n",
      " 'memoryRetryMultiplier': 1.0,\n",
      " 'methodConfigurationName': 'PBFlowcell',\n",
      " 'methodConfigurationNamespace': 'production-long-reads',\n",
      " 'status': 'Submitted',\n",
      " 'submissionDate': '2022-01-07T08:00:28.933Z',\n",
      " 'submissionEntity': {'entityType': 'sample',\n",
      "                      'entityName': '66200c03-2e0c-4e45-a037-855e48a204a7'},\n",
      " 'submissionId': '5a9e1602-2652-40cf-9adb-08e5882a0bad',\n",
      " 'submitter': 'kiran@broadinstitute.org',\n",
      " 'useCallCache': True,\n",
      " 'useReferenceDisks': False,\n",
      " 'workflows': [{'cost': 0.0,\n",
      "                'inputResolutions': [{'inputName': 'PBFlowcell.LB',\n",
      "                                      'value': 'SM-LNN16'},\n",
      "                                     {'inputName': 'PBFlowcell.SM',\n",
      "                                      'value': '1-01335'},\n",
      "                                     {'inputName': 'PBFlowcell.bam',\n",
      "                                      'value': 'gs://broad-gp-pacbio/r64271e_20220103_194247/2_B01/m64271e_220105_065114.reads.bam'},\n",
      "                                     {'inputName': 'PBFlowcell.dir_prefix',\n",
      "                                      'value': 'm64271e_220105_065114'},\n",
      "                                     {'inputName': 'PBFlowcell.experiment_type',\n",
      "                                      'value': 'CCS'},\n",
      "                                     {'inputName': 'PBFlowcell.gcs_out_root_dir',\n",
      "                                      'value': 'gs://broad-gp-pacbio-outgoing/results'},\n",
      "                                     {'inputName': 'PBFlowcell.pbi',\n",
      "                                      'value': 'gs://broad-gp-pacbio/r64271e_20220103_194247/2_B01/m64271e_220105_065114.reads.bam.pbi'},\n",
      "                                     {'inputName': 'PBFlowcell.ref_map_file',\n",
      "                                      'value': 'gs://broad-dsde-methods-long-reads/resources/references/grch38_noalt/grch38_noalt.txt'}],\n",
      "                'messages': [],\n",
      "                'status': 'Running',\n",
      "                'statusLastChangedDate': '2022-01-07T08:01:41.369Z',\n",
      "                'workflowEntity': {'entityType': 'sample',\n",
      "                                   'entityName': '66200c03-2e0c-4e45-a037-855e48a204a7'},\n",
      "                'workflowId': '2ed9b39d-5f35-4171-9b7d-769f33701a0f'}]}\n"
     ]
    }
   ],
   "source": [
    "pprint.pp(response.json())"
   ],
   "metadata": {
    "collapsed": false,
    "pycharm": {
     "name": "#%%\n"
    }
   }
  },
  {
   "cell_type": "code",
   "execution_count": 44,
   "outputs": [],
   "source": [
    "response = fapi.list_submissions('production-long-reads', 'broad-gp-pacbio')\n",
    "if not response.ok:\n",
    "    raise FireCloudServerError(response.status_code, response.text)\n",
    "\n",
    "jobs = response.json()\n",
    "filtered_down_jobs = [job for job in jobs\n",
    "                      if 'PBFlowcell' == job['methodConfigurationName']\n",
    "                      and 'sample' == job['submissionEntity']['entityType']]"
   ],
   "metadata": {
    "collapsed": false,
    "pycharm": {
     "name": "#%%\n"
    }
   }
  },
  {
   "cell_type": "code",
   "execution_count": 45,
   "outputs": [
    {
     "data": {
      "text/plain": "[{'deleteIntermediateOutputFiles': False,\n  'methodConfigurationDeleted': False,\n  'methodConfigurationName': 'PBFlowcell',\n  'methodConfigurationNamespace': 'production-long-reads',\n  'status': 'Aborted',\n  'submissionDate': '2021-12-29T02:08:18.112Z',\n  'submissionEntity': {'entityType': 'sample',\n   'entityName': 'e5f4e00c-29b6-488d-a02c-1d3a179f8ea6'},\n  'submissionId': '00d3f478-4995-469c-9fe8-17d3c7ef488a',\n  'submitter': 'shuang@broadinstitute.org',\n  'useCallCache': True,\n  'workflowStatuses': {'Aborted': 1}},\n {'deleteIntermediateOutputFiles': False,\n  'methodConfigurationDeleted': False,\n  'methodConfigurationName': 'PBFlowcell',\n  'methodConfigurationNamespace': 'production-long-reads',\n  'status': 'Done',\n  'submissionDate': '2022-01-03T06:52:21.251Z',\n  'submissionEntity': {'entityType': 'sample',\n   'entityName': '3d6db72c-33c6-44b2-a5fc-1a1fd6924fef'},\n  'submissionId': '033a9ebb-d7d7-4064-9bfa-527e19221f26',\n  'submitter': 'kiran@broadinstitute.org',\n  'useCallCache': True,\n  'workflowStatuses': {'Succeeded': 1}},\n {'deleteIntermediateOutputFiles': False,\n  'methodConfigurationDeleted': False,\n  'methodConfigurationName': 'PBFlowcell',\n  'methodConfigurationNamespace': 'production-long-reads',\n  'status': 'Done',\n  'submissionDate': '2021-12-19T15:48:45.918Z',\n  'submissionEntity': {'entityType': 'sample',\n   'entityName': '2906f192-8395-402a-b90b-afc63849d780'},\n  'submissionId': '0451fe49-2a0c-4fe4-ab39-271f9dfc3268',\n  'submitter': 'shuang@broadinstitute.org',\n  'useCallCache': True,\n  'userComment': '',\n  'workflowStatuses': {'Succeeded': 1}},\n {'deleteIntermediateOutputFiles': False,\n  'methodConfigurationDeleted': False,\n  'methodConfigurationName': 'PBFlowcell',\n  'methodConfigurationNamespace': 'production-long-reads',\n  'status': 'Done',\n  'submissionDate': '2021-12-18T13:58:54.915Z',\n  'submissionEntity': {'entityType': 'sample',\n   'entityName': '9a9f0f36-923e-4ef1-9158-2978c29c0f9f'},\n  'submissionId': '04f7bc09-a3b7-4a52-b7ec-dc6a46deff38',\n  'submitter': 'shuang@broadinstitute.org',\n  'useCallCache': True,\n  'workflowStatuses': {'Succeeded': 1}},\n {'deleteIntermediateOutputFiles': False,\n  'methodConfigurationDeleted': False,\n  'methodConfigurationName': 'PBFlowcell',\n  'methodConfigurationNamespace': 'production-long-reads',\n  'status': 'Done',\n  'submissionDate': '2021-12-20T19:29:37.638Z',\n  'submissionEntity': {'entityType': 'sample',\n   'entityName': '7ab6b119-3615-49d0-ab76-ab037cc4e069'},\n  'submissionId': '06188491-2afc-4ccf-9360-a49224e600d0',\n  'submitter': 'shuang@broadinstitute.org',\n  'useCallCache': True,\n  'workflowStatuses': {'Succeeded': 1}},\n {'deleteIntermediateOutputFiles': False,\n  'methodConfigurationDeleted': False,\n  'methodConfigurationName': 'PBFlowcell',\n  'methodConfigurationNamespace': 'production-long-reads',\n  'status': 'Done',\n  'submissionDate': '2021-12-29T00:44:31.375Z',\n  'submissionEntity': {'entityType': 'sample',\n   'entityName': 'e5f4e00c-29b6-488d-a02c-1d3a179f8ea6'},\n  'submissionId': '0812cf8e-eb0a-4d45-b960-d1c6c3d25f4b',\n  'submitter': 'shuang@broadinstitute.org',\n  'useCallCache': True,\n  'workflowStatuses': {'Succeeded': 1}},\n {'deleteIntermediateOutputFiles': False,\n  'methodConfigurationDeleted': False,\n  'methodConfigurationName': 'PBFlowcell',\n  'methodConfigurationNamespace': 'production-long-reads',\n  'status': 'Done',\n  'submissionDate': '2021-12-18T13:58:45.819Z',\n  'submissionEntity': {'entityType': 'sample',\n   'entityName': 'c12da999-6641-471d-bf65-61fa453da508'},\n  'submissionId': '08538648-2880-403b-b987-cf9227bbdd06',\n  'submitter': 'shuang@broadinstitute.org',\n  'useCallCache': True,\n  'workflowStatuses': {'Succeeded': 1}},\n {'deleteIntermediateOutputFiles': False,\n  'methodConfigurationDeleted': False,\n  'methodConfigurationName': 'PBFlowcell',\n  'methodConfigurationNamespace': 'production-long-reads',\n  'status': 'Done',\n  'submissionDate': '2022-01-03T20:00:27.098Z',\n  'submissionEntity': {'entityType': 'sample',\n   'entityName': '28d77738-6736-4a30-82dd-ec6a2d145bb0'},\n  'submissionId': '0af7286c-bcbe-431d-93ea-469cd6b3c829',\n  'submitter': 'kiran@broadinstitute.org',\n  'useCallCache': True,\n  'workflowStatuses': {'Succeeded': 1}},\n {'deleteIntermediateOutputFiles': False,\n  'methodConfigurationDeleted': False,\n  'methodConfigurationName': 'PBFlowcell',\n  'methodConfigurationNamespace': 'production-long-reads',\n  'status': 'Done',\n  'submissionDate': '2021-12-18T13:58:53.081Z',\n  'submissionEntity': {'entityType': 'sample',\n   'entityName': '9d1b2820-0408-4ff4-8cd8-f77516a64744'},\n  'submissionId': '11cc3ffa-b451-4240-93d8-a2993929a59b',\n  'submitter': 'shuang@broadinstitute.org',\n  'useCallCache': True,\n  'workflowStatuses': {'Succeeded': 1}},\n {'deleteIntermediateOutputFiles': False,\n  'methodConfigurationDeleted': False,\n  'methodConfigurationName': 'PBFlowcell',\n  'methodConfigurationNamespace': 'production-long-reads',\n  'status': 'Done',\n  'submissionDate': '2021-12-26T16:02:43.527Z',\n  'submissionEntity': {'entityType': 'sample',\n   'entityName': 'b371686f-d672-448a-a6aa-9400ac93f6f4'},\n  'submissionId': '1252e2f9-bfe6-4e1c-a5b2-69fe5c929f60',\n  'submitter': 'shuang@broadinstitute.org',\n  'useCallCache': True,\n  'workflowStatuses': {'Succeeded': 1}},\n {'deleteIntermediateOutputFiles': False,\n  'methodConfigurationDeleted': False,\n  'methodConfigurationName': 'PBFlowcell',\n  'methodConfigurationNamespace': 'production-long-reads',\n  'status': 'Done',\n  'submissionDate': '2021-12-18T13:58:53.492Z',\n  'submissionEntity': {'entityType': 'sample',\n   'entityName': '374217a7-eaa1-4882-ae60-aad500d1bccb'},\n  'submissionId': '14272ddc-20df-4cc3-95cc-714e56e7f1d2',\n  'submitter': 'shuang@broadinstitute.org',\n  'useCallCache': True,\n  'workflowStatuses': {'Succeeded': 1}},\n {'deleteIntermediateOutputFiles': False,\n  'methodConfigurationDeleted': False,\n  'methodConfigurationName': 'PBFlowcell',\n  'methodConfigurationNamespace': 'production-long-reads',\n  'status': 'Done',\n  'submissionDate': '2021-12-18T13:58:49.932Z',\n  'submissionEntity': {'entityType': 'sample',\n   'entityName': '6f618bef-efee-4eb3-a331-697432b466be'},\n  'submissionId': '156895c8-0e37-48dc-b3d8-511087927fbb',\n  'submitter': 'shuang@broadinstitute.org',\n  'useCallCache': True,\n  'workflowStatuses': {'Succeeded': 1}},\n {'deleteIntermediateOutputFiles': False,\n  'methodConfigurationDeleted': False,\n  'methodConfigurationName': 'PBFlowcell',\n  'methodConfigurationNamespace': 'production-long-reads',\n  'status': 'Done',\n  'submissionDate': '2021-12-18T13:58:50.386Z',\n  'submissionEntity': {'entityType': 'sample',\n   'entityName': '2c7a7e4a-0a3b-4dac-a098-91e34b483b61'},\n  'submissionId': '16266750-3217-4b72-bfed-8f048c4817f9',\n  'submitter': 'shuang@broadinstitute.org',\n  'useCallCache': True,\n  'workflowStatuses': {'Failed': 1}},\n {'deleteIntermediateOutputFiles': False,\n  'methodConfigurationDeleted': False,\n  'methodConfigurationName': 'PBFlowcell',\n  'methodConfigurationNamespace': 'production-long-reads',\n  'status': 'Done',\n  'submissionDate': '2022-01-03T20:00:31.711Z',\n  'submissionEntity': {'entityType': 'sample',\n   'entityName': '58c04433-fa02-46c3-b127-cacaa83c6b43'},\n  'submissionId': '1798e28b-9ec2-43c0-a236-56ad6ab9091e',\n  'submitter': 'kiran@broadinstitute.org',\n  'useCallCache': True,\n  'workflowStatuses': {'Failed': 1}},\n {'deleteIntermediateOutputFiles': False,\n  'methodConfigurationDeleted': False,\n  'methodConfigurationName': 'PBFlowcell',\n  'methodConfigurationNamespace': 'production-long-reads',\n  'status': 'Done',\n  'submissionDate': '2021-12-19T00:02:45.275Z',\n  'submissionEntity': {'entityType': 'sample',\n   'entityName': '7ea35aeb-6f12-449c-882d-0f4b3976b9ce'},\n  'submissionId': '182f28ca-6a39-4b1c-b8da-d36b391ad45a',\n  'submitter': 'shuang@broadinstitute.org',\n  'useCallCache': False,\n  'userComment': '',\n  'workflowStatuses': {'Succeeded': 1}},\n {'deleteIntermediateOutputFiles': False,\n  'methodConfigurationDeleted': False,\n  'methodConfigurationName': 'PBFlowcell',\n  'methodConfigurationNamespace': 'production-long-reads',\n  'status': 'Done',\n  'submissionDate': '2022-01-03T20:00:27.963Z',\n  'submissionEntity': {'entityType': 'sample',\n   'entityName': '30e8eb08-51a2-450c-b30f-a6bf14bab0f8'},\n  'submissionId': '18a68f93-40ab-457a-be85-29700e28f297',\n  'submitter': 'kiran@broadinstitute.org',\n  'useCallCache': True,\n  'workflowStatuses': {'Succeeded': 1}},\n {'deleteIntermediateOutputFiles': False,\n  'methodConfigurationDeleted': False,\n  'methodConfigurationName': 'PBFlowcell',\n  'methodConfigurationNamespace': 'production-long-reads',\n  'status': 'Done',\n  'submissionDate': '2022-01-03T20:00:34.416Z',\n  'submissionEntity': {'entityType': 'sample',\n   'entityName': '72ce43d4-284e-4448-a31a-93e08d28ba3c'},\n  'submissionId': '18d6c2da-dfe2-4f62-9238-f27247ef6dff',\n  'submitter': 'kiran@broadinstitute.org',\n  'useCallCache': True,\n  'workflowStatuses': {'Succeeded': 1}},\n {'deleteIntermediateOutputFiles': False,\n  'methodConfigurationDeleted': False,\n  'methodConfigurationName': 'PBFlowcell',\n  'methodConfigurationNamespace': 'production-long-reads',\n  'status': 'Done',\n  'submissionDate': '2022-01-04T20:00:30.845Z',\n  'submissionEntity': {'entityType': 'sample',\n   'entityName': '716c5d32-776f-4ced-91d6-0cf39c231c2c'},\n  'submissionId': '196e39ac-d995-4597-8762-898ffd4efc28',\n  'submitter': 'kiran@broadinstitute.org',\n  'useCallCache': True,\n  'workflowStatuses': {'Failed': 1}},\n {'deleteIntermediateOutputFiles': False,\n  'methodConfigurationDeleted': False,\n  'methodConfigurationName': 'PBFlowcell',\n  'methodConfigurationNamespace': 'production-long-reads',\n  'status': 'Done',\n  'submissionDate': '2021-12-17T02:58:19.498Z',\n  'submissionEntity': {'entityType': 'sample',\n   'entityName': '4a5b6ccb-2b18-4444-bef7-d3c2b7602b5c'},\n  'submissionId': '19abb1e8-30b9-4343-9c42-fa51647203fc',\n  'submitter': 'shuang@broadinstitute.org',\n  'useCallCache': False,\n  'workflowStatuses': {'Succeeded': 1}},\n {'deleteIntermediateOutputFiles': False,\n  'methodConfigurationDeleted': False,\n  'methodConfigurationName': 'PBFlowcell',\n  'methodConfigurationNamespace': 'production-long-reads',\n  'status': 'Done',\n  'submissionDate': '2021-12-24T01:33:15.850Z',\n  'submissionEntity': {'entityType': 'sample',\n   'entityName': 'e39876e6-c8a2-496c-884b-ce7317b19335'},\n  'submissionId': '1a6c2688-9fae-430d-bdd8-3408452c3115',\n  'submitter': 'shuang@broadinstitute.org',\n  'useCallCache': True,\n  'workflowStatuses': {'Succeeded': 1}},\n {'deleteIntermediateOutputFiles': False,\n  'methodConfigurationDeleted': False,\n  'methodConfigurationName': 'PBFlowcell',\n  'methodConfigurationNamespace': 'production-long-reads',\n  'status': 'Done',\n  'submissionDate': '2021-12-20T19:29:37.130Z',\n  'submissionEntity': {'entityType': 'sample',\n   'entityName': 'fb0012a5-40de-4b63-a2c0-09d564c01b89'},\n  'submissionId': '1e24365d-f4e2-41d6-b5c8-373c3cb026b7',\n  'submitter': 'shuang@broadinstitute.org',\n  'useCallCache': True,\n  'workflowStatuses': {'Succeeded': 1}},\n {'deleteIntermediateOutputFiles': False,\n  'methodConfigurationDeleted': False,\n  'methodConfigurationName': 'PBFlowcell',\n  'methodConfigurationNamespace': 'production-long-reads',\n  'status': 'Done',\n  'submissionDate': '2021-12-27T13:57:11.693Z',\n  'submissionEntity': {'entityType': 'sample',\n   'entityName': 'b93737a8-ce9f-41c3-8d2b-9153f53cdeb0'},\n  'submissionId': '20adcb7a-dbdc-4e39-8fb5-8d48008d96d3',\n  'submitter': 'shuang@broadinstitute.org',\n  'useCallCache': True,\n  'workflowStatuses': {'Succeeded': 1}},\n {'deleteIntermediateOutputFiles': False,\n  'methodConfigurationDeleted': False,\n  'methodConfigurationName': 'PBFlowcell',\n  'methodConfigurationNamespace': 'production-long-reads',\n  'status': 'Done',\n  'submissionDate': '2022-01-03T20:00:32.852Z',\n  'submissionEntity': {'entityType': 'sample',\n   'entityName': '6075ab39-3869-4927-89c6-f2494c3ebb26'},\n  'submissionId': '22e7f4dc-440a-4846-84f9-eb8bb8e88114',\n  'submitter': 'kiran@broadinstitute.org',\n  'useCallCache': True,\n  'workflowStatuses': {'Succeeded': 1}},\n {'deleteIntermediateOutputFiles': False,\n  'methodConfigurationDeleted': False,\n  'methodConfigurationName': 'PBFlowcell',\n  'methodConfigurationNamespace': 'production-long-reads',\n  'status': 'Done',\n  'submissionDate': '2021-12-29T00:44:30.529Z',\n  'submissionEntity': {'entityType': 'sample',\n   'entityName': '37f411ec-99a4-41af-83ad-1b69866ba2f2'},\n  'submissionId': '241691d5-ddf2-4a93-bff2-fbc22516d08f',\n  'submitter': 'shuang@broadinstitute.org',\n  'useCallCache': True,\n  'workflowStatuses': {'Succeeded': 1}},\n {'deleteIntermediateOutputFiles': False,\n  'methodConfigurationDeleted': False,\n  'methodConfigurationName': 'PBFlowcell',\n  'methodConfigurationNamespace': 'production-long-reads',\n  'status': 'Done',\n  'submissionDate': '2022-01-04T20:00:27.662Z',\n  'submissionEntity': {'entityType': 'sample',\n   'entityName': '58c04433-fa02-46c3-b127-cacaa83c6b43'},\n  'submissionId': '24adb454-fe58-4898-a1f2-f534ad7dc4e2',\n  'submitter': 'kiran@broadinstitute.org',\n  'useCallCache': True,\n  'workflowStatuses': {'Failed': 1}},\n {'deleteIntermediateOutputFiles': False,\n  'methodConfigurationDeleted': False,\n  'methodConfigurationName': 'PBFlowcell',\n  'methodConfigurationNamespace': 'production-long-reads',\n  'status': 'Done',\n  'submissionDate': '2021-12-22T14:23:47.126Z',\n  'submissionEntity': {'entityType': 'sample',\n   'entityName': '11375f9f-a828-4e68-9d8d-330a967fed22'},\n  'submissionId': '288bb707-c405-490e-b988-7c655d28f8fe',\n  'submitter': 'shuang@broadinstitute.org',\n  'useCallCache': True,\n  'workflowStatuses': {'Failed': 1}},\n {'deleteIntermediateOutputFiles': False,\n  'methodConfigurationDeleted': False,\n  'methodConfigurationName': 'PBFlowcell',\n  'methodConfigurationNamespace': 'production-long-reads',\n  'status': 'Done',\n  'submissionDate': '2022-01-03T20:00:30.339Z',\n  'submissionEntity': {'entityType': 'sample',\n   'entityName': '4a5b6ccb-2b18-4444-bef7-d3c2b7602b5c'},\n  'submissionId': '2aabc306-6583-43db-82e4-cd5134e1ec39',\n  'submitter': 'kiran@broadinstitute.org',\n  'useCallCache': True,\n  'workflowStatuses': {'Succeeded': 1}},\n {'deleteIntermediateOutputFiles': False,\n  'methodConfigurationDeleted': False,\n  'methodConfigurationName': 'PBFlowcell',\n  'methodConfigurationNamespace': 'production-long-reads',\n  'status': 'Done',\n  'submissionDate': '2021-12-18T16:15:07.186Z',\n  'submissionEntity': {'entityType': 'sample',\n   'entityName': '933d682d-f5e6-4fcd-b541-e41aa744ebf5'},\n  'submissionId': '2c1eff67-fbd3-4576-8e94-6d928459f8f4',\n  'submitter': 'shuang@broadinstitute.org',\n  'useCallCache': True,\n  'workflowStatuses': {'Succeeded': 1}},\n {'deleteIntermediateOutputFiles': False,\n  'methodConfigurationDeleted': False,\n  'methodConfigurationName': 'PBFlowcell',\n  'methodConfigurationNamespace': 'production-long-reads',\n  'status': 'Done',\n  'submissionDate': '2021-12-25T16:32:45.036Z',\n  'submissionEntity': {'entityType': 'sample',\n   'entityName': 'a35ffc56-9faf-4ba8-a650-2f708bce04ad'},\n  'submissionId': '2c61a5f6-6399-465f-86ed-592372ff8130',\n  'submitter': 'shuang@broadinstitute.org',\n  'useCallCache': True,\n  'workflowStatuses': {'Succeeded': 1}},\n {'deleteIntermediateOutputFiles': False,\n  'methodConfigurationDeleted': False,\n  'methodConfigurationName': 'PBFlowcell',\n  'methodConfigurationNamespace': 'production-long-reads',\n  'status': 'Done',\n  'submissionDate': '2021-12-29T01:02:02.728Z',\n  'submissionEntity': {'entityType': 'sample',\n   'entityName': 'e5f4e00c-29b6-488d-a02c-1d3a179f8ea6'},\n  'submissionId': '2e686467-dfbe-4e67-a138-6b82684c82ca',\n  'submitter': 'shuang@broadinstitute.org',\n  'useCallCache': True,\n  'workflowStatuses': {'Succeeded': 1}},\n {'deleteIntermediateOutputFiles': False,\n  'methodConfigurationDeleted': False,\n  'methodConfigurationName': 'PBFlowcell',\n  'methodConfigurationNamespace': 'production-long-reads',\n  'status': 'Submitted',\n  'submissionDate': '2022-01-07T08:00:26.600Z',\n  'submissionEntity': {'entityType': 'sample',\n   'entityName': '3894997c-6eab-497f-a8a9-0417ce985e6a'},\n  'submissionId': '2e8259dc-17e0-43be-a003-a43ca9bef6b8',\n  'submitter': 'kiran@broadinstitute.org',\n  'useCallCache': True,\n  'workflowStatuses': {'Running': 1}},\n {'deleteIntermediateOutputFiles': False,\n  'methodConfigurationDeleted': False,\n  'methodConfigurationName': 'PBFlowcell',\n  'methodConfigurationNamespace': 'production-long-reads',\n  'status': 'Done',\n  'submissionDate': '2021-12-18T13:58:44.185Z',\n  'submissionEntity': {'entityType': 'sample',\n   'entityName': '9beb3254-4586-446a-b5b8-d15c47b53afd'},\n  'submissionId': '2effb4e7-14b7-47c3-8299-82761b4bec46',\n  'submitter': 'shuang@broadinstitute.org',\n  'useCallCache': True,\n  'workflowStatuses': {'Succeeded': 1}},\n {'deleteIntermediateOutputFiles': False,\n  'methodConfigurationDeleted': False,\n  'methodConfigurationName': 'PBFlowcell',\n  'methodConfigurationNamespace': 'production-long-reads',\n  'status': 'Done',\n  'submissionDate': '2022-01-04T20:00:36.756Z',\n  'submissionEntity': {'entityType': 'sample',\n   'entityName': 'dfad1eae-661f-45a6-9d1c-11097d47107b'},\n  'submissionId': '30875071-feed-40ae-b52e-f32cfb871d36',\n  'submitter': 'kiran@broadinstitute.org',\n  'useCallCache': True,\n  'workflowStatuses': {'Succeeded': 1}},\n {'deleteIntermediateOutputFiles': False,\n  'methodConfigurationDeleted': False,\n  'methodConfigurationName': 'PBFlowcell',\n  'methodConfigurationNamespace': 'production-long-reads',\n  'status': 'Aborted',\n  'submissionDate': '2021-12-29T02:36:20.015Z',\n  'submissionEntity': {'entityType': 'sample',\n   'entityName': 'e42ee260-c241-469e-b0f0-a949d87f01d6'},\n  'submissionId': '30dfdc8d-e8e6-4e50-87a4-16728e3e0192',\n  'submitter': 'shuang@broadinstitute.org',\n  'useCallCache': True,\n  'workflowStatuses': {'Aborted': 1}},\n {'deleteIntermediateOutputFiles': False,\n  'methodConfigurationDeleted': False,\n  'methodConfigurationName': 'PBFlowcell',\n  'methodConfigurationNamespace': 'production-long-reads',\n  'status': 'Done',\n  'submissionDate': '2021-12-27T13:57:11.241Z',\n  'submissionEntity': {'entityType': 'sample',\n   'entityName': 'f2614335-e7f2-46df-85d4-9050f84dba1c'},\n  'submissionId': '31e442ed-0324-4196-9424-aabe00c5221a',\n  'submitter': 'shuang@broadinstitute.org',\n  'useCallCache': True,\n  'workflowStatuses': {'Succeeded': 1}},\n {'deleteIntermediateOutputFiles': False,\n  'methodConfigurationDeleted': False,\n  'methodConfigurationName': 'PBFlowcell',\n  'methodConfigurationNamespace': 'production-long-reads',\n  'status': 'Submitted',\n  'submissionDate': '2021-12-28T21:07:49.846Z',\n  'submissionEntity': {'entityType': 'sample',\n   'entityName': '37f411ec-99a4-41af-83ad-1b69866ba2f2'},\n  'submissionId': '3480caa8-5452-46a6-af94-fcb563519590',\n  'submitter': 'pet-109040943366503845135@production-long-reads.iam.gserviceaccount.com',\n  'useCallCache': True,\n  'workflowStatuses': {'Failed': 1}},\n {'deleteIntermediateOutputFiles': False,\n  'methodConfigurationDeleted': False,\n  'methodConfigurationName': 'PBFlowcell',\n  'methodConfigurationNamespace': 'production-long-reads',\n  'status': 'Done',\n  'submissionDate': '2021-12-18T13:58:47.672Z',\n  'submissionEntity': {'entityType': 'sample',\n   'entityName': '4491ef62-dab2-4e32-be7b-86ad42a1ee39'},\n  'submissionId': '34ad599b-557b-40ab-8b8a-884ce3203b13',\n  'submitter': 'shuang@broadinstitute.org',\n  'useCallCache': True,\n  'workflowStatuses': {'Succeeded': 1}},\n {'deleteIntermediateOutputFiles': False,\n  'methodConfigurationDeleted': False,\n  'methodConfigurationName': 'PBFlowcell',\n  'methodConfigurationNamespace': 'production-long-reads',\n  'status': 'Done',\n  'submissionDate': '2022-01-03T20:00:24.642Z',\n  'submissionEntity': {'entityType': 'sample',\n   'entityName': '0f5efbbc-21da-4480-80de-f396676c978e'},\n  'submissionId': '3501c776-2750-4cf6-8a21-81c6f9a79340',\n  'submitter': 'kiran@broadinstitute.org',\n  'useCallCache': True,\n  'workflowStatuses': {'Succeeded': 1}},\n {'deleteIntermediateOutputFiles': False,\n  'methodConfigurationDeleted': False,\n  'methodConfigurationName': 'PBFlowcell',\n  'methodConfigurationNamespace': 'production-long-reads',\n  'status': 'Done',\n  'submissionDate': '2022-01-03T20:00:34.934Z',\n  'submissionEntity': {'entityType': 'sample',\n   'entityName': '754c1c9e-ffb2-42e0-b1d8-e1b041cde7bc'},\n  'submissionId': '3a0a1cef-6518-46d9-92a7-4d74431ab2fd',\n  'submitter': 'kiran@broadinstitute.org',\n  'useCallCache': True,\n  'workflowStatuses': {'Succeeded': 1}},\n {'deleteIntermediateOutputFiles': False,\n  'methodConfigurationDeleted': False,\n  'methodConfigurationName': 'PBFlowcell',\n  'methodConfigurationNamespace': 'production-long-reads',\n  'status': 'Done',\n  'submissionDate': '2022-01-04T20:00:29.619Z',\n  'submissionEntity': {'entityType': 'sample',\n   'entityName': '5eea804c-e618-4468-acb5-7c14a8c96143'},\n  'submissionId': '3c72ba66-7cc7-4c32-8f79-a8d13897e049',\n  'submitter': 'kiran@broadinstitute.org',\n  'useCallCache': True,\n  'workflowStatuses': {'Succeeded': 1}},\n {'deleteIntermediateOutputFiles': False,\n  'methodConfigurationDeleted': False,\n  'methodConfigurationName': 'PBFlowcell',\n  'methodConfigurationNamespace': 'production-long-reads',\n  'status': 'Done',\n  'submissionDate': '2022-01-03T06:52:23.224Z',\n  'submissionEntity': {'entityType': 'sample',\n   'entityName': 'abe2fb64-e36b-4ff3-a986-422f71551fd3'},\n  'submissionId': '3f09fb79-f735-4940-b8a5-58e937994baf',\n  'submitter': 'kiran@broadinstitute.org',\n  'useCallCache': True,\n  'workflowStatuses': {'Succeeded': 1}},\n {'deleteIntermediateOutputFiles': False,\n  'methodConfigurationDeleted': False,\n  'methodConfigurationName': 'PBFlowcell',\n  'methodConfigurationNamespace': 'production-long-reads',\n  'status': 'Aborted',\n  'submissionDate': '2021-12-29T02:36:21.780Z',\n  'submissionEntity': {'entityType': 'sample',\n   'entityName': 'e5f4e00c-29b6-488d-a02c-1d3a179f8ea6'},\n  'submissionId': '42e4eb00-8e34-4c79-9c48-9c928776b571',\n  'submitter': 'shuang@broadinstitute.org',\n  'useCallCache': True,\n  'workflowStatuses': {'Aborted': 1}},\n {'deleteIntermediateOutputFiles': False,\n  'methodConfigurationDeleted': False,\n  'methodConfigurationName': 'PBFlowcell',\n  'methodConfigurationNamespace': 'production-long-reads',\n  'status': 'Submitted',\n  'submissionDate': '2021-12-28T18:05:28.664Z',\n  'submissionEntity': {'entityType': 'sample',\n   'entityName': '2c6b0514-9531-47c5-89f7-50b0599d8f28'},\n  'submissionId': '44ac396c-d2da-4cf6-8b3e-9d2df30f6103',\n  'submitter': 'pet-109040943366503845135@production-long-reads.iam.gserviceaccount.com',\n  'useCallCache': True,\n  'workflowStatuses': {'Failed': 1}},\n {'deleteIntermediateOutputFiles': False,\n  'methodConfigurationDeleted': False,\n  'methodConfigurationName': 'PBFlowcell',\n  'methodConfigurationNamespace': 'production-long-reads',\n  'status': 'Done',\n  'submissionDate': '2021-12-24T16:53:10.834Z',\n  'submissionEntity': {'entityType': 'sample',\n   'entityName': 'd1cea941-6f46-4e80-8708-1fa33ab6a91c'},\n  'submissionId': '45398b64-37e0-4b37-9956-e613d9566441',\n  'submitter': 'shuang@broadinstitute.org',\n  'useCallCache': True,\n  'workflowStatuses': {'Succeeded': 1}},\n {'deleteIntermediateOutputFiles': False,\n  'methodConfigurationDeleted': False,\n  'methodConfigurationName': 'PBFlowcell',\n  'methodConfigurationNamespace': 'production-long-reads',\n  'status': 'Done',\n  'submissionDate': '2021-12-18T13:58:47.170Z',\n  'submissionEntity': {'entityType': 'sample',\n   'entityName': '50b008f2-28e8-4218-8ab0-8dd9fb7447e9'},\n  'submissionId': '471a582e-f8de-45ac-a2e0-df31a692b3e9',\n  'submitter': 'shuang@broadinstitute.org',\n  'useCallCache': True,\n  'workflowStatuses': {'Succeeded': 1}},\n {'deleteIntermediateOutputFiles': False,\n  'methodConfigurationDeleted': False,\n  'methodConfigurationName': 'PBFlowcell',\n  'methodConfigurationNamespace': 'production-long-reads',\n  'status': 'Done',\n  'submissionDate': '2021-12-17T02:58:18.590Z',\n  'submissionEntity': {'entityType': 'sample',\n   'entityName': '38f96a92-e46e-4306-a9dd-00f374251daa'},\n  'submissionId': '480b5a71-3bc9-4b20-a9d2-3504c954de79',\n  'submitter': 'shuang@broadinstitute.org',\n  'useCallCache': False,\n  'workflowStatuses': {'Succeeded': 1}},\n {'deleteIntermediateOutputFiles': False,\n  'methodConfigurationDeleted': False,\n  'methodConfigurationName': 'PBFlowcell',\n  'methodConfigurationNamespace': 'production-long-reads',\n  'status': 'Done',\n  'submissionDate': '2021-12-20T19:29:36.162Z',\n  'submissionEntity': {'entityType': 'sample',\n   'entityName': 'e0251079-5217-4a83-aaf5-fbe92ca22fcc'},\n  'submissionId': '49eb144f-4949-4cf9-bbff-593853f99737',\n  'submitter': 'shuang@broadinstitute.org',\n  'useCallCache': True,\n  'workflowStatuses': {'Succeeded': 1}},\n {'deleteIntermediateOutputFiles': False,\n  'methodConfigurationDeleted': False,\n  'methodConfigurationName': 'PBFlowcell',\n  'methodConfigurationNamespace': 'production-long-reads',\n  'status': 'Done',\n  'submissionDate': '2022-01-06T20:00:33.287Z',\n  'submissionEntity': {'entityType': 'sample',\n   'entityName': 'a7013a6d-c784-4d52-b339-be42e28c7f4b'},\n  'submissionId': '4a55c4c8-5cd5-436e-bf5a-b6d96f2879bc',\n  'submitter': 'kiran@broadinstitute.org',\n  'useCallCache': True,\n  'workflowStatuses': {'Failed': 1}},\n {'deleteIntermediateOutputFiles': False,\n  'methodConfigurationDeleted': False,\n  'methodConfigurationName': 'PBFlowcell',\n  'methodConfigurationNamespace': 'production-long-reads',\n  'status': 'Done',\n  'submissionDate': '2022-01-03T20:00:25.695Z',\n  'submissionEntity': {'entityType': 'sample',\n   'entityName': '28ad40f5-76b3-4ca2-a35d-9822eb25cb96'},\n  'submissionId': '4aa79688-fa51-423f-87df-07a9beddd828',\n  'submitter': 'kiran@broadinstitute.org',\n  'useCallCache': True,\n  'workflowStatuses': {'Succeeded': 1}},\n {'deleteIntermediateOutputFiles': False,\n  'methodConfigurationDeleted': False,\n  'methodConfigurationName': 'PBFlowcell',\n  'methodConfigurationNamespace': 'production-long-reads',\n  'status': 'Done',\n  'submissionDate': '2022-01-03T20:00:42.706Z',\n  'submissionEntity': {'entityType': 'sample',\n   'entityName': 'e08b2da2-ef7d-49cf-b1b3-e9450d7632d7'},\n  'submissionId': '4ce89646-0bf1-4f69-bd03-98e6b82bbff6',\n  'submitter': 'kiran@broadinstitute.org',\n  'useCallCache': True,\n  'workflowStatuses': {'Failed': 1}},\n {'deleteIntermediateOutputFiles': False,\n  'methodConfigurationDeleted': False,\n  'methodConfigurationName': 'PBFlowcell',\n  'methodConfigurationNamespace': 'production-long-reads',\n  'status': 'Done',\n  'submissionDate': '2022-01-06T20:00:26.781Z',\n  'submissionEntity': {'entityType': 'sample',\n   'entityName': '3596a2e0-0c44-4678-b79f-aafb3f00019d'},\n  'submissionId': '4d2d5792-e941-45fc-addc-3f2b65756f4c',\n  'submitter': 'kiran@broadinstitute.org',\n  'useCallCache': True,\n  'workflowStatuses': {'Succeeded': 1}},\n {'deleteIntermediateOutputFiles': False,\n  'methodConfigurationDeleted': False,\n  'methodConfigurationName': 'PBFlowcell',\n  'methodConfigurationNamespace': 'production-long-reads',\n  'status': 'Done',\n  'submissionDate': '2022-01-06T20:00:36.741Z',\n  'submissionEntity': {'entityType': 'sample',\n   'entityName': 'e5f4e00c-29b6-488d-a02c-1d3a179f8ea6'},\n  'submissionId': '4ee96c96-2207-4f5a-8cc2-ad9a2682c343',\n  'submitter': 'kiran@broadinstitute.org',\n  'useCallCache': True,\n  'workflowStatuses': {'Succeeded': 1}},\n {'deleteIntermediateOutputFiles': False,\n  'methodConfigurationDeleted': False,\n  'methodConfigurationName': 'PBFlowcell',\n  'methodConfigurationNamespace': 'production-long-reads',\n  'status': 'Done',\n  'submissionDate': '2021-12-18T13:58:51.666Z',\n  'submissionEntity': {'entityType': 'sample',\n   'entityName': '85ec232b-a507-4dd9-9ca8-ac5e8e0f159a'},\n  'submissionId': '4f0cb3ee-6d3c-49f8-b115-9621256bb099',\n  'submitter': 'shuang@broadinstitute.org',\n  'useCallCache': True,\n  'workflowStatuses': {'Failed': 1}},\n {'deleteIntermediateOutputFiles': False,\n  'methodConfigurationDeleted': False,\n  'methodConfigurationName': 'PBFlowcell',\n  'methodConfigurationNamespace': 'production-long-reads',\n  'status': 'Done',\n  'submissionDate': '2022-01-03T20:00:39.026Z',\n  'submissionEntity': {'entityType': 'sample',\n   'entityName': 'ccabec39-f652-4ade-97b2-89d8f5fc99c9'},\n  'submissionId': '516e3459-dc3f-4223-94a1-48179905d489',\n  'submitter': 'kiran@broadinstitute.org',\n  'useCallCache': True,\n  'workflowStatuses': {'Succeeded': 1}},\n {'deleteIntermediateOutputFiles': False,\n  'methodConfigurationDeleted': False,\n  'methodConfigurationName': 'PBFlowcell',\n  'methodConfigurationNamespace': 'production-long-reads',\n  'status': 'Done',\n  'submissionDate': '2021-12-17T02:58:20.879Z',\n  'submissionEntity': {'entityType': 'sample',\n   'entityName': 'abe2fb64-e36b-4ff3-a986-422f71551fd3'},\n  'submissionId': '588876b7-0c16-4fdf-a08d-602b662f56d6',\n  'submitter': 'shuang@broadinstitute.org',\n  'useCallCache': False,\n  'workflowStatuses': {'Succeeded': 1}},\n {'deleteIntermediateOutputFiles': False,\n  'methodConfigurationDeleted': False,\n  'methodConfigurationName': 'PBFlowcell',\n  'methodConfigurationNamespace': 'production-long-reads',\n  'status': 'Done',\n  'submissionDate': '2022-01-07T08:00:28.933Z',\n  'submissionEntity': {'entityType': 'sample',\n   'entityName': '66200c03-2e0c-4e45-a037-855e48a204a7'},\n  'submissionId': '5a9e1602-2652-40cf-9adb-08e5882a0bad',\n  'submitter': 'kiran@broadinstitute.org',\n  'useCallCache': True,\n  'workflowStatuses': {'Succeeded': 1}},\n {'deleteIntermediateOutputFiles': False,\n  'methodConfigurationDeleted': False,\n  'methodConfigurationName': 'PBFlowcell',\n  'methodConfigurationNamespace': 'production-long-reads',\n  'status': 'Submitted',\n  'submissionDate': '2021-12-28T21:07:49.085Z',\n  'submissionEntity': {'entityType': 'sample',\n   'entityName': 'e42ee260-c241-469e-b0f0-a949d87f01d6'},\n  'submissionId': '5b25a69e-a340-4dee-8e5f-cc70d47b7979',\n  'submitter': 'pet-109040943366503845135@production-long-reads.iam.gserviceaccount.com',\n  'useCallCache': True,\n  'workflowStatuses': {'Failed': 1}},\n {'deleteIntermediateOutputFiles': False,\n  'methodConfigurationDeleted': False,\n  'methodConfigurationName': 'PBFlowcell',\n  'methodConfigurationNamespace': 'production-long-reads',\n  'status': 'Done',\n  'submissionDate': '2021-12-26T16:02:43.018Z',\n  'submissionEntity': {'entityType': 'sample',\n   'entityName': 'bfcc2fd8-3844-4a95-b5e1-08bcfc9b2b3a'},\n  'submissionId': '5f330935-9fa1-4291-bf13-87f4e14bffb9',\n  'submitter': 'shuang@broadinstitute.org',\n  'useCallCache': True,\n  'workflowStatuses': {'Succeeded': 1}},\n {'deleteIntermediateOutputFiles': False,\n  'methodConfigurationDeleted': False,\n  'methodConfigurationName': 'PBFlowcell',\n  'methodConfigurationNamespace': 'production-long-reads',\n  'status': 'Done',\n  'submissionDate': '2021-12-24T01:33:16.392Z',\n  'submissionEntity': {'entityType': 'sample',\n   'entityName': '344351b1-34d5-4708-9b6e-e800968fee14'},\n  'submissionId': '5f3371ea-30e9-4609-80c1-935ae0066c24',\n  'submitter': 'shuang@broadinstitute.org',\n  'useCallCache': True,\n  'workflowStatuses': {'Succeeded': 1}},\n {'deleteIntermediateOutputFiles': False,\n  'methodConfigurationDeleted': False,\n  'methodConfigurationName': 'PBFlowcell',\n  'methodConfigurationNamespace': 'production-long-reads',\n  'status': 'Aborted',\n  'submissionDate': '2021-12-29T02:09:12.134Z',\n  'submissionEntity': {'entityType': 'sample',\n   'entityName': 'e42ee260-c241-469e-b0f0-a949d87f01d6'},\n  'submissionId': '5f46607b-d06c-4a6d-81c2-e93b2470dc0c',\n  'submitter': 'shuang@broadinstitute.org',\n  'useCallCache': True,\n  'workflowStatuses': {'Aborted': 1}},\n {'deleteIntermediateOutputFiles': False,\n  'methodConfigurationDeleted': False,\n  'methodConfigurationName': 'PBFlowcell',\n  'methodConfigurationNamespace': 'production-long-reads',\n  'status': 'Done',\n  'submissionDate': '2022-01-06T08:00:25.214Z',\n  'submissionEntity': {'entityType': 'sample',\n   'entityName': '6b7b4f05-627f-4d88-8242-2d675012262e'},\n  'submissionId': '5f502319-4e6f-480a-8c8d-8565f2bb30cb',\n  'submitter': 'kiran@broadinstitute.org',\n  'useCallCache': True,\n  'workflowStatuses': {'Succeeded': 1}},\n {'deleteIntermediateOutputFiles': False,\n  'methodConfigurationDeleted': False,\n  'methodConfigurationName': 'PBFlowcell',\n  'methodConfigurationNamespace': 'production-long-reads',\n  'status': 'Done',\n  'submissionDate': '2021-12-18T16:15:08.437Z',\n  'submissionEntity': {'entityType': 'sample',\n   'entityName': '2c7a7e4a-0a3b-4dac-a098-91e34b483b61'},\n  'submissionId': '5fbb8cd7-e7fa-4064-a415-7f9c4e1fb1d6',\n  'submitter': 'shuang@broadinstitute.org',\n  'useCallCache': True,\n  'workflowStatuses': {'Succeeded': 1}},\n {'deleteIntermediateOutputFiles': False,\n  'methodConfigurationDeleted': False,\n  'methodConfigurationName': 'PBFlowcell',\n  'methodConfigurationNamespace': 'production-long-reads',\n  'status': 'Done',\n  'submissionDate': '2021-12-29T01:01:59.550Z',\n  'submissionEntity': {'entityType': 'sample',\n   'entityName': 'e42ee260-c241-469e-b0f0-a949d87f01d6'},\n  'submissionId': '616e135e-4434-41c4-8474-bbf43dc6ed5c',\n  'submitter': 'shuang@broadinstitute.org',\n  'useCallCache': True,\n  'workflowStatuses': {'Succeeded': 1}},\n {'deleteIntermediateOutputFiles': False,\n  'methodConfigurationDeleted': False,\n  'methodConfigurationName': 'PBFlowcell',\n  'methodConfigurationNamespace': 'production-long-reads',\n  'status': 'Done',\n  'submissionDate': '2021-12-24T16:53:08.859Z',\n  'submissionEntity': {'entityType': 'sample',\n   'entityName': '1a34cf64-f3e7-4aa4-ba43-e7c7a77ca6f4'},\n  'submissionId': '62ac14a6-6246-471c-b76b-d783c0c4048e',\n  'submitter': 'shuang@broadinstitute.org',\n  'useCallCache': True,\n  'workflowStatuses': {'Succeeded': 1}},\n {'deleteIntermediateOutputFiles': False,\n  'methodConfigurationDeleted': False,\n  'methodConfigurationName': 'PBFlowcell',\n  'methodConfigurationNamespace': 'production-long-reads',\n  'status': 'Done',\n  'submissionDate': '2022-01-03T20:00:36.938Z',\n  'submissionEntity': {'entityType': 'sample',\n   'entityName': 'aa6b44d1-5fc6-463e-973c-4cc95e887299'},\n  'submissionId': '6301d6fc-674d-4a70-ac01-d7f5cdc455ea',\n  'submitter': 'kiran@broadinstitute.org',\n  'useCallCache': True,\n  'workflowStatuses': {'Succeeded': 1}},\n {'deleteIntermediateOutputFiles': False,\n  'methodConfigurationDeleted': False,\n  'methodConfigurationName': 'PBFlowcell',\n  'methodConfigurationNamespace': 'production-long-reads',\n  'status': 'Done',\n  'submissionDate': '2021-12-18T13:58:55.336Z',\n  'submissionEntity': {'entityType': 'sample',\n   'entityName': 'da89cff8-4ad6-419d-838e-27aceeb492ac'},\n  'submissionId': '67280d22-312f-4e88-885b-e02307856f03',\n  'submitter': 'shuang@broadinstitute.org',\n  'useCallCache': True,\n  'workflowStatuses': {'Succeeded': 1}},\n {'deleteIntermediateOutputFiles': False,\n  'methodConfigurationDeleted': False,\n  'methodConfigurationName': 'PBFlowcell',\n  'methodConfigurationNamespace': 'production-long-reads',\n  'status': 'Done',\n  'submissionDate': '2021-12-17T02:58:16.965Z',\n  'submissionEntity': {'entityType': 'sample',\n   'entityName': '0ec460ef-b86b-42c7-8e71-b820c7557fab'},\n  'submissionId': '67341b0f-b377-49eb-9c99-2de0a4536829',\n  'submitter': 'shuang@broadinstitute.org',\n  'useCallCache': False,\n  'workflowStatuses': {'Failed': 1}},\n {'deleteIntermediateOutputFiles': False,\n  'methodConfigurationDeleted': False,\n  'methodConfigurationName': 'PBFlowcell',\n  'methodConfigurationNamespace': 'production-long-reads',\n  'status': 'Done',\n  'submissionDate': '2021-12-22T14:23:47.858Z',\n  'submissionEntity': {'entityType': 'sample',\n   'entityName': '422cd57f-f466-4eef-baa0-6ae8593f89f2'},\n  'submissionId': '6a46fcee-085d-4068-8f18-8d6d8714cd49',\n  'submitter': 'shuang@broadinstitute.org',\n  'useCallCache': True,\n  'workflowStatuses': {'Failed': 1}},\n {'deleteIntermediateOutputFiles': False,\n  'methodConfigurationDeleted': False,\n  'methodConfigurationName': 'PBFlowcell',\n  'methodConfigurationNamespace': 'production-long-reads',\n  'status': 'Done',\n  'submissionDate': '2022-01-05T20:00:30.263Z',\n  'submissionEntity': {'entityType': 'sample',\n   'entityName': '3596a2e0-0c44-4678-b79f-aafb3f00019d'},\n  'submissionId': '6be90e63-1d61-4de9-b927-356367d8a1bc',\n  'submitter': 'kiran@broadinstitute.org',\n  'useCallCache': True,\n  'workflowStatuses': {'Succeeded': 1}},\n {'deleteIntermediateOutputFiles': False,\n  'methodConfigurationDeleted': False,\n  'methodConfigurationName': 'PBFlowcell',\n  'methodConfigurationNamespace': 'production-long-reads',\n  'status': 'Done',\n  'submissionDate': '2021-12-17T02:58:20.401Z',\n  'submissionEntity': {'entityType': 'sample',\n   'entityName': 'aa6b44d1-5fc6-463e-973c-4cc95e887299'},\n  'submissionId': '79efeb63-b529-4616-8b2a-77c1a3e53365',\n  'submitter': 'shuang@broadinstitute.org',\n  'useCallCache': False,\n  'workflowStatuses': {'Succeeded': 1}},\n {'deleteIntermediateOutputFiles': False,\n  'methodConfigurationDeleted': False,\n  'methodConfigurationName': 'PBFlowcell',\n  'methodConfigurationNamespace': 'production-long-reads',\n  'status': 'Aborted',\n  'submissionDate': '2021-12-29T02:08:16.229Z',\n  'submissionEntity': {'entityType': 'sample',\n   'entityName': 'e42ee260-c241-469e-b0f0-a949d87f01d6'},\n  'submissionId': '7a272983-d6db-4353-a6a1-ed01eac903dc',\n  'submitter': 'shuang@broadinstitute.org',\n  'useCallCache': True,\n  'workflowStatuses': {'Aborted': 1}},\n {'deleteIntermediateOutputFiles': False,\n  'methodConfigurationDeleted': False,\n  'methodConfigurationName': 'PBFlowcell',\n  'methodConfigurationNamespace': 'production-long-reads',\n  'status': 'Done',\n  'submissionDate': '2022-01-06T20:00:37.187Z',\n  'submissionEntity': {'entityType': 'sample',\n   'entityName': 'e9fd70e7-f5b7-438d-b36b-5f6f9d626f37'},\n  'submissionId': '7a316778-b138-4650-bb28-65b8ff814ee8',\n  'submitter': 'kiran@broadinstitute.org',\n  'useCallCache': True,\n  'workflowStatuses': {'Succeeded': 1}},\n {'deleteIntermediateOutputFiles': False,\n  'methodConfigurationDeleted': False,\n  'methodConfigurationName': 'PBFlowcell',\n  'methodConfigurationNamespace': 'production-long-reads',\n  'status': 'Done',\n  'submissionDate': '2021-12-18T13:58:48.958Z',\n  'submissionEntity': {'entityType': 'sample',\n   'entityName': '7006c0d8-b0d1-43b3-a6bf-b4b033e54559'},\n  'submissionId': '7d72ffb4-00ef-4bad-8cfc-40f8c5e045a9',\n  'submitter': 'shuang@broadinstitute.org',\n  'useCallCache': True,\n  'workflowStatuses': {'Succeeded': 1}},\n {'deleteIntermediateOutputFiles': False,\n  'methodConfigurationDeleted': False,\n  'methodConfigurationName': 'PBFlowcell',\n  'methodConfigurationNamespace': 'production-long-reads',\n  'status': 'Done',\n  'submissionDate': '2021-12-24T16:53:08.347Z',\n  'submissionEntity': {'entityType': 'sample',\n   'entityName': '54826b76-5859-44f5-b7b7-32e45cf3728f'},\n  'submissionId': '827c729e-0adf-45b1-96c8-6f4414e9f74e',\n  'submitter': 'shuang@broadinstitute.org',\n  'useCallCache': True,\n  'workflowStatuses': {'Succeeded': 1}},\n {'deleteIntermediateOutputFiles': False,\n  'methodConfigurationDeleted': False,\n  'methodConfigurationName': 'PBFlowcell',\n  'methodConfigurationNamespace': 'production-long-reads',\n  'status': 'Done',\n  'submissionDate': '2021-12-18T13:58:43.132Z',\n  'submissionEntity': {'entityType': 'sample',\n   'entityName': '3a2b0e9f-0442-49f9-ad9b-69114f7f2ab8'},\n  'submissionId': '832d082b-c970-4a72-8361-c2f1c68e8ba6',\n  'submitter': 'shuang@broadinstitute.org',\n  'useCallCache': True,\n  'workflowStatuses': {'Succeeded': 1}},\n {'deleteIntermediateOutputFiles': False,\n  'methodConfigurationDeleted': False,\n  'methodConfigurationName': 'PBFlowcell',\n  'methodConfigurationNamespace': 'production-long-reads',\n  'status': 'Done',\n  'submissionDate': '2022-01-04T08:00:25.065Z',\n  'submissionEntity': {'entityType': 'sample',\n   'entityName': '58c04433-fa02-46c3-b127-cacaa83c6b43'},\n  'submissionId': '8391db9e-426d-4f6d-8820-3bb2d8282905',\n  'submitter': 'kiran@broadinstitute.org',\n  'useCallCache': True,\n  'workflowStatuses': {'Failed': 1}},\n {'deleteIntermediateOutputFiles': False,\n  'methodConfigurationDeleted': False,\n  'methodConfigurationName': 'PBFlowcell',\n  'methodConfigurationNamespace': 'production-long-reads',\n  'status': 'Done',\n  'submissionDate': '2021-12-18T13:58:51.262Z',\n  'submissionEntity': {'entityType': 'sample',\n   'entityName': 'f9dfd427-242d-432d-b17f-6f03a1ed164b'},\n  'submissionId': '83e1bf11-624d-4878-99fa-2bd41a3fa03e',\n  'submitter': 'shuang@broadinstitute.org',\n  'useCallCache': True,\n  'workflowStatuses': {'Succeeded': 1}},\n {'deleteIntermediateOutputFiles': False,\n  'methodConfigurationDeleted': False,\n  'methodConfigurationName': 'PBFlowcell',\n  'methodConfigurationNamespace': 'production-long-reads',\n  'status': 'Submitted',\n  'submissionDate': '2021-12-28T21:07:48.408Z',\n  'submissionEntity': {'entityType': 'sample',\n   'entityName': '2c6b0514-9531-47c5-89f7-50b0599d8f28'},\n  'submissionId': '84106ef9-623c-499e-8d3b-1f5fd00350b6',\n  'submitter': 'pet-109040943366503845135@production-long-reads.iam.gserviceaccount.com',\n  'useCallCache': True,\n  'workflowStatuses': {'Failed': 1}},\n {'deleteIntermediateOutputFiles': False,\n  'methodConfigurationDeleted': False,\n  'methodConfigurationName': 'PBFlowcell',\n  'methodConfigurationNamespace': 'production-long-reads',\n  'status': 'Done',\n  'submissionDate': '2021-12-29T00:29:29.988Z',\n  'submissionEntity': {'entityType': 'sample',\n   'entityName': '2c6b0514-9531-47c5-89f7-50b0599d8f28'},\n  'submissionId': '85fd2122-d91c-43cd-8ac9-6d2e080ddbd7',\n  'submitter': 'shuang@broadinstitute.org',\n  'useCallCache': True,\n  'workflowStatuses': {'Succeeded': 1}},\n {'deleteIntermediateOutputFiles': False,\n  'methodConfigurationDeleted': False,\n  'methodConfigurationName': 'PBFlowcell',\n  'methodConfigurationNamespace': 'production-long-reads',\n  'status': 'Submitted',\n  'submissionDate': '2021-12-28T21:07:51.983Z',\n  'submissionEntity': {'entityType': 'sample',\n   'entityName': 'e5f4e00c-29b6-488d-a02c-1d3a179f8ea6'},\n  'submissionId': '878ff2b6-7c03-481c-99c1-43a4d88c26c7',\n  'submitter': 'pet-109040943366503845135@production-long-reads.iam.gserviceaccount.com',\n  'useCallCache': True,\n  'workflowStatuses': {'Failed': 1}},\n {'deleteIntermediateOutputFiles': False,\n  'methodConfigurationDeleted': False,\n  'methodConfigurationName': 'PBFlowcell',\n  'methodConfigurationNamespace': 'production-long-reads',\n  'status': 'Done',\n  'submissionDate': '2021-12-17T13:28:31.475Z',\n  'submissionEntity': {'entityType': 'sample',\n   'entityName': '0ec460ef-b86b-42c7-8e71-b820c7557fab'},\n  'submissionId': '892e83c6-61af-4312-842c-10df5e675530',\n  'submitter': 'shuang@broadinstitute.org',\n  'useCallCache': False,\n  'workflowStatuses': {'Succeeded': 1}},\n {'deleteIntermediateOutputFiles': False,\n  'methodConfigurationDeleted': False,\n  'methodConfigurationName': 'PBFlowcell',\n  'methodConfigurationNamespace': 'production-long-reads',\n  'status': 'Done',\n  'submissionDate': '2021-12-18T13:58:46.321Z',\n  'submissionEntity': {'entityType': 'sample',\n   'entityName': '11375f9f-a828-4e68-9d8d-330a967fed22'},\n  'submissionId': '896cbae7-a269-4b2b-a77a-5f59f85b4efa',\n  'submitter': 'shuang@broadinstitute.org',\n  'useCallCache': True,\n  'workflowStatuses': {'Failed': 1}},\n {'deleteIntermediateOutputFiles': False,\n  'methodConfigurationDeleted': False,\n  'methodConfigurationName': 'PBFlowcell',\n  'methodConfigurationNamespace': 'production-long-reads',\n  'status': 'Done',\n  'submissionDate': '2021-12-17T02:58:21.297Z',\n  'submissionEntity': {'entityType': 'sample',\n   'entityName': 'd3423943-b1b4-4be7-ac31-5f9e173bb873'},\n  'submissionId': '8abc2e7e-9f05-43cf-8966-7327447b18b6',\n  'submitter': 'shuang@broadinstitute.org',\n  'useCallCache': False,\n  'workflowStatuses': {'Succeeded': 1}},\n {'deleteIntermediateOutputFiles': False,\n  'methodConfigurationDeleted': False,\n  'methodConfigurationName': 'PBFlowcell',\n  'methodConfigurationNamespace': 'production-long-reads',\n  'status': 'Done',\n  'submissionDate': '2022-01-03T20:00:41.374Z',\n  'submissionEntity': {'entityType': 'sample',\n   'entityName': 'd3423943-b1b4-4be7-ac31-5f9e173bb873'},\n  'submissionId': '8d0ecf01-4585-43e6-a629-7c7d7b046280',\n  'submitter': 'kiran@broadinstitute.org',\n  'useCallCache': True,\n  'workflowStatuses': {'Succeeded': 1}},\n {'deleteIntermediateOutputFiles': False,\n  'methodConfigurationDeleted': False,\n  'methodConfigurationName': 'PBFlowcell',\n  'methodConfigurationNamespace': 'production-long-reads',\n  'status': 'Done',\n  'submissionDate': '2021-12-29T00:44:30.000Z',\n  'submissionEntity': {'entityType': 'sample',\n   'entityName': 'e42ee260-c241-469e-b0f0-a949d87f01d6'},\n  'submissionId': '8ef4e70c-84a3-4a53-9ecf-e50b6a89f704',\n  'submitter': 'shuang@broadinstitute.org',\n  'useCallCache': True,\n  'workflowStatuses': {'Succeeded': 1}},\n {'deleteIntermediateOutputFiles': False,\n  'methodConfigurationDeleted': False,\n  'methodConfigurationName': 'PBFlowcell',\n  'methodConfigurationNamespace': 'production-long-reads',\n  'status': 'Aborted',\n  'submissionDate': '2021-12-29T02:36:20.580Z',\n  'submissionEntity': {'entityType': 'sample',\n   'entityName': '37f411ec-99a4-41af-83ad-1b69866ba2f2'},\n  'submissionId': '91452795-f7c7-41b6-81f7-850cd8bf4e52',\n  'submitter': 'shuang@broadinstitute.org',\n  'useCallCache': True,\n  'workflowStatuses': {'Aborted': 1}},\n {'deleteIntermediateOutputFiles': False,\n  'methodConfigurationDeleted': False,\n  'methodConfigurationName': 'PBFlowcell',\n  'methodConfigurationNamespace': 'production-long-reads',\n  'status': 'Done',\n  'submissionDate': '2022-01-05T20:00:38.680Z',\n  'submissionEntity': {'entityType': 'sample',\n   'entityName': 'e9fd70e7-f5b7-438d-b36b-5f6f9d626f37'},\n  'submissionId': '93377e79-e7a6-4ec0-b138-a1469b9e3889',\n  'submitter': 'kiran@broadinstitute.org',\n  'useCallCache': True,\n  'workflowStatuses': {'Succeeded': 1}},\n {'deleteIntermediateOutputFiles': False,\n  'methodConfigurationDeleted': False,\n  'methodConfigurationName': 'PBFlowcell',\n  'methodConfigurationNamespace': 'production-long-reads',\n  'status': 'Done',\n  'submissionDate': '2022-01-03T20:00:33.910Z',\n  'submissionEntity': {'entityType': 'sample',\n   'entityName': '716c5d32-776f-4ced-91d6-0cf39c231c2c'},\n  'submissionId': '95fad2f4-4bdf-4683-9f7c-294b0dbd01a3',\n  'submitter': 'kiran@broadinstitute.org',\n  'useCallCache': True,\n  'workflowStatuses': {'Failed': 1}},\n {'deleteIntermediateOutputFiles': False,\n  'methodConfigurationDeleted': False,\n  'methodConfigurationName': 'PBFlowcell',\n  'methodConfigurationNamespace': 'production-long-reads',\n  'status': 'Done',\n  'submissionDate': '2021-12-18T13:58:42.688Z',\n  'submissionEntity': {'entityType': 'sample',\n   'entityName': 'e08b2da2-ef7d-49cf-b1b3-e9450d7632d7'},\n  'submissionId': '962d658c-f2ed-4660-95b4-d4f0185920c8',\n  'submitter': 'shuang@broadinstitute.org',\n  'useCallCache': True,\n  'workflowStatuses': {'Failed': 1}},\n {'deleteIntermediateOutputFiles': False,\n  'methodConfigurationDeleted': False,\n  'methodConfigurationName': 'PBFlowcell',\n  'methodConfigurationNamespace': 'production-long-reads',\n  'status': 'Done',\n  'submissionDate': '2022-01-03T20:00:28.905Z',\n  'submissionEntity': {'entityType': 'sample',\n   'entityName': '38f96a92-e46e-4306-a9dd-00f374251daa'},\n  'submissionId': '972e1cb3-9bbd-4532-877c-b2bedf52e9cc',\n  'submitter': 'kiran@broadinstitute.org',\n  'useCallCache': True,\n  'workflowStatuses': {'Succeeded': 1}},\n {'deleteIntermediateOutputFiles': False,\n  'methodConfigurationDeleted': False,\n  'methodConfigurationName': 'PBFlowcell',\n  'methodConfigurationNamespace': 'production-long-reads',\n  'status': 'Done',\n  'submissionDate': '2021-12-18T13:58:53.943Z',\n  'submissionEntity': {'entityType': 'sample',\n   'entityName': 'c34b69f1-9ad4-4b35-9756-23ff943b4e76'},\n  'submissionId': '9b6a415a-66de-45d3-b7c4-fc8c870015ed',\n  'submitter': 'shuang@broadinstitute.org',\n  'useCallCache': True,\n  'workflowStatuses': {'Succeeded': 1}},\n {'deleteIntermediateOutputFiles': False,\n  'methodConfigurationDeleted': False,\n  'methodConfigurationName': 'PBFlowcell',\n  'methodConfigurationNamespace': 'production-long-reads',\n  'status': 'Done',\n  'submissionDate': '2022-01-04T08:00:32.418Z',\n  'submissionEntity': {'entityType': 'sample',\n   'entityName': 'e08b2da2-ef7d-49cf-b1b3-e9450d7632d7'},\n  'submissionId': '9d512e25-77be-451e-b5f9-0ec631334d1d',\n  'submitter': 'kiran@broadinstitute.org',\n  'useCallCache': True,\n  'workflowStatuses': {'Failed': 1}},\n {'deleteIntermediateOutputFiles': False,\n  'methodConfigurationDeleted': False,\n  'methodConfigurationName': 'PBFlowcell',\n  'methodConfigurationNamespace': 'production-long-reads',\n  'status': 'Done',\n  'submissionDate': '2021-12-17T13:00:49.867Z',\n  'submissionEntity': {'entityType': 'sample',\n   'entityName': '0ec460ef-b86b-42c7-8e71-b820c7557fab'},\n  'submissionId': '9dd4e3fd-bc14-4241-830d-1829e0976917',\n  'submitter': 'shuang@broadinstitute.org',\n  'useCallCache': False,\n  'userComment': '',\n  'workflowStatuses': {'Failed': 1}},\n {'deleteIntermediateOutputFiles': False,\n  'methodConfigurationDeleted': False,\n  'methodConfigurationName': 'PBFlowcell',\n  'methodConfigurationNamespace': 'production-long-reads',\n  'status': 'Done',\n  'submissionDate': '2022-01-06T20:00:35.645Z',\n  'submissionEntity': {'entityType': 'sample',\n   'entityName': 'd47e3a6d-01d0-4084-b65d-f63a0b94b4e1'},\n  'submissionId': '9e546269-2f51-4eb1-bbbf-7badbca82f56',\n  'submitter': 'kiran@broadinstitute.org',\n  'useCallCache': True,\n  'workflowStatuses': {'Succeeded': 1}},\n {'deleteIntermediateOutputFiles': False,\n  'methodConfigurationDeleted': False,\n  'methodConfigurationName': 'PBFlowcell',\n  'methodConfigurationNamespace': 'production-long-reads',\n  'status': 'Done',\n  'submissionDate': '2022-01-03T20:00:29.470Z',\n  'submissionEntity': {'entityType': 'sample',\n   'entityName': '3c4d6ce3-d33e-42fa-9589-6e6de7eb0c96'},\n  'submissionId': '9f1e11ef-255b-400e-96ac-e013fdfc3228',\n  'submitter': 'kiran@broadinstitute.org',\n  'useCallCache': True,\n  'workflowStatuses': {'Succeeded': 1}},\n {'deleteIntermediateOutputFiles': False,\n  'methodConfigurationDeleted': False,\n  'methodConfigurationName': 'PBFlowcell',\n  'methodConfigurationNamespace': 'production-long-reads',\n  'status': 'Done',\n  'submissionDate': '2021-12-29T00:29:32.080Z',\n  'submissionEntity': {'entityType': 'sample',\n   'entityName': '37f411ec-99a4-41af-83ad-1b69866ba2f2'},\n  'submissionId': 'a1ba8562-1283-48d7-94ff-7b0b25a730bb',\n  'submitter': 'shuang@broadinstitute.org',\n  'useCallCache': True,\n  'workflowStatuses': {'Succeeded': 1}},\n {'deleteIntermediateOutputFiles': False,\n  'methodConfigurationDeleted': False,\n  'methodConfigurationName': 'PBFlowcell',\n  'methodConfigurationNamespace': 'production-long-reads',\n  'status': 'Done',\n  'submissionDate': '2021-12-23T04:17:13.368Z',\n  'submissionEntity': {'entityType': 'sample',\n   'entityName': 'c71e23e1-28b7-45c0-a755-39238f5b21e4'},\n  'submissionId': 'a3231952-c2d2-44da-9aa0-b77c8235c5bc',\n  'submitter': 'shuang@broadinstitute.org',\n  'useCallCache': False,\n  'userComment': '',\n  'workflowStatuses': {'Succeeded': 1}},\n {'deleteIntermediateOutputFiles': False,\n  'methodConfigurationDeleted': False,\n  'methodConfigurationName': 'PBFlowcell',\n  'methodConfigurationNamespace': 'production-long-reads',\n  'status': 'Done',\n  'submissionDate': '2021-12-25T16:32:45.449Z',\n  'submissionEntity': {'entityType': 'sample',\n   'entityName': '75528888-aec4-4f6c-b050-d98043ba5c2c'},\n  'submissionId': 'a43712bb-5f89-443f-aef8-16ebaec06b89',\n  'submitter': 'shuang@broadinstitute.org',\n  'useCallCache': True,\n  'workflowStatuses': {'Succeeded': 1}},\n {'deleteIntermediateOutputFiles': False,\n  'methodConfigurationDeleted': False,\n  'methodConfigurationName': 'PBFlowcell',\n  'methodConfigurationNamespace': 'production-long-reads',\n  'status': 'Submitted',\n  'submissionDate': '2021-12-28T18:05:29.750Z',\n  'submissionEntity': {'entityType': 'sample',\n   'entityName': '37f411ec-99a4-41af-83ad-1b69866ba2f2'},\n  'submissionId': 'a470a143-36f7-40e5-bc4b-0226db6e2997',\n  'submitter': 'pet-109040943366503845135@production-long-reads.iam.gserviceaccount.com',\n  'useCallCache': True,\n  'workflowStatuses': {'Failed': 1}},\n {'deleteIntermediateOutputFiles': False,\n  'methodConfigurationDeleted': False,\n  'methodConfigurationName': 'PBFlowcell',\n  'methodConfigurationNamespace': 'production-long-reads',\n  'status': 'Done',\n  'submissionDate': '2021-12-18T13:58:45.344Z',\n  'submissionEntity': {'entityType': 'sample',\n   'entityName': 'a6bb8c5c-f6de-4f25-923f-2ddaa89da5c2'},\n  'submissionId': 'a6c45408-054a-49e7-8752-ccec4165c2c3',\n  'submitter': 'shuang@broadinstitute.org',\n  'useCallCache': True,\n  'workflowStatuses': {'Succeeded': 1}},\n {'deleteIntermediateOutputFiles': False,\n  'methodConfigurationDeleted': False,\n  'methodConfigurationName': 'PBFlowcell',\n  'methodConfigurationNamespace': 'production-long-reads',\n  'status': 'Done',\n  'submissionDate': '2021-12-29T01:02:01.923Z',\n  'submissionEntity': {'entityType': 'sample',\n   'entityName': '37f411ec-99a4-41af-83ad-1b69866ba2f2'},\n  'submissionId': 'a7b374d5-03e8-4255-9e4e-cac2539c4c6a',\n  'submitter': 'shuang@broadinstitute.org',\n  'useCallCache': True,\n  'workflowStatuses': {'Succeeded': 1}},\n {'deleteIntermediateOutputFiles': False,\n  'methodConfigurationDeleted': False,\n  'methodConfigurationName': 'PBFlowcell',\n  'methodConfigurationNamespace': 'production-long-reads',\n  'status': 'Done',\n  'submissionDate': '2022-01-06T14:09:09.677Z',\n  'submissionEntity': {'entityType': 'sample',\n   'entityName': 'a7013a6d-c784-4d52-b339-be42e28c7f4b'},\n  'submissionId': 'a8d8d25c-24c9-4473-b53e-944029173460',\n  'submitter': 'shuang@broadinstitute.org',\n  'useCallCache': True,\n  'workflowStatuses': {'Failed': 1}},\n {'deleteIntermediateOutputFiles': False,\n  'methodConfigurationDeleted': False,\n  'methodConfigurationName': 'PBFlowcell',\n  'methodConfigurationNamespace': 'production-long-reads',\n  'status': 'Done',\n  'submissionDate': '2022-01-06T08:00:32.174Z',\n  'submissionEntity': {'entityType': 'sample',\n   'entityName': 'f33c5e86-bc7d-4f2e-85d4-466b1d18b5ae'},\n  'submissionId': 'ab5884ef-56d2-41bc-9c99-c44fe8ef1741',\n  'submitter': 'kiran@broadinstitute.org',\n  'useCallCache': True,\n  'workflowStatuses': {'Succeeded': 1}},\n {'deleteIntermediateOutputFiles': False,\n  'methodConfigurationDeleted': False,\n  'methodConfigurationName': 'PBFlowcell',\n  'methodConfigurationNamespace': 'production-long-reads',\n  'status': 'Done',\n  'submissionDate': '2021-12-18T13:58:46.731Z',\n  'submissionEntity': {'entityType': 'sample',\n   'entityName': '422cd57f-f466-4eef-baa0-6ae8593f89f2'},\n  'submissionId': 'ab8a7edf-b8b2-4137-9cd1-f8e2b54f9cde',\n  'submitter': 'shuang@broadinstitute.org',\n  'useCallCache': True,\n  'workflowStatuses': {'Failed': 1}},\n {'deleteIntermediateOutputFiles': False,\n  'methodConfigurationDeleted': False,\n  'methodConfigurationName': 'PBFlowcell',\n  'methodConfigurationNamespace': 'production-long-reads',\n  'status': 'Done',\n  'submissionDate': '2021-12-18T16:19:26.960Z',\n  'submissionEntity': {'entityType': 'sample',\n   'entityName': '422cd57f-f466-4eef-baa0-6ae8593f89f2'},\n  'submissionId': 'ab9ef4a6-a7dd-4119-933d-dfac5fe86577',\n  'submitter': 'shuang@broadinstitute.org',\n  'useCallCache': True,\n  'workflowStatuses': {'Failed': 1}},\n {'deleteIntermediateOutputFiles': False,\n  'methodConfigurationDeleted': False,\n  'methodConfigurationName': 'PBFlowcell',\n  'methodConfigurationNamespace': 'production-long-reads',\n  'status': 'Done',\n  'submissionDate': '2021-12-24T16:53:06.470Z',\n  'submissionEntity': {'entityType': 'sample',\n   'entityName': '422cd57f-f466-4eef-baa0-6ae8593f89f2'},\n  'submissionId': 'ac2da6b0-9d19-4380-b141-490dd437a8ce',\n  'submitter': 'shuang@broadinstitute.org',\n  'useCallCache': True,\n  'workflowStatuses': {'Failed': 1}},\n {'deleteIntermediateOutputFiles': False,\n  'methodConfigurationDeleted': False,\n  'methodConfigurationName': 'PBFlowcell',\n  'methodConfigurationNamespace': 'production-long-reads',\n  'status': 'Done',\n  'submissionDate': '2021-12-29T00:44:28.029Z',\n  'submissionEntity': {'entityType': 'sample',\n   'entityName': '2c6b0514-9531-47c5-89f7-50b0599d8f28'},\n  'submissionId': 'b2e0d65e-a0c4-4f93-922a-6282d4894f29',\n  'submitter': 'shuang@broadinstitute.org',\n  'useCallCache': True,\n  'workflowStatuses': {'Succeeded': 1}},\n {'deleteIntermediateOutputFiles': False,\n  'methodConfigurationDeleted': False,\n  'methodConfigurationName': 'PBFlowcell',\n  'methodConfigurationNamespace': 'production-long-reads',\n  'status': 'Done',\n  'submissionDate': '2021-12-18T13:58:43.555Z',\n  'submissionEntity': {'entityType': 'sample',\n   'entityName': '8c7833b5-00d2-4646-bb74-d73802455bbb'},\n  'submissionId': 'b7982379-b22a-428b-ab4c-df994ccd59ea',\n  'submitter': 'shuang@broadinstitute.org',\n  'useCallCache': True,\n  'workflowStatuses': {'Succeeded': 1}},\n {'deleteIntermediateOutputFiles': False,\n  'methodConfigurationDeleted': False,\n  'methodConfigurationName': 'PBFlowcell',\n  'methodConfigurationNamespace': 'production-long-reads',\n  'status': 'Done',\n  'submissionDate': '2021-12-18T13:58:52.235Z',\n  'submissionEntity': {'entityType': 'sample',\n   'entityName': 'e3001610-3da5-446f-ae57-e0ff8a8795f6'},\n  'submissionId': 'b7eb1517-f0d5-4505-92c3-719650006eeb',\n  'submitter': 'shuang@broadinstitute.org',\n  'useCallCache': True,\n  'workflowStatuses': {'Failed': 1}},\n {'deleteIntermediateOutputFiles': False,\n  'methodConfigurationDeleted': False,\n  'methodConfigurationName': 'PBFlowcell',\n  'methodConfigurationNamespace': 'production-long-reads',\n  'status': 'Done',\n  'submissionDate': '2021-12-17T02:58:17.851Z',\n  'submissionEntity': {'entityType': 'sample',\n   'entityName': '28ad40f5-76b3-4ca2-a35d-9822eb25cb96'},\n  'submissionId': 'b8076887-d175-4a84-9a24-55b2bcf5c073',\n  'submitter': 'shuang@broadinstitute.org',\n  'useCallCache': False,\n  'workflowStatuses': {'Succeeded': 1}},\n {'deleteIntermediateOutputFiles': False,\n  'methodConfigurationDeleted': False,\n  'methodConfigurationName': 'PBFlowcell',\n  'methodConfigurationNamespace': 'production-long-reads',\n  'status': 'Done',\n  'submissionDate': '2022-01-06T20:00:29.794Z',\n  'submissionEntity': {'entityType': 'sample',\n   'entityName': '5eea804c-e618-4468-acb5-7c14a8c96143'},\n  'submissionId': 'bc25ed67-adba-410a-9ea7-a5e6804033c6',\n  'submitter': 'kiran@broadinstitute.org',\n  'useCallCache': True,\n  'workflowStatuses': {'Succeeded': 1}},\n {'deleteIntermediateOutputFiles': False,\n  'methodConfigurationDeleted': False,\n  'methodConfigurationName': 'PBFlowcell',\n  'methodConfigurationNamespace': 'production-long-reads',\n  'status': 'Done',\n  'submissionDate': '2021-12-17T02:58:19.060Z',\n  'submissionEntity': {'entityType': 'sample',\n   'entityName': '3c4d6ce3-d33e-42fa-9589-6e6de7eb0c96'},\n  'submissionId': 'bd200f03-ffad-490c-920d-2e66dfd5034c',\n  'submitter': 'shuang@broadinstitute.org',\n  'useCallCache': False,\n  'workflowStatuses': {'Succeeded': 1}},\n {'deleteIntermediateOutputFiles': False,\n  'methodConfigurationDeleted': False,\n  'methodConfigurationName': 'PBFlowcell',\n  'methodConfigurationNamespace': 'production-long-reads',\n  'status': 'Done',\n  'submissionDate': '2021-12-17T13:01:26.431Z',\n  'submissionEntity': {'entityType': 'sample',\n   'entityName': '0ec460ef-b86b-42c7-8e71-b820c7557fab'},\n  'submissionId': 'c34b0cab-f79f-4ef4-8430-07b868cd7066',\n  'submitter': 'shuang@broadinstitute.org',\n  'useCallCache': False,\n  'workflowStatuses': {'Failed': 1}},\n {'deleteIntermediateOutputFiles': False,\n  'methodConfigurationDeleted': False,\n  'methodConfigurationName': 'PBFlowcell',\n  'methodConfigurationNamespace': 'production-long-reads',\n  'status': 'Done',\n  'submissionDate': '2021-12-20T19:29:36.635Z',\n  'submissionEntity': {'entityType': 'sample',\n   'entityName': '785accf1-ebd8-4b43-a3aa-2d1998382491'},\n  'submissionId': 'c5706b50-8317-4ffb-a0a3-81289bc58aeb',\n  'submitter': 'shuang@broadinstitute.org',\n  'useCallCache': True,\n  'workflowStatuses': {'Succeeded': 1}},\n {'deleteIntermediateOutputFiles': False,\n  'methodConfigurationDeleted': False,\n  'methodConfigurationName': 'PBFlowcell',\n  'methodConfigurationNamespace': 'production-long-reads',\n  'status': 'Done',\n  'submissionDate': '2021-12-18T13:58:50.794Z',\n  'submissionEntity': {'entityType': 'sample',\n   'entityName': '933d682d-f5e6-4fcd-b541-e41aa744ebf5'},\n  'submissionId': 'c649e763-0b79-4433-aedc-ed03120c69ef',\n  'submitter': 'shuang@broadinstitute.org',\n  'useCallCache': True,\n  'workflowStatuses': {'Failed': 1}},\n {'deleteIntermediateOutputFiles': False,\n  'methodConfigurationDeleted': False,\n  'methodConfigurationName': 'PBFlowcell',\n  'methodConfigurationNamespace': 'production-long-reads',\n  'status': 'Done',\n  'submissionDate': '2021-12-22T14:23:45.350Z',\n  'submissionEntity': {'entityType': 'sample',\n   'entityName': 'df027e46-52a6-49e9-b9f1-1380f4fc9d9d'},\n  'submissionId': 'c9563a79-396e-4ca7-a8d8-b631e45df1fb',\n  'submitter': 'shuang@broadinstitute.org',\n  'useCallCache': True,\n  'workflowStatuses': {'Succeeded': 1}},\n {'deleteIntermediateOutputFiles': False,\n  'methodConfigurationDeleted': False,\n  'methodConfigurationName': 'PBFlowcell',\n  'methodConfigurationNamespace': 'production-long-reads',\n  'status': 'Done',\n  'submissionDate': '2022-01-04T08:00:26.593Z',\n  'submissionEntity': {'entityType': 'sample',\n   'entityName': '716c5d32-776f-4ced-91d6-0cf39c231c2c'},\n  'submissionId': 'ca077f7d-c033-489a-bd72-fd2c889f5833',\n  'submitter': 'kiran@broadinstitute.org',\n  'useCallCache': True,\n  'workflowStatuses': {'Failed': 1}},\n {'deleteIntermediateOutputFiles': False,\n  'methodConfigurationDeleted': False,\n  'methodConfigurationName': 'PBFlowcell',\n  'methodConfigurationNamespace': 'production-long-reads',\n  'status': 'Done',\n  'submissionDate': '2021-12-29T01:01:59.099Z',\n  'submissionEntity': {'entityType': 'sample',\n   'entityName': '2c6b0514-9531-47c5-89f7-50b0599d8f28'},\n  'submissionId': 'cb53f761-2662-4c59-9701-201ba7dabbcb',\n  'submitter': 'shuang@broadinstitute.org',\n  'useCallCache': True,\n  'workflowStatuses': {'Succeeded': 1}},\n {'deleteIntermediateOutputFiles': False,\n  'methodConfigurationDeleted': False,\n  'methodConfigurationName': 'PBFlowcell',\n  'methodConfigurationNamespace': 'production-long-reads',\n  'status': 'Done',\n  'submissionDate': '2021-12-22T14:23:48.698Z',\n  'submissionEntity': {'entityType': 'sample',\n   'entityName': 'f465fd3c-d654-4342-b3e6-6fac89b5f603'},\n  'submissionId': 'cc517fbb-a444-4fda-b9f1-de3ed8d8fd8d',\n  'submitter': 'shuang@broadinstitute.org',\n  'useCallCache': True,\n  'workflowStatuses': {'Succeeded': 1}},\n {'deleteIntermediateOutputFiles': False,\n  'methodConfigurationDeleted': False,\n  'methodConfigurationName': 'PBFlowcell',\n  'methodConfigurationNamespace': 'production-long-reads',\n  'status': 'Done',\n  'submissionDate': '2022-01-03T06:52:24.010Z',\n  'submissionEntity': {'entityType': 'sample',\n   'entityName': 'd0ffb87e-b76e-44d4-88f0-fac4bb7ed263'},\n  'submissionId': 'cdb3b088-af2e-449a-96d8-512fcc4287da',\n  'submitter': 'kiran@broadinstitute.org',\n  'useCallCache': True,\n  'workflowStatuses': {'Succeeded': 1}},\n {'deleteIntermediateOutputFiles': False,\n  'methodConfigurationDeleted': False,\n  'methodConfigurationName': 'PBFlowcell',\n  'methodConfigurationNamespace': 'production-long-reads',\n  'status': 'Aborted',\n  'submissionDate': '2021-12-29T02:09:13.674Z',\n  'submissionEntity': {'entityType': 'sample',\n   'entityName': '37f411ec-99a4-41af-83ad-1b69866ba2f2'},\n  'submissionId': 'ce4cdc60-d0c6-47d9-adb4-d4291ae13a5f',\n  'submitter': 'shuang@broadinstitute.org',\n  'useCallCache': True,\n  'workflowStatuses': {'Aborted': 1}},\n {'deleteIntermediateOutputFiles': False,\n  'methodConfigurationDeleted': False,\n  'methodConfigurationName': 'PBFlowcell',\n  'methodConfigurationNamespace': 'production-long-reads',\n  'status': 'Done',\n  'submissionDate': '2021-12-18T13:58:44.846Z',\n  'submissionEntity': {'entityType': 'sample',\n   'entityName': '7ea35aeb-6f12-449c-882d-0f4b3976b9ce'},\n  'submissionId': 'd348c371-5cf0-4327-817a-917faf878b8b',\n  'submitter': 'shuang@broadinstitute.org',\n  'useCallCache': True,\n  'workflowStatuses': {'Failed': 1}},\n {'deleteIntermediateOutputFiles': False,\n  'methodConfigurationDeleted': False,\n  'methodConfigurationName': 'PBFlowcell',\n  'methodConfigurationNamespace': 'production-long-reads',\n  'status': 'Done',\n  'submissionDate': '2022-01-03T20:00:30.914Z',\n  'submissionEntity': {'entityType': 'sample',\n   'entityName': '4d8d8a25-d525-4769-b826-175e52138cdc'},\n  'submissionId': 'd3531cd1-6205-428a-9e66-5a37f25ad4bf',\n  'submitter': 'kiran@broadinstitute.org',\n  'useCallCache': True,\n  'workflowStatuses': {'Succeeded': 1}},\n {'deleteIntermediateOutputFiles': False,\n  'methodConfigurationDeleted': False,\n  'methodConfigurationName': 'PBFlowcell',\n  'methodConfigurationNamespace': 'production-long-reads',\n  'status': 'Aborted',\n  'submissionDate': '2021-12-29T02:08:17.036Z',\n  'submissionEntity': {'entityType': 'sample',\n   'entityName': '37f411ec-99a4-41af-83ad-1b69866ba2f2'},\n  'submissionId': 'd37c7cf8-8905-4902-8952-94f7ba4eab58',\n  'submitter': 'shuang@broadinstitute.org',\n  'useCallCache': True,\n  'workflowStatuses': {'Aborted': 1}},\n {'deleteIntermediateOutputFiles': False,\n  'methodConfigurationDeleted': False,\n  'methodConfigurationName': 'PBFlowcell',\n  'methodConfigurationNamespace': 'production-long-reads',\n  'status': 'Done',\n  'submissionDate': '2022-01-05T20:00:36.781Z',\n  'submissionEntity': {'entityType': 'sample',\n   'entityName': 'd47e3a6d-01d0-4084-b65d-f63a0b94b4e1'},\n  'submissionId': 'd3a28178-5c8b-4adc-98aa-52501d19b166',\n  'submitter': 'kiran@broadinstitute.org',\n  'useCallCache': True,\n  'workflowStatuses': {'Succeeded': 1}},\n {'deleteIntermediateOutputFiles': False,\n  'methodConfigurationDeleted': False,\n  'methodConfigurationName': 'PBFlowcell',\n  'methodConfigurationNamespace': 'production-long-reads',\n  'status': 'Done',\n  'submissionDate': '2021-12-22T14:23:49.634Z',\n  'submissionEntity': {'entityType': 'sample',\n   'entityName': 'fafa9663-dd99-48e8-831b-576cc7cf96a3'},\n  'submissionId': 'd640a86b-004b-437c-ae87-04824083827f',\n  'submitter': 'shuang@broadinstitute.org',\n  'useCallCache': True,\n  'workflowStatuses': {'Succeeded': 1}},\n {'deleteIntermediateOutputFiles': False,\n  'methodConfigurationDeleted': False,\n  'methodConfigurationName': 'PBFlowcell',\n  'methodConfigurationNamespace': 'production-long-reads',\n  'status': 'Done',\n  'submissionDate': '2021-12-17T02:58:19.948Z',\n  'submissionEntity': {'entityType': 'sample',\n   'entityName': '4d8d8a25-d525-4769-b826-175e52138cdc'},\n  'submissionId': 'd6b924e3-42a9-499c-9954-8f1908709a99',\n  'submitter': 'shuang@broadinstitute.org',\n  'useCallCache': False,\n  'workflowStatuses': {'Succeeded': 1}},\n {'deleteIntermediateOutputFiles': False,\n  'methodConfigurationDeleted': False,\n  'methodConfigurationName': 'PBFlowcell',\n  'methodConfigurationNamespace': 'production-long-reads',\n  'status': 'Done',\n  'submissionDate': '2022-01-03T20:00:42.208Z',\n  'submissionEntity': {'entityType': 'sample',\n   'entityName': 'dfad1eae-661f-45a6-9d1c-11097d47107b'},\n  'submissionId': 'd7cd1670-406a-48c9-9051-7ac235bd1902',\n  'submitter': 'kiran@broadinstitute.org',\n  'useCallCache': True,\n  'workflowStatuses': {'Succeeded': 1}},\n {'deleteIntermediateOutputFiles': False,\n  'methodConfigurationDeleted': False,\n  'methodConfigurationName': 'PBFlowcell',\n  'methodConfigurationNamespace': 'production-long-reads',\n  'status': 'Done',\n  'submissionDate': '2022-01-06T12:00:26.079Z',\n  'submissionEntity': {'entityType': 'sample',\n   'entityName': '777c2eba-f608-4895-8f82-c283234fc37a'},\n  'submissionId': 'de1d715a-bb50-48be-86da-0b957b72e75e',\n  'submitter': '602335226495-compute@developer.gserviceaccount.com',\n  'useCallCache': True,\n  'workflowStatuses': {'Succeeded': 1}},\n {'deleteIntermediateOutputFiles': False,\n  'methodConfigurationDeleted': False,\n  'methodConfigurationName': 'PBFlowcell',\n  'methodConfigurationNamespace': 'production-long-reads',\n  'status': 'Done',\n  'submissionDate': '2022-01-06T20:00:34.157Z',\n  'submissionEntity': {'entityType': 'sample',\n   'entityName': 'b93737a8-ce9f-41c3-8d2b-9153f53cdeb0'},\n  'submissionId': 'df97a8f3-6af3-4070-9eb1-b8095c2ab62a',\n  'submitter': 'kiran@broadinstitute.org',\n  'useCallCache': True,\n  'workflowStatuses': {'Succeeded': 1}},\n {'deleteIntermediateOutputFiles': False,\n  'methodConfigurationDeleted': False,\n  'methodConfigurationName': 'PBFlowcell',\n  'methodConfigurationNamespace': 'production-long-reads',\n  'status': 'Done',\n  'submissionDate': '2022-01-05T12:00:25.955Z',\n  'submissionEntity': {'entityType': 'sample',\n   'entityName': 'd47e3a6d-01d0-4084-b65d-f63a0b94b4e1'},\n  'submissionId': 'e3610878-8c1b-41bf-8ba0-95dea3ab0841',\n  'submitter': '602335226495-compute@developer.gserviceaccount.com',\n  'useCallCache': True,\n  'workflowStatuses': {'Failed': 1}},\n {'deleteIntermediateOutputFiles': False,\n  'methodConfigurationDeleted': False,\n  'methodConfigurationName': 'PBFlowcell',\n  'methodConfigurationNamespace': 'production-long-reads',\n  'status': 'Submitted',\n  'submissionDate': '2021-12-28T18:05:29.342Z',\n  'submissionEntity': {'entityType': 'sample',\n   'entityName': 'e42ee260-c241-469e-b0f0-a949d87f01d6'},\n  'submissionId': 'e50e219c-31b7-4bf6-a9b2-27c53efece23',\n  'submitter': 'pet-109040943366503845135@production-long-reads.iam.gserviceaccount.com',\n  'useCallCache': True,\n  'workflowStatuses': {'Failed': 1}},\n {'deleteIntermediateOutputFiles': False,\n  'methodConfigurationDeleted': False,\n  'methodConfigurationName': 'PBFlowcell',\n  'methodConfigurationNamespace': 'production-long-reads',\n  'status': 'Done',\n  'submissionDate': '2021-12-24T01:33:16.836Z',\n  'submissionEntity': {'entityType': 'sample',\n   'entityName': 'e2b1beab-1a43-487c-b225-1103841b0549'},\n  'submissionId': 'e886c7cb-74b5-4a3d-a6d4-b65c2316cd7e',\n  'submitter': 'shuang@broadinstitute.org',\n  'useCallCache': True,\n  'workflowStatuses': {'Succeeded': 1}},\n {'deleteIntermediateOutputFiles': False,\n  'methodConfigurationDeleted': False,\n  'methodConfigurationName': 'PBFlowcell',\n  'methodConfigurationNamespace': 'production-long-reads',\n  'status': 'Done',\n  'submissionDate': '2021-12-18T13:58:52.651Z',\n  'submissionEntity': {'entityType': 'sample',\n   'entityName': '2d4d4946-9f20-48c0-b5df-f0af029fae07'},\n  'submissionId': 'eae77137-7734-4f13-a2c6-553f48d9a261',\n  'submitter': 'shuang@broadinstitute.org',\n  'useCallCache': True,\n  'workflowStatuses': {'Succeeded': 1}},\n {'deleteIntermediateOutputFiles': False,\n  'methodConfigurationDeleted': False,\n  'methodConfigurationName': 'PBFlowcell',\n  'methodConfigurationNamespace': 'production-long-reads',\n  'status': 'Done',\n  'submissionDate': '2021-12-18T13:58:49.393Z',\n  'submissionEntity': {'entityType': 'sample',\n   'entityName': 'e7c51bc8-ed99-41c6-95da-cfb32a60b364'},\n  'submissionId': 'ec9feb74-745f-4230-bfc6-7d947ec29629',\n  'submitter': 'shuang@broadinstitute.org',\n  'useCallCache': True,\n  'workflowStatuses': {'Succeeded': 1}},\n {'deleteIntermediateOutputFiles': False,\n  'methodConfigurationDeleted': False,\n  'methodConfigurationName': 'PBFlowcell',\n  'methodConfigurationNamespace': 'production-long-reads',\n  'status': 'Done',\n  'submissionDate': '2021-12-26T16:02:44.022Z',\n  'submissionEntity': {'entityType': 'sample',\n   'entityName': 'dfad1eae-661f-45a6-9d1c-11097d47107b'},\n  'submissionId': 'ee619085-e787-4e40-99dc-aea31433172d',\n  'submitter': 'shuang@broadinstitute.org',\n  'useCallCache': True,\n  'workflowStatuses': {'Succeeded': 1}},\n {'deleteIntermediateOutputFiles': False,\n  'methodConfigurationDeleted': False,\n  'methodConfigurationName': 'PBFlowcell',\n  'methodConfigurationNamespace': 'production-long-reads',\n  'status': 'Done',\n  'submissionDate': '2022-01-06T12:00:26.858Z',\n  'submissionEntity': {'entityType': 'sample',\n   'entityName': 'a7013a6d-c784-4d52-b339-be42e28c7f4b'},\n  'submissionId': 'f175afab-6636-489b-a3e8-5a12a113fb76',\n  'submitter': '602335226495-compute@developer.gserviceaccount.com',\n  'useCallCache': True,\n  'workflowStatuses': {'Failed': 1}},\n {'deleteIntermediateOutputFiles': False,\n  'methodConfigurationDeleted': False,\n  'methodConfigurationName': 'PBFlowcell',\n  'methodConfigurationNamespace': 'production-long-reads',\n  'status': 'Aborted',\n  'submissionDate': '2021-12-29T02:09:14.285Z',\n  'submissionEntity': {'entityType': 'sample',\n   'entityName': 'e5f4e00c-29b6-488d-a02c-1d3a179f8ea6'},\n  'submissionId': 'f206dfe0-f279-4028-80db-54860bcf31e4',\n  'submitter': 'shuang@broadinstitute.org',\n  'useCallCache': True,\n  'workflowStatuses': {'Aborted': 1}},\n {'deleteIntermediateOutputFiles': False,\n  'methodConfigurationDeleted': False,\n  'methodConfigurationName': 'PBFlowcell',\n  'methodConfigurationNamespace': 'production-long-reads',\n  'status': 'Done',\n  'submissionDate': '2021-12-29T00:29:30.825Z',\n  'submissionEntity': {'entityType': 'sample',\n   'entityName': 'e42ee260-c241-469e-b0f0-a949d87f01d6'},\n  'submissionId': 'f223d646-f43a-4d3c-928c-e08a7867aa81',\n  'submitter': 'shuang@broadinstitute.org',\n  'useCallCache': True,\n  'workflowStatuses': {'Succeeded': 1}},\n {'deleteIntermediateOutputFiles': False,\n  'methodConfigurationDeleted': False,\n  'methodConfigurationName': 'PBFlowcell',\n  'methodConfigurationNamespace': 'production-long-reads',\n  'status': 'Done',\n  'submissionDate': '2021-12-26T16:02:41.662Z',\n  'submissionEntity': {'entityType': 'sample',\n   'entityName': 'bf10cdd7-7953-4d24-9e1e-f063b44d3693'},\n  'submissionId': 'f33cb177-fae6-4104-a7fa-e9af1a2cbfe0',\n  'submitter': 'shuang@broadinstitute.org',\n  'useCallCache': True,\n  'workflowStatuses': {'Succeeded': 1}},\n {'deleteIntermediateOutputFiles': False,\n  'methodConfigurationDeleted': False,\n  'methodConfigurationName': 'PBFlowcell',\n  'methodConfigurationNamespace': 'production-long-reads',\n  'status': 'Done',\n  'submissionDate': '2021-12-17T03:57:56.888Z',\n  'submissionEntity': {'entityType': 'sample',\n   'entityName': '0ec460ef-b86b-42c7-8e71-b820c7557fab'},\n  'submissionId': 'f4f4f731-4c5b-46a7-a9b5-41ba9c95b283',\n  'submitter': 'shuang@broadinstitute.org',\n  'useCallCache': False,\n  'workflowStatuses': {'Failed': 1}},\n {'deleteIntermediateOutputFiles': False,\n  'methodConfigurationDeleted': False,\n  'methodConfigurationName': 'PBFlowcell',\n  'methodConfigurationNamespace': 'production-long-reads',\n  'status': 'Done',\n  'submissionDate': '2021-12-17T02:58:17.437Z',\n  'submissionEntity': {'entityType': 'sample',\n   'entityName': '0f5efbbc-21da-4480-80de-f396676c978e'},\n  'submissionId': 'f55d0a2c-884e-4a15-bb22-70e92573391f',\n  'submitter': 'shuang@broadinstitute.org',\n  'useCallCache': False,\n  'workflowStatuses': {'Succeeded': 1}},\n {'deleteIntermediateOutputFiles': False,\n  'methodConfigurationDeleted': False,\n  'methodConfigurationName': 'PBFlowcell',\n  'methodConfigurationNamespace': 'production-long-reads',\n  'status': 'Done',\n  'submissionDate': '2022-01-06T12:00:26.483Z',\n  'submissionEntity': {'entityType': 'sample',\n   'entityName': '6b7b4f05-627f-4d88-8242-2d675012262e'},\n  'submissionId': 'f865afa5-5550-45db-bf6f-764d75a67f77',\n  'submitter': '602335226495-compute@developer.gserviceaccount.com',\n  'useCallCache': True,\n  'workflowStatuses': {'Succeeded': 1}},\n {'deleteIntermediateOutputFiles': False,\n  'methodConfigurationDeleted': False,\n  'methodConfigurationName': 'PBFlowcell',\n  'methodConfigurationNamespace': 'production-long-reads',\n  'status': 'Done',\n  'submissionDate': '2021-12-29T00:29:32.621Z',\n  'submissionEntity': {'entityType': 'sample',\n   'entityName': 'e5f4e00c-29b6-488d-a02c-1d3a179f8ea6'},\n  'submissionId': 'fd023699-aa33-4794-a499-d1bd5fd3e132',\n  'submitter': 'shuang@broadinstitute.org',\n  'useCallCache': True,\n  'workflowStatuses': {'Succeeded': 1}}]"
     },
     "execution_count": 45,
     "metadata": {},
     "output_type": "execute_result"
    }
   ],
   "source": [
    "filtered_down_jobs"
   ],
   "metadata": {
    "collapsed": false,
    "pycharm": {
     "name": "#%%\n"
    }
   }
  },
  {
   "cell_type": "code",
   "execution_count": 54,
   "outputs": [],
   "source": [
    "def __no_success_analysis(submission_metadata: dict) -> bool:\n",
    "    if 'Submitted' == submission_metadata['status']:\n",
    "        if 'Running' in submission_metadata['workflowStatuses']:\n",
    "            return False\n",
    "        if 'Failed' in submission_metadata['workflowStatuses']:\n",
    "            return True\n",
    "\n",
    "    if 'Done' == submission_metadata['status']:\n",
    "        return 'Succeeded' not in submission_metadata['workflowStatuses']"
   ],
   "metadata": {
    "collapsed": false,
    "pycharm": {
     "name": "#%%\n"
    }
   }
  },
  {
   "cell_type": "code",
   "execution_count": null,
   "outputs": [],
   "source": [
    "['a7013a6d-c784-4d52-b339-be42e28c7f4b',\n",
    " '66200c03-2e0c-4e45-a037-855e48a204a7',\n",
    " '3894997c-6eab-497f-a8a9-0417ce985e6a']"
   ],
   "metadata": {
    "collapsed": false,
    "pycharm": {
     "name": "#%%\n"
    }
   }
  },
  {
   "cell_type": "code",
   "execution_count": 60,
   "outputs": [
    {
     "name": "stdout",
     "output_type": "stream",
     "text": [
      "False\n"
     ]
    }
   ],
   "source": [
    "for job in filtered_down_jobs:\n",
    "    if job['submissionEntity']['entityName'] == '3894997c-6eab-497f-a8a9-0417ce985e6a':\n",
    "        print(__no_success_analysis(job))"
   ],
   "metadata": {
    "collapsed": false,
    "pycharm": {
     "name": "#%%\n"
    }
   }
  },
  {
   "cell_type": "code",
   "execution_count": null,
   "outputs": [],
   "source": [],
   "metadata": {
    "collapsed": false,
    "pycharm": {
     "name": "#%%\n"
    }
   }
  }
 ],
 "metadata": {
  "kernelspec": {
   "display_name": "Python 3",
   "language": "python",
   "name": "python3"
  },
  "language_info": {
   "codemirror_mode": {
    "name": "ipython",
    "version": 2
   },
   "file_extension": ".py",
   "mimetype": "text/x-python",
   "name": "python",
   "nbconvert_exporter": "python",
   "pygments_lexer": "ipython2",
   "version": "2.7.6"
  }
 },
 "nbformat": 4,
 "nbformat_minor": 0
}