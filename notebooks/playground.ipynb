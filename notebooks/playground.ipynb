{
 "cells": [
  {
   "cell_type": "markdown",
   "source": [
    "# load library"
   ],
   "metadata": {
    "collapsed": false
   }
  },
  {
   "cell_type": "code",
   "execution_count": null,
   "outputs": [],
   "source": [
    "# auto reloading of local scripts under dev\n",
    "%load_ext autoreload\n",
    "%autoreload 2"
   ],
   "metadata": {
    "collapsed": false,
    "pycharm": {
     "name": "#%%\n"
    }
   }
  },
  {
   "cell_type": "code",
   "execution_count": null,
   "outputs": [],
   "source": [
    "# relying on these stdlib anyway\n",
    "import http\n",
    "import re\n",
    "import os\n",
    "import sys\n",
    "import datetime\n",
    "\n",
    "from dateutil import parser\n",
    "import pandas as pd"
   ],
   "metadata": {
    "collapsed": false,
    "pycharm": {
     "name": "#%%\n"
    }
   }
  },
  {
   "cell_type": "code",
   "execution_count": null,
   "outputs": [],
   "source": [
    "# Google Cloud and FISS\n",
    "from firecloud import api as fapi\n",
    "\n",
    "from google.cloud import storage\n",
    "storage_client = storage.Client()"
   ],
   "metadata": {
    "collapsed": false,
    "pycharm": {
     "name": "#%%\n"
    }
   }
  },
  {
   "cell_type": "code",
   "execution_count": null,
   "outputs": [],
   "source": [
    "# load local lib\n",
    "module_path = os.path.abspath(os.path.join('..'))\n",
    "if module_path not in sys.path:\n",
    "    sys.path.append(module_path)\n",
    "\n",
    "from src.gcs_utils import GcsPath\n",
    "\n",
    "from src.terra.table_utils import *\n",
    "from src.terra.submission.submission_utils import verify_before_submit"
   ],
   "metadata": {
    "collapsed": false,
    "pycharm": {
     "name": "#%%\n"
    }
   }
  },
  {
   "cell_type": "code",
   "execution_count": null,
   "outputs": [],
   "source": [],
   "metadata": {
    "collapsed": false,
    "pycharm": {
     "name": "#%%\n"
    }
   }
  },
  {
   "cell_type": "markdown",
   "source": [
    "# load data"
   ],
   "metadata": {
    "collapsed": false
   }
  },
  {
   "cell_type": "code",
   "execution_count": null,
   "outputs": [],
   "source": [
    "primary_namespace = 'production-long-reads'\n",
    "primary_workspace = 'broad-gp-pacbio'\n",
    "root_data_type = 'sample'"
   ],
   "metadata": {
    "collapsed": false,
    "pycharm": {
     "name": "#%%\n"
    }
   }
  },
  {
   "cell_type": "code",
   "execution_count": null,
   "outputs": [],
   "source": [
    "# primary_namespace = 'broad-firecloud-dsde-methods'\n",
    "# primary_workspace = 'HGSVC2-unified'\n",
    "# root_data_type = 'ccs-flowcell'"
   ],
   "metadata": {
    "collapsed": false,
    "pycharm": {
     "name": "#%%\n"
    }
   }
  },
  {
   "cell_type": "code",
   "execution_count": null,
   "outputs": [],
   "source": [
    "flowcell_table = \\\n",
    "  fetch_existing_root_table(ns=primary_namespace,\n",
    "                            ws=primary_workspace,\n",
    "                            etype=root_data_type)"
   ],
   "metadata": {
    "collapsed": false,
    "pycharm": {
     "name": "#%%\n"
    }
   }
  },
  {
   "cell_type": "code",
   "execution_count": null,
   "outputs": [],
   "source": [],
   "metadata": {
    "collapsed": false,
    "pycharm": {
     "name": "#%%\n"
    }
   }
  },
  {
   "cell_type": "code",
   "execution_count": null,
   "outputs": [],
   "source": [
    "gcs_locations = ['aligned_bai', 'aligned_bam', 'aligned_pbi',\n",
    "                 'ccs_bam', 'ccs_pbi', 'ccs_report',\n",
    "                 'fingerprint_details', 'fingerprint_metrics',\n",
    "                 'fq', 'gcs_input_dir', 'input_bam', 'input_pbi', 'subreads_bam', 'subreads_pbi']"
   ],
   "metadata": {
    "collapsed": false,
    "pycharm": {
     "name": "#%%\n"
    }
   }
  },
  {
   "cell_type": "code",
   "execution_count": null,
   "outputs": [],
   "source": [
    "lab_identity = ['bio_sample', 'description', 'well_sample']\n",
    "sequencer_identity = ['flowcell_id', 'movie_name', 'well_name']\n",
    "terra_identity = ['sample']"
   ],
   "metadata": {
    "collapsed": false,
    "pycharm": {
     "name": "#%%\n"
    }
   }
  },
  {
   "cell_type": "code",
   "execution_count": null,
   "outputs": [],
   "source": [
    "categorical_columns = {'type': 'category',\n",
    "                       'columns': ['application', 'experiment_type', 'instrument', 'workspace']}\n",
    "\n",
    "date_time_columns = {'type': 'datetime64',\n",
    "                     'timezone': datetime.timezone.utc,\n",
    "                     'columns': ['created_at']}\n",
    "\n",
    "boolean_columns = {'type': 'bool',\n",
    "                   'columns': ['is_ccs', 'is_corrected', 'is_isoseq']}\n",
    "\n",
    "int_type_columns = {'type': 'Int64',\n",
    "                    'columns': ['aligned_num_bases','aligned_num_reads','aligned_read_length_N50',\n",
    "                                'ccs_zmws_fail_filters','ccs_zmws_input','ccs_zmws_pass_filters', 'ccs_zmws_shortcut_filters',\n",
    "                                'insert_size',\n",
    "                                'num_bases','num_reads','num_reads_Q10','num_reads_Q12','num_reads_Q15','num_reads_Q5','num_reads_Q7','num_records',\n",
    "                                'total_length']}\n",
    "\n",
    "float_type_columns = {'type': 'float64',\n",
    "                      'columns': ['lod_expected_sample',\n",
    "                                  'aligned_est_fold_cov', 'raw_est_fold_cov',\n",
    "                                  'aligned_frac_bases','aligned_read_length_mean','aligned_read_length_median','aligned_read_length_stdev',\n",
    "                                  'average_identity', 'median_identity',\n",
    "                                  'ccs_zmws_fail_filters_pct','ccs_zmws_pass_filters_pct','ccs_zmws_shortcut_filters_pct',\n",
    "                                  'polymerase_read_length_N50', 'polymerase_read_length_mean',\n",
    "                                  'read_length_N50', 'read_length_mean', 'read_length_median', 'read_length_stdev', 'read_qual_mean', 'read_qual_median',\n",
    "                                  'subread_read_length_N50','subread_read_length_mean']}\n",
    "\n",
    "string_type_columns = {'type': 'str',\n",
    "                       'columns': gcs_locations + terra_identity + lab_identity + sequencer_identity}"
   ],
   "metadata": {
    "collapsed": false,
    "pycharm": {
     "name": "#%%\n"
    }
   }
  },
  {
   "cell_type": "code",
   "execution_count": null,
   "outputs": [],
   "source": [
    "for n in boolean_columns['columns']:\n",
    "    flowcell_table[n] = flowcell_table[n].apply(lambda s: s=='TRUE' or s=='True' or s=='true').astype(boolean_columns['type'])"
   ],
   "metadata": {
    "collapsed": false,
    "pycharm": {
     "name": "#%%\n"
    }
   }
  },
  {
   "cell_type": "code",
   "execution_count": null,
   "outputs": [],
   "source": [
    "for n in categorical_columns['columns']:\n",
    "    flowcell_table[n] = flowcell_table[n].astype(categorical_columns['type'])"
   ],
   "metadata": {
    "collapsed": false,
    "pycharm": {
     "name": "#%%\n"
    }
   }
  },
  {
   "cell_type": "code",
   "execution_count": null,
   "outputs": [],
   "source": [
    "for n in string_type_columns['columns']:\n",
    "    flowcell_table[n] = flowcell_table[n].astype(string_type_columns['type'])"
   ],
   "metadata": {
    "collapsed": false,
    "pycharm": {
     "name": "#%%\n"
    }
   }
  },
  {
   "cell_type": "code",
   "execution_count": null,
   "outputs": [],
   "source": [
    "def convert_to_float(e) -> float or None:\n",
    "    if e:\n",
    "        if e.lower() in ['nan', 'none']:\n",
    "            return None\n",
    "        else:\n",
    "            try:\n",
    "                return float(e)\n",
    "            except TypeError:\n",
    "                print(e)\n",
    "                raise\n",
    "    else:\n",
    "        return None\n",
    "\n",
    "def convert_to_int(e) -> int:\n",
    "    f = convert_to_float(e)\n",
    "    return round(f) if f else None"
   ],
   "metadata": {
    "collapsed": false,
    "pycharm": {
     "name": "#%%\n"
    }
   }
  },
  {
   "cell_type": "code",
   "execution_count": null,
   "outputs": [],
   "source": [
    "for n in int_type_columns['columns']:\n",
    "    try:\n",
    "        flowcell_table[n] = flowcell_table[n].apply(convert_to_int).astype(int_type_columns['type'])\n",
    "    except ValueError:\n",
    "        print(n)\n",
    "        raise"
   ],
   "metadata": {
    "collapsed": false,
    "pycharm": {
     "name": "#%%\n"
    }
   }
  },
  {
   "cell_type": "code",
   "execution_count": null,
   "outputs": [],
   "source": [
    "for n in float_type_columns['columns']:\n",
    "    try:\n",
    "        flowcell_table[n] = flowcell_table[n].apply(convert_to_float).astype(float_type_columns['type'])\n",
    "    except ValueError:\n",
    "        print(n)\n",
    "        raise"
   ],
   "metadata": {
    "collapsed": false,
    "pycharm": {
     "name": "#%%\n"
    }
   }
  },
  {
   "cell_type": "code",
   "execution_count": null,
   "outputs": [],
   "source": [
    "def convert_date_time(s):\n",
    "    try:\n",
    "        t = parser.isoparse(s).astimezone(tz=date_time_columns['timezone'])\n",
    "        return pd.to_datetime(t)\n",
    "    except (ValueError, pd.errors.OutOfBoundsDatetime):\n",
    "        return pd.Timestamp.min\n",
    "for n in date_time_columns['columns']:\n",
    "    flowcell_table[n] = flowcell_table[n].apply(lambda s: pd.to_datetime(convert_date_time(s)))"
   ],
   "metadata": {
    "collapsed": false,
    "pycharm": {
     "name": "#%%\n"
    }
   }
  },
  {
   "cell_type": "markdown",
   "source": [
    "# PLAY"
   ],
   "metadata": {
    "collapsed": false
   }
  },
  {
   "cell_type": "code",
   "execution_count": null,
   "outputs": [],
   "source": [],
   "metadata": {
    "collapsed": false,
    "pycharm": {
     "name": "#%%\n"
    }
   }
  },
  {
   "cell_type": "code",
   "execution_count": null,
   "outputs": [],
   "source": [
    "verify_before_submit(hgsvc2_namespace, hgsvc2_workspace,\n",
    "                     workflow_name='Dummy',\n",
    "                     etype='ccs-flowcell', enames=hgsvc2_ccs_flowcells['ccs-flowcell'][0:4].tolist(),\n",
    "                     expression='this.ccs-flowcells',\n",
    "                     use_callcache=True)"
   ],
   "metadata": {
    "collapsed": false,
    "pycharm": {
     "name": "#%%\n"
    }
   }
  },
  {
   "cell_type": "code",
   "execution_count": null,
   "outputs": [],
   "source": [],
   "metadata": {
    "collapsed": false,
    "pycharm": {
     "name": "#%%\n"
    }
   }
  },
  {
   "cell_type": "code",
   "execution_count": null,
   "outputs": [],
   "source": [],
   "metadata": {
    "collapsed": false,
    "pycharm": {
     "name": "#%%\n"
    }
   }
  },
  {
   "cell_type": "code",
   "execution_count": null,
   "outputs": [],
   "source": [],
   "metadata": {
    "collapsed": false,
    "pycharm": {
     "name": "#%%\n"
    }
   }
  },
  {
   "cell_type": "code",
   "execution_count": null,
   "outputs": [],
   "source": [],
   "metadata": {
    "collapsed": false,
    "pycharm": {
     "name": "#%%\n"
    }
   }
  },
  {
   "cell_type": "code",
   "execution_count": null,
   "outputs": [],
   "source": [],
   "metadata": {
    "collapsed": false,
    "pycharm": {
     "name": "#%%\n"
    }
   }
  },
  {
   "cell_type": "code",
   "execution_count": null,
   "outputs": [],
   "source": [],
   "metadata": {
    "collapsed": false,
    "pycharm": {
     "name": "#%%\n"
    }
   }
  },
  {
   "cell_type": "code",
   "execution_count": null,
   "outputs": [],
   "source": [],
   "metadata": {
    "collapsed": false,
    "pycharm": {
     "name": "#%%\n"
    }
   }
  },
  {
   "cell_type": "code",
   "execution_count": null,
   "outputs": [],
   "source": [],
   "metadata": {
    "collapsed": false,
    "pycharm": {
     "name": "#%%\n"
    }
   }
  },
  {
   "cell_type": "code",
   "execution_count": null,
   "outputs": [],
   "source": [],
   "metadata": {
    "collapsed": false,
    "pycharm": {
     "name": "#%%\n"
    }
   }
  },
  {
   "cell_type": "code",
   "execution_count": null,
   "outputs": [],
   "source": [
    "\n"
   ],
   "metadata": {
    "collapsed": false,
    "pycharm": {
     "name": "#%%\n"
    }
   }
  }
 ],
 "metadata": {
  "kernelspec": {
   "display_name": "Python 3",
   "language": "python",
   "name": "python3"
  },
  "language_info": {
   "codemirror_mode": {
    "name": "ipython",
    "version": 2
   },
   "file_extension": ".py",
   "mimetype": "text/x-python",
   "name": "python",
   "nbconvert_exporter": "python",
   "pygments_lexer": "ipython2",
   "version": "2.7.6"
  }
 },
 "nbformat": 4,
 "nbformat_minor": 0
}