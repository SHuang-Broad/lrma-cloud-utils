{
 "cells": [
  {
   "cell_type": "markdown",
   "metadata": {
    "collapsed": true,
    "pycharm": {
     "name": "#%% md\n"
    }
   },
   "source": [
    "For checking which bams are filled with wrong sample metadata.\n",
    "See [this](https://github.com/broadinstitute/long-read-pipelines/issues/286)."
   ]
  },
  {
   "cell_type": "code",
   "execution_count": 17,
   "outputs": [],
   "source": [],
   "metadata": {
    "collapsed": false,
    "pycharm": {
     "name": "#%%\n"
    }
   }
  },
  {
   "cell_type": "markdown",
   "source": [
    "# load library"
   ],
   "metadata": {
    "collapsed": false
   }
  },
  {
   "cell_type": "code",
   "execution_count": 18,
   "outputs": [
    {
     "name": "stdout",
     "output_type": "stream",
     "text": [
      "The autoreload extension is already loaded. To reload it, use:\n",
      "  %reload_ext autoreload\n"
     ]
    }
   ],
   "source": [
    "# auto reloading of local scripts under dev\n",
    "%load_ext autoreload\n",
    "%autoreload 2"
   ],
   "metadata": {
    "collapsed": false,
    "pycharm": {
     "name": "#%%\n"
    }
   }
  },
  {
   "cell_type": "code",
   "execution_count": 19,
   "outputs": [],
   "source": [
    "# relying on these stdlib anyway\n",
    "import http\n",
    "import re\n",
    "import os\n",
    "import sys\n",
    "import pandas as pd"
   ],
   "metadata": {
    "collapsed": false,
    "pycharm": {
     "name": "#%%\n"
    }
   }
  },
  {
   "cell_type": "code",
   "execution_count": 20,
   "outputs": [],
   "source": [
    "# Google Cloud and FISS\n",
    "from firecloud import api as fapi\n",
    "\n",
    "from google.cloud import storage\n",
    "storage_client = storage.Client()"
   ],
   "metadata": {
    "collapsed": false,
    "pycharm": {
     "name": "#%%\n"
    }
   }
  },
  {
   "cell_type": "code",
   "execution_count": 21,
   "outputs": [],
   "source": [
    "# load local lib\n",
    "module_path = os.path.abspath(os.path.join('..'))\n",
    "if module_path not in sys.path:\n",
    "    sys.path.append(module_path)\n",
    "\n",
    "from src.table_utils import *"
   ],
   "metadata": {
    "collapsed": false,
    "pycharm": {
     "name": "#%%\n"
    }
   }
  },
  {
   "cell_type": "code",
   "execution_count": 22,
   "outputs": [],
   "source": [
    "import datetime\n",
    "import dateutil\n",
    "from dateutil import parser"
   ],
   "metadata": {
    "collapsed": false,
    "pycharm": {
     "name": "#%%\n"
    }
   }
  },
  {
   "cell_type": "markdown",
   "source": [
    "# Filters to apply, still under development, so changes with time"
   ],
   "metadata": {
    "collapsed": false
   }
  },
  {
   "cell_type": "code",
   "execution_count": 23,
   "outputs": [
    {
     "name": "stdout",
     "output_type": "stream",
     "text": [
      "Current Time = 12/10/21 15:21:54\n"
     ]
    }
   ],
   "source": [
    "print(\"Current Time =\", datetime.datetime.now().strftime(\"%D %H:%M:%S\"))"
   ],
   "metadata": {
    "collapsed": false,
    "pycharm": {
     "name": "#%%\n"
    }
   }
  },
  {
   "cell_type": "code",
   "execution_count": 24,
   "outputs": [],
   "source": [
    "# last_check_date = ''"
   ],
   "metadata": {
    "collapsed": false,
    "pycharm": {
     "name": "#%%\n"
    }
   }
  },
  {
   "cell_type": "code",
   "execution_count": 24,
   "outputs": [],
   "source": [],
   "metadata": {
    "collapsed": false,
    "pycharm": {
     "name": "#%%\n"
    }
   }
  },
  {
   "cell_type": "code",
   "execution_count": 25,
   "outputs": [],
   "source": [
    "def filter_pacbio_flowcells(terra_table_row) -> bool:\n",
    "    \"\"\"\n",
    "    :param terra_table_row:\n",
    "    :return: true if the row should be kept\n",
    "    \"\"\"\n",
    "\n",
    "    cutoff_date = pd.to_datetime(datetime.datetime(2021, 1, 1, 0, 0, tzinfo=datetime.timezone.utc))\n",
    "    sequencing_date = terra_table_row['created_at']\n",
    "    if sequencing_date.tzinfo is None:\n",
    "        return False\n",
    "\n",
    "    keep = sequencing_date >= cutoff_date\n",
    "\n",
    "    # keep &= sequencing_date < last_check_date\n",
    "\n",
    "    keep &= terra_table_row['aligned_bam'].startswith('gs://')\n",
    "\n",
    "    return keep"
   ],
   "metadata": {
    "collapsed": false,
    "pycharm": {
     "name": "#%%\n"
    }
   }
  },
  {
   "cell_type": "code",
   "execution_count": 25,
   "outputs": [],
   "source": [],
   "metadata": {
    "collapsed": false,
    "pycharm": {
     "name": "#%%\n"
    }
   }
  },
  {
   "cell_type": "markdown",
   "source": [
    "# load data"
   ],
   "metadata": {
    "collapsed": false
   }
  },
  {
   "cell_type": "code",
   "execution_count": 26,
   "outputs": [],
   "source": [
    "primary_namespace = 'production-long-reads'\n",
    "primary_workspace = 'broad-gp-pacbio'\n",
    "root_data_type='sample'\n",
    "flowcell_table = \\\n",
    "  fetch_existing_root_table(ns=primary_namespace,\n",
    "                            ws=primary_workspace,\n",
    "                            etype=root_data_type)"
   ],
   "metadata": {
    "collapsed": false,
    "pycharm": {
     "name": "#%%\n"
    }
   }
  },
  {
   "cell_type": "code",
   "execution_count": 27,
   "outputs": [],
   "source": [
    "categorical_columns = {'type': 'category',\n",
    "                       'columns': ['application', 'experiment_type', 'instrument', 'workspace']}\n",
    "\n",
    "date_time_columns = {'type': 'datetime64',\n",
    "                     'timezone': datetime.timezone.utc,\n",
    "                     'columns': ['created_at']}\n",
    "\n",
    "boolean_columns = {'type': 'bool',\n",
    "                   'columns': ['is_ccs', 'is_corrected', 'is_isoseq']}\n",
    "\n",
    "int_type_columns = {'type': 'int64',\n",
    "                    'columns': ['insert_size']}\n",
    "\n",
    "float_type_columns = {'type': 'float64',\n",
    "                      'columns': ['lod_expected_sample']}\n",
    "\n",
    "string_type_columns = {'type': 'str',\n",
    "                       'columns': ['flowcell_id', 'bio_sample', 'description', 'well_sample', 'movie_name', 'well_name', 'sample']}"
   ],
   "metadata": {
    "collapsed": false,
    "pycharm": {
     "name": "#%%\n"
    }
   }
  },
  {
   "cell_type": "code",
   "execution_count": 28,
   "outputs": [],
   "source": [
    "for n in boolean_columns['columns']:\n",
    "    flowcell_table[n] = flowcell_table[n].apply(lambda s: s=='TRUE' or s=='True' or s=='true').astype(boolean_columns['type'])"
   ],
   "metadata": {
    "collapsed": false,
    "pycharm": {
     "name": "#%%\n"
    }
   }
  },
  {
   "cell_type": "code",
   "execution_count": 29,
   "outputs": [],
   "source": [
    "for n in categorical_columns['columns']:\n",
    "    flowcell_table[n] = flowcell_table[n].astype(categorical_columns['type'])"
   ],
   "metadata": {
    "collapsed": false,
    "pycharm": {
     "name": "#%%\n"
    }
   }
  },
  {
   "cell_type": "code",
   "execution_count": 30,
   "outputs": [],
   "source": [
    "for n in int_type_columns['columns']:\n",
    "    flowcell_table[n] = flowcell_table[n].astype(int_type_columns['type'])"
   ],
   "metadata": {
    "collapsed": false,
    "pycharm": {
     "name": "#%%\n"
    }
   }
  },
  {
   "cell_type": "code",
   "execution_count": 31,
   "outputs": [],
   "source": [
    "for n in string_type_columns['columns']:\n",
    "    flowcell_table[n] = flowcell_table[n].astype(string_type_columns['type'])"
   ],
   "metadata": {
    "collapsed": false,
    "pycharm": {
     "name": "#%%\n"
    }
   }
  },
  {
   "cell_type": "code",
   "execution_count": 32,
   "outputs": [],
   "source": [
    "for n in float_type_columns['columns']:\n",
    "    flowcell_table[n] = flowcell_table[n].astype(float_type_columns['type'])"
   ],
   "metadata": {
    "collapsed": false,
    "pycharm": {
     "name": "#%%\n"
    }
   }
  },
  {
   "cell_type": "code",
   "execution_count": 33,
   "outputs": [],
   "source": [
    "def convert_date_time(s):\n",
    "    try:\n",
    "        t = parser.isoparse(s).astimezone(tz=date_time_columns['timezone'])\n",
    "        return pd.to_datetime(t)\n",
    "    except (ValueError, pd.errors.OutOfBoundsDatetime):\n",
    "        return pd.Timestamp.min\n",
    "for n in date_time_columns['columns']:\n",
    "    flowcell_table[n] = flowcell_table[n].apply(lambda s: pd.to_datetime(convert_date_time(s)))"
   ],
   "metadata": {
    "collapsed": false,
    "pycharm": {
     "name": "#%%\n"
    }
   }
  },
  {
   "cell_type": "code",
   "execution_count": 33,
   "outputs": [],
   "source": [],
   "metadata": {
    "collapsed": false,
    "pycharm": {
     "name": "#%%\n"
    }
   }
  },
  {
   "cell_type": "code",
   "execution_count": 33,
   "outputs": [],
   "source": [],
   "metadata": {
    "collapsed": false,
    "pycharm": {
     "name": "#%%\n"
    }
   }
  },
  {
   "cell_type": "code",
   "execution_count": 34,
   "outputs": [
    {
     "data": {
      "text/plain": "(510, 70)"
     },
     "execution_count": 34,
     "metadata": {},
     "output_type": "execute_result"
    }
   ],
   "source": [
    "usable_flowcell_table = flowcell_table.loc[flowcell_table.apply(filter_pacbio_flowcells, axis=1),:].reset_index(drop=True)\n",
    "usable_flowcell_table.shape"
   ],
   "metadata": {
    "collapsed": false,
    "pycharm": {
     "name": "#%%\n"
    }
   }
  },
  {
   "cell_type": "code",
   "execution_count": 34,
   "outputs": [],
   "source": [],
   "metadata": {
    "collapsed": false,
    "pycharm": {
     "name": "#%%\n"
    }
   }
  },
  {
   "cell_type": "markdown",
   "source": [
    "# Check for inconsistency"
   ],
   "metadata": {
    "collapsed": false,
    "pycharm": {
     "name": "#%% md\n"
    }
   }
  },
  {
   "cell_type": "code",
   "execution_count": 41,
   "outputs": [],
   "source": [
    "def get_lb_and_header(bam_gs_path: str) -> dict():\n",
    "\n",
    "\n",
    "    os.system(f\"export GCS_OAUTH_TOKEN=`gcloud auth application-default print-access-token` && samtools view -H {bam_gs_path} | grep '@RG' > tmp.header.txt\")\n",
    "    rg_line = list()\n",
    "    with open('tmp.header.txt') as reader:\n",
    "        rg_line = reader.readlines()[0].split('\\t')\n",
    "    os.system('rm tmp.header.txt')\n",
    "\n",
    "    meta = dict()\n",
    "    for e in rg_line:\n",
    "        if e.startswith('LB:'):\n",
    "            meta['library'] = re.sub('^LB:', '', e)\n",
    "        elif e.startswith('SM:'):\n",
    "            meta['sample'] = re.sub('^SM:', '', e)\n",
    "\n",
    "    return meta\n"
   ],
   "metadata": {
    "collapsed": false,
    "pycharm": {
     "name": "#%%\n"
    }
   }
  },
  {
   "cell_type": "code",
   "execution_count": 44,
   "outputs": [],
   "source": [
    "usable_flowcell_table[['flowcell_id','aligned_bam']].to_csv(\"/Users/shuang/Desktop/bams.txt\", index=False, sep=',', header=False)"
   ],
   "metadata": {
    "collapsed": false,
    "pycharm": {
     "name": "#%%\n"
    }
   }
  },
  {
   "cell_type": "code",
   "execution_count": 45,
   "outputs": [],
   "source": [
    "metadata_from_bam_headers = pd.read_csv(\"/Users/shuang/Desktop/sample_metadata.tsv\", sep='\\t')"
   ],
   "metadata": {
    "collapsed": false,
    "pycharm": {
     "name": "#%%\n"
    }
   }
  },
  {
   "cell_type": "code",
   "execution_count": 46,
   "outputs": [
    {
     "data": {
      "text/plain": "  flowcell_id        LB       SM\n0    DA103955  SM-K6JCH  1-06162\n1    DA074276  SM-KTTFW   CDH141\n2    DA074064   SM-V35Y  SM-V35Y\n3    DA134109  SM-K6JD5  1-05888\n4    DA134006  SM-K6JE6  1-05846",
      "text/html": "<div>\n<style scoped>\n    .dataframe tbody tr th:only-of-type {\n        vertical-align: middle;\n    }\n\n    .dataframe tbody tr th {\n        vertical-align: top;\n    }\n\n    .dataframe thead th {\n        text-align: right;\n    }\n</style>\n<table border=\"1\" class=\"dataframe\">\n  <thead>\n    <tr style=\"text-align: right;\">\n      <th></th>\n      <th>flowcell_id</th>\n      <th>LB</th>\n      <th>SM</th>\n    </tr>\n  </thead>\n  <tbody>\n    <tr>\n      <th>0</th>\n      <td>DA103955</td>\n      <td>SM-K6JCH</td>\n      <td>1-06162</td>\n    </tr>\n    <tr>\n      <th>1</th>\n      <td>DA074276</td>\n      <td>SM-KTTFW</td>\n      <td>CDH141</td>\n    </tr>\n    <tr>\n      <th>2</th>\n      <td>DA074064</td>\n      <td>SM-V35Y</td>\n      <td>SM-V35Y</td>\n    </tr>\n    <tr>\n      <th>3</th>\n      <td>DA134109</td>\n      <td>SM-K6JD5</td>\n      <td>1-05888</td>\n    </tr>\n    <tr>\n      <th>4</th>\n      <td>DA134006</td>\n      <td>SM-K6JE6</td>\n      <td>1-05846</td>\n    </tr>\n  </tbody>\n</table>\n</div>"
     },
     "execution_count": 46,
     "metadata": {},
     "output_type": "execute_result"
    }
   ],
   "source": [
    "metadata_from_bam_headers.head()"
   ],
   "metadata": {
    "collapsed": false,
    "pycharm": {
     "name": "#%%\n"
    }
   }
  },
  {
   "cell_type": "code",
   "execution_count": 48,
   "outputs": [
    {
     "data": {
      "text/plain": "  flowcell_id well_sample bio_sample\n0    DA103955    SM-K6JCH    1-06162\n1    DA074276    SM-KTTFW     CDH141\n2    DA074064     SM-V35Y    SM-V35Y\n3    DA134109    SM-K6JD5    1-05888\n4    DA134006    SM-K6JE6    1-05846",
      "text/html": "<div>\n<style scoped>\n    .dataframe tbody tr th:only-of-type {\n        vertical-align: middle;\n    }\n\n    .dataframe tbody tr th {\n        vertical-align: top;\n    }\n\n    .dataframe thead th {\n        text-align: right;\n    }\n</style>\n<table border=\"1\" class=\"dataframe\">\n  <thead>\n    <tr style=\"text-align: right;\">\n      <th></th>\n      <th>flowcell_id</th>\n      <th>well_sample</th>\n      <th>bio_sample</th>\n    </tr>\n  </thead>\n  <tbody>\n    <tr>\n      <th>0</th>\n      <td>DA103955</td>\n      <td>SM-K6JCH</td>\n      <td>1-06162</td>\n    </tr>\n    <tr>\n      <th>1</th>\n      <td>DA074276</td>\n      <td>SM-KTTFW</td>\n      <td>CDH141</td>\n    </tr>\n    <tr>\n      <th>2</th>\n      <td>DA074064</td>\n      <td>SM-V35Y</td>\n      <td>SM-V35Y</td>\n    </tr>\n    <tr>\n      <th>3</th>\n      <td>DA134109</td>\n      <td>SM-K6JD5</td>\n      <td>1-05888</td>\n    </tr>\n    <tr>\n      <th>4</th>\n      <td>DA134006</td>\n      <td>SM-K6JE6</td>\n      <td>1-05846</td>\n    </tr>\n  </tbody>\n</table>\n</div>"
     },
     "execution_count": 48,
     "metadata": {},
     "output_type": "execute_result"
    }
   ],
   "source": [
    "usable_flowcell_table[['flowcell_id', 'well_sample', 'bio_sample']].head()"
   ],
   "metadata": {
    "collapsed": false,
    "pycharm": {
     "name": "#%%\n"
    }
   }
  },
  {
   "cell_type": "code",
   "execution_count": 49,
   "outputs": [
    {
     "data": {
      "text/plain": "True"
     },
     "execution_count": 49,
     "metadata": {},
     "output_type": "execute_result"
    }
   ],
   "source": [
    "len(metadata_from_bam_headers) == len(usable_flowcell_table)"
   ],
   "metadata": {
    "collapsed": false,
    "pycharm": {
     "name": "#%%\n"
    }
   }
  },
  {
   "cell_type": "code",
   "execution_count": 53,
   "outputs": [],
   "source": [
    "bams_with_wrong_samples = list()\n",
    "\n",
    "for i in range(len(metadata_from_bam_headers)):\n",
    "    bam_row = metadata_from_bam_headers.iloc[i,:]\n",
    "    terra_row = usable_flowcell_table.iloc[i,:][['flowcell_id', 'well_sample', 'bio_sample']]\n",
    "    if bam_row[0] != terra_row[0]:\n",
    "        raise ValueError(f\"Flowcell ID don't match!\\t{i}\")\n",
    "    if bam_row[1] != terra_row[1] or bam_row[2] != terra_row[2]:\n",
    "        bams_with_wrong_samples.append(bam_row[0])"
   ],
   "metadata": {
    "collapsed": false,
    "pycharm": {
     "name": "#%%\n"
    }
   }
  },
  {
   "cell_type": "code",
   "execution_count": 54,
   "outputs": [
    {
     "data": {
      "text/plain": "6"
     },
     "execution_count": 54,
     "metadata": {},
     "output_type": "execute_result"
    }
   ],
   "source": [
    "len(bams_with_wrong_samples)"
   ],
   "metadata": {
    "collapsed": false,
    "pycharm": {
     "name": "#%%\n"
    }
   }
  },
  {
   "cell_type": "code",
   "execution_count": 60,
   "outputs": [
    {
     "data": {
      "text/plain": "    flowcell_id                  well_sample                   bio_sample  \\\n60     DA073869                     SM-KTTFJ                       Jan-77   \n80     DA074036                     SM-KTSY3                       Feb-12   \n116    DA106896                     SM-KTT1N                       Jul-07   \n292    DA074315                     SM-KTTFJ                       Jan-77   \n329    DA074300                     SM-KTSZV                       Jun-07   \n467    DA089806  64271e_CLR_SAT_20210615_A01  64271e_CLR_SAT_20210615_A01   \n\n                             workspace  \n60   Gabriel_GMKFLRP_Chung_PacBio_FY20  \n80   Gabriel_GMKFLRP_Chung_PacBio_FY20  \n116  Gabriel_GMKFLRP_Chung_PacBio_FY20  \n292  Gabriel_GMKFLRP_Chung_PacBio_FY20  \n329  Gabriel_GMKFLRP_Chung_PacBio_FY20  \n467    Long Reads Delivery - Garimella  ",
      "text/html": "<div>\n<style scoped>\n    .dataframe tbody tr th:only-of-type {\n        vertical-align: middle;\n    }\n\n    .dataframe tbody tr th {\n        vertical-align: top;\n    }\n\n    .dataframe thead th {\n        text-align: right;\n    }\n</style>\n<table border=\"1\" class=\"dataframe\">\n  <thead>\n    <tr style=\"text-align: right;\">\n      <th></th>\n      <th>flowcell_id</th>\n      <th>well_sample</th>\n      <th>bio_sample</th>\n      <th>workspace</th>\n    </tr>\n  </thead>\n  <tbody>\n    <tr>\n      <th>60</th>\n      <td>DA073869</td>\n      <td>SM-KTTFJ</td>\n      <td>Jan-77</td>\n      <td>Gabriel_GMKFLRP_Chung_PacBio_FY20</td>\n    </tr>\n    <tr>\n      <th>80</th>\n      <td>DA074036</td>\n      <td>SM-KTSY3</td>\n      <td>Feb-12</td>\n      <td>Gabriel_GMKFLRP_Chung_PacBio_FY20</td>\n    </tr>\n    <tr>\n      <th>116</th>\n      <td>DA106896</td>\n      <td>SM-KTT1N</td>\n      <td>Jul-07</td>\n      <td>Gabriel_GMKFLRP_Chung_PacBio_FY20</td>\n    </tr>\n    <tr>\n      <th>292</th>\n      <td>DA074315</td>\n      <td>SM-KTTFJ</td>\n      <td>Jan-77</td>\n      <td>Gabriel_GMKFLRP_Chung_PacBio_FY20</td>\n    </tr>\n    <tr>\n      <th>329</th>\n      <td>DA074300</td>\n      <td>SM-KTSZV</td>\n      <td>Jun-07</td>\n      <td>Gabriel_GMKFLRP_Chung_PacBio_FY20</td>\n    </tr>\n    <tr>\n      <th>467</th>\n      <td>DA089806</td>\n      <td>64271e_CLR_SAT_20210615_A01</td>\n      <td>64271e_CLR_SAT_20210615_A01</td>\n      <td>Long Reads Delivery - Garimella</td>\n    </tr>\n  </tbody>\n</table>\n</div>"
     },
     "execution_count": 60,
     "metadata": {},
     "output_type": "execute_result"
    }
   ],
   "source": [
    "usable_flowcell_table.loc[metadata_from_bam_headers['flowcell_id'].isin(bams_with_wrong_samples),['flowcell_id', 'well_sample', 'bio_sample', 'workspace']]"
   ],
   "metadata": {
    "collapsed": false,
    "pycharm": {
     "name": "#%%\n"
    }
   }
  },
  {
   "cell_type": "code",
   "execution_count": 61,
   "outputs": [
    {
     "data": {
      "text/plain": "    flowcell_id                           LB             SM\n60     DA073869                     SM-KTTFJ        01-1977\n80     DA074036                     SM-KTSY3        02-2012\n116    DA106896                     SM-KTT1N        07-2007\n292    DA074315                     SM-KTTFJ        01-1977\n329    DA074300                     SM-KTSZV        06-2007\n467    DA089806  64271e_CLR_SAT_20210615_A01  UnnamedSample",
      "text/html": "<div>\n<style scoped>\n    .dataframe tbody tr th:only-of-type {\n        vertical-align: middle;\n    }\n\n    .dataframe tbody tr th {\n        vertical-align: top;\n    }\n\n    .dataframe thead th {\n        text-align: right;\n    }\n</style>\n<table border=\"1\" class=\"dataframe\">\n  <thead>\n    <tr style=\"text-align: right;\">\n      <th></th>\n      <th>flowcell_id</th>\n      <th>LB</th>\n      <th>SM</th>\n    </tr>\n  </thead>\n  <tbody>\n    <tr>\n      <th>60</th>\n      <td>DA073869</td>\n      <td>SM-KTTFJ</td>\n      <td>01-1977</td>\n    </tr>\n    <tr>\n      <th>80</th>\n      <td>DA074036</td>\n      <td>SM-KTSY3</td>\n      <td>02-2012</td>\n    </tr>\n    <tr>\n      <th>116</th>\n      <td>DA106896</td>\n      <td>SM-KTT1N</td>\n      <td>07-2007</td>\n    </tr>\n    <tr>\n      <th>292</th>\n      <td>DA074315</td>\n      <td>SM-KTTFJ</td>\n      <td>01-1977</td>\n    </tr>\n    <tr>\n      <th>329</th>\n      <td>DA074300</td>\n      <td>SM-KTSZV</td>\n      <td>06-2007</td>\n    </tr>\n    <tr>\n      <th>467</th>\n      <td>DA089806</td>\n      <td>64271e_CLR_SAT_20210615_A01</td>\n      <td>UnnamedSample</td>\n    </tr>\n  </tbody>\n</table>\n</div>"
     },
     "execution_count": 61,
     "metadata": {},
     "output_type": "execute_result"
    }
   ],
   "source": [
    "metadata_from_bam_headers.loc[metadata_from_bam_headers['flowcell_id'].isin(bams_with_wrong_samples),]"
   ],
   "metadata": {
    "collapsed": false,
    "pycharm": {
     "name": "#%%\n"
    }
   }
  },
  {
   "cell_type": "code",
   "execution_count": null,
   "outputs": [],
   "source": [],
   "metadata": {
    "collapsed": false,
    "pycharm": {
     "name": "#%%\n"
    }
   }
  }
 ],
 "metadata": {
  "kernelspec": {
   "display_name": "Python 3",
   "language": "python",
   "name": "python3"
  },
  "language_info": {
   "codemirror_mode": {
    "name": "ipython",
    "version": 2
   },
   "file_extension": ".py",
   "mimetype": "text/x-python",
   "name": "python",
   "nbconvert_exporter": "python",
   "pygments_lexer": "ipython2",
   "version": "2.7.6"
  }
 },
 "nbformat": 4,
 "nbformat_minor": 0
}