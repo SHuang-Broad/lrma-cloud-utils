{
 "cells": [
  {
   "cell_type": "code",
   "execution_count": 1,
   "outputs": [],
   "source": [
    "# auto reloading of local scripts under dev\n",
    "%load_ext autoreload\n",
    "%autoreload 2"
   ],
   "metadata": {
    "collapsed": false,
    "pycharm": {
     "name": "#%%\n"
    }
   }
  },
  {
   "cell_type": "code",
   "execution_count": 2,
   "outputs": [],
   "source": [
    "import os\n",
    "import sys\n",
    "\n",
    "from google.cloud import storage\n",
    "storage_client = storage.Client()"
   ],
   "metadata": {
    "collapsed": false,
    "pycharm": {
     "name": "#%%\n"
    }
   }
  },
  {
   "cell_type": "code",
   "execution_count": 3,
   "outputs": [],
   "source": [
    "# load local lib\n",
    "module_path = os.path.abspath(os.path.join('..'))\n",
    "if module_path not in sys.path:\n",
    "    sys.path.append(module_path)\n",
    "\n",
    "from src.terra.table_utils import *\n",
    "from src.terra.expt_design.upload_init_tables_from_local import construct_bare_family_table_from_individual_table\n",
    "\n",
    "from src.gcs_utils import *\n",
    "from src.utils import *"
   ],
   "metadata": {
    "collapsed": false,
    "pycharm": {
     "name": "#%%\n"
    }
   }
  },
  {
   "cell_type": "code",
   "execution_count": null,
   "outputs": [],
   "source": [],
   "metadata": {
    "collapsed": false,
    "pycharm": {
     "name": "#%%\n"
    }
   }
  },
  {
   "cell_type": "code",
   "execution_count": 4,
   "outputs": [],
   "source": [
    "# mostly for debugging\n",
    "import http\n",
    "import re\n",
    "import dateutil\n",
    "import pandas as pd\n",
    "from firecloud import api as fapi"
   ],
   "metadata": {
    "collapsed": false,
    "pycharm": {
     "name": "#%%\n"
    }
   }
  },
  {
   "cell_type": "markdown",
   "source": [
    "# Prep local table for uploading"
   ],
   "metadata": {
    "collapsed": false,
    "pycharm": {
     "name": "#%% md\n"
    }
   }
  },
  {
   "cell_type": "markdown",
   "source": [
    "## Load minimal table, holding BAM path and individual only"
   ],
   "metadata": {
    "collapsed": false
   }
  },
  {
   "cell_type": "code",
   "execution_count": 5,
   "outputs": [
    {
     "data": {
      "text/plain": "                                           input_bam    alias individual\n0  gs://broad-dsde-methods-long-reads/datasets/HG...  GM18534    NA18534\n1  gs://broad-dsde-methods-long-reads/datasets/HG...  GM18534    NA18534\n2  gs://broad-dsde-methods-long-reads/datasets/HG...  GM18939    NA18939\n3  gs://broad-dsde-methods-long-reads/datasets/HG...  GM18939    NA18939\n4  gs://broad-dsde-methods-long-reads/datasets/HG...  GM18989    NA18989",
      "text/html": "<div>\n<style scoped>\n    .dataframe tbody tr th:only-of-type {\n        vertical-align: middle;\n    }\n\n    .dataframe tbody tr th {\n        vertical-align: top;\n    }\n\n    .dataframe thead th {\n        text-align: right;\n    }\n</style>\n<table border=\"1\" class=\"dataframe\">\n  <thead>\n    <tr style=\"text-align: right;\">\n      <th></th>\n      <th>input_bam</th>\n      <th>alias</th>\n      <th>individual</th>\n    </tr>\n  </thead>\n  <tbody>\n    <tr>\n      <th>0</th>\n      <td>gs://broad-dsde-methods-long-reads/datasets/HG...</td>\n      <td>GM18534</td>\n      <td>NA18534</td>\n    </tr>\n    <tr>\n      <th>1</th>\n      <td>gs://broad-dsde-methods-long-reads/datasets/HG...</td>\n      <td>GM18534</td>\n      <td>NA18534</td>\n    </tr>\n    <tr>\n      <th>2</th>\n      <td>gs://broad-dsde-methods-long-reads/datasets/HG...</td>\n      <td>GM18939</td>\n      <td>NA18939</td>\n    </tr>\n    <tr>\n      <th>3</th>\n      <td>gs://broad-dsde-methods-long-reads/datasets/HG...</td>\n      <td>GM18939</td>\n      <td>NA18939</td>\n    </tr>\n    <tr>\n      <th>4</th>\n      <td>gs://broad-dsde-methods-long-reads/datasets/HG...</td>\n      <td>GM18989</td>\n      <td>NA18989</td>\n    </tr>\n  </tbody>\n</table>\n</div>"
     },
     "execution_count": 5,
     "metadata": {},
     "output_type": "execute_result"
    }
   ],
   "source": [
    "minimal_flowcell_table = pd.read_csv('hgsvc2/minimal.flowcell.metadata.table.tsv', sep='\\t')\n",
    "minimal_flowcell_table.head()"
   ],
   "metadata": {
    "collapsed": false,
    "pycharm": {
     "name": "#%%\n"
    }
   }
  },
  {
   "cell_type": "code",
   "execution_count": 6,
   "outputs": [],
   "source": [
    "def filter_away_bam(bam_gs: str) -> bool:\n",
    "    transformed = bam_gs.lower()\n",
    "    return ('ccs' in transformed or 'hifi' in transformed) \\\n",
    "           and ('subreads.bam' in transformed or 'scraps.bam' in transformed)"
   ],
   "metadata": {
    "collapsed": false,
    "pycharm": {
     "name": "#%%\n"
    }
   }
  },
  {
   "cell_type": "code",
   "execution_count": 7,
   "outputs": [],
   "source": [
    "minimal_flowcell_table = minimal_flowcell_table.loc[~minimal_flowcell_table['input_bam'].apply(filter_away_bam), :]"
   ],
   "metadata": {
    "collapsed": false,
    "pycharm": {
     "name": "#%%\n"
    }
   }
  },
  {
   "cell_type": "markdown",
   "source": [
    "## Load pedigree info"
   ],
   "metadata": {
    "collapsed": false,
    "pycharm": {
     "name": "#%% md\n"
    }
   }
  },
  {
   "cell_type": "code",
   "execution_count": 8,
   "outputs": [],
   "source": [
    "pedigree = pd.read_csv('hgsvc2/1KGP_2504_and_698.ped', sep='\\t', header=None)\n",
    "pedigree.columns = ['family', 'individual', 'father', 'mother', 'sex', 'phenotype']"
   ],
   "metadata": {
    "collapsed": false,
    "pycharm": {
     "name": "#%%\n"
    }
   }
  },
  {
   "cell_type": "code",
   "execution_count": 9,
   "outputs": [],
   "source": [
    "def determine_identity(row) -> str:\n",
    "    identity = 'singlet'\n",
    "    if '0' != str(row['father']) and '0' != str(row['father']):\n",
    "        if row['father'] in minimal_flowcell_table['individual'].tolist() or row['mother'] in minimal_flowcell_table['individual'].tolist():\n",
    "            identity = 'son' if 1==row['sex'] else 'daughter'\n",
    "        else:\n",
    "            identity = 'singlet'\n",
    "    else:\n",
    "        family = row['family']\n",
    "        family_members = set(pedigree.loc[pedigree['family'] == family,'individual'].unique().tolist())\n",
    "        if 1 < len(family_members):\n",
    "            if 1 < len(minimal_flowcell_table.loc[minimal_flowcell_table['individual'].isin(family_members), 'individual'].unique()):\n",
    "                identity = 'father' if 1==row['sex'] else 'mother'\n",
    "            else:\n",
    "                identity = 'singlet'\n",
    "        else:\n",
    "            identity = 'singlet'\n",
    "    return identity\n",
    "\n",
    "pedigree['identity'] = pedigree.apply(determine_identity, axis=1)"
   ],
   "metadata": {
    "collapsed": false,
    "pycharm": {
     "name": "#%%\n"
    }
   }
  },
  {
   "cell_type": "code",
   "execution_count": 10,
   "outputs": [],
   "source": [
    "pedigree['father'] = pedigree['father'].apply(lambda s: 'NA' if '0' == str(s) else str(s))\n",
    "pedigree['mother'] = pedigree['mother'].apply(lambda s: 'NA' if '0' == str(s) else str(s))\n",
    "pedigree['sex'] = pedigree['sex'].apply(lambda i: 'M' if 1==i else 'F')\n",
    "\n",
    "pedigree.drop(['phenotype'], axis=1,  inplace=True)"
   ],
   "metadata": {
    "collapsed": false,
    "pycharm": {
     "name": "#%%\n"
    }
   }
  },
  {
   "cell_type": "markdown",
   "source": [
    "##### Annotate flowcell table with pedigree information"
   ],
   "metadata": {
    "collapsed": false
   }
  },
  {
   "cell_type": "code",
   "execution_count": 11,
   "outputs": [],
   "source": [
    "enriched_flowcell_table = pd.merge(minimal_flowcell_table, pedigree, on='individual', how='left')"
   ],
   "metadata": {
    "collapsed": false,
    "pycharm": {
     "name": "#%%\n"
    }
   }
  },
  {
   "cell_type": "markdown",
   "source": [
    "## Existing table, to get population information"
   ],
   "metadata": {
    "collapsed": false
   }
  },
  {
   "cell_type": "code",
   "execution_count": 12,
   "outputs": [],
   "source": [
    "existing_table = fetch_existing_root_table('broad-firecloud-dsde-methods', 'lr-hgsvc2', 'sample')"
   ],
   "metadata": {
    "collapsed": false,
    "pycharm": {
     "name": "#%%\n"
    }
   }
  },
  {
   "cell_type": "code",
   "execution_count": 13,
   "outputs": [],
   "source": [
    "population_info_from_existing_table = existing_table[['family', 'pop']].sort_values(by=['family']).reset_index(drop=True)\n",
    "population_info_from_existing_table.drop_duplicates(inplace=True, ignore_index=True)\n",
    "population_info_from_existing_table = dict(zip(population_info_from_existing_table['family'].tolist(), population_info_from_existing_table['pop'].tolist()))"
   ],
   "metadata": {
    "collapsed": false,
    "pycharm": {
     "name": "#%%\n"
    }
   }
  },
  {
   "cell_type": "markdown",
   "source": [
    "##### Further annotate flowcell table with population information"
   ],
   "metadata": {
    "collapsed": false
   }
  },
  {
   "cell_type": "code",
   "execution_count": 14,
   "outputs": [],
   "source": [
    "enriched_flowcell_table['population'] = enriched_flowcell_table['family'].apply(lambda f: population_info_from_existing_table.get(f, 'NotAvailable'))"
   ],
   "metadata": {
    "collapsed": false,
    "pycharm": {
     "name": "#%%\n"
    }
   }
  },
  {
   "cell_type": "markdown",
   "source": [
    "##### Manually get these"
   ],
   "metadata": {
    "collapsed": false
   }
  },
  {
   "cell_type": "code",
   "execution_count": 15,
   "outputs": [
    {
     "data": {
      "text/plain": "array(['2484a', 'BB67', 'BD19', 'CLM29', 'CLM51', 'GB116', 'GB40', 'GB57',\n       'HG00171', 'HG00268', 'IT003', 'IT220', 'LWK001', 'NA18534',\n       'NA18939', 'NA18989', 'NA19317', 'NA19320', 'NA19347', 'NA19384',\n       'NA20509', 'NA20847', 'NG16', 'PEL38', 'SL05', 'SL50', 'ST012',\n       'ST116', 'VN002', 'VN061', 'm001'], dtype=object)"
     },
     "execution_count": 15,
     "metadata": {},
     "output_type": "execute_result"
    }
   ],
   "source": [
    "enriched_flowcell_table.loc[enriched_flowcell_table['population'] == 'NotAvailable','family'].sort_values().unique()"
   ],
   "metadata": {
    "collapsed": false,
    "pycharm": {
     "name": "#%%\n"
    }
   }
  },
  {
   "cell_type": "markdown",
   "source": [
    "## After manually finding information for these families, annotate"
   ],
   "metadata": {
    "collapsed": false,
    "pycharm": {
     "name": "#%% md\n"
    }
   }
  },
  {
   "cell_type": "code",
   "execution_count": 16,
   "outputs": [],
   "source": [
    "manually_annotated_families = pd.read_csv('hgsvc2/missing.family.pop.code.tsv', sep='\\t')"
   ],
   "metadata": {
    "collapsed": false,
    "pycharm": {
     "name": "#%%\n"
    }
   }
  },
  {
   "cell_type": "code",
   "execution_count": 17,
   "outputs": [],
   "source": [
    "manually_annotated_families = dict(zip(manually_annotated_families['Family'].tolist(), manually_annotated_families['Code'].tolist()))"
   ],
   "metadata": {
    "collapsed": false,
    "pycharm": {
     "name": "#%%\n"
    }
   }
  },
  {
   "cell_type": "code",
   "execution_count": 18,
   "outputs": [],
   "source": [
    "enriched_flowcell_table['population'] = enriched_flowcell_table.apply(lambda row:\n",
    "                                                                      manually_annotated_families[row['family']] if 'NotAvailable' == row['population'] else row['population'],\n",
    "                                                                      axis=1)"
   ],
   "metadata": {
    "collapsed": false,
    "pycharm": {
     "name": "#%%\n"
    }
   }
  },
  {
   "cell_type": "code",
   "execution_count": 19,
   "outputs": [
    {
     "data": {
      "text/plain": "(198, 9)"
     },
     "execution_count": 19,
     "metadata": {},
     "output_type": "execute_result"
    }
   ],
   "source": [
    "enriched_flowcell_table.shape"
   ],
   "metadata": {
    "collapsed": false,
    "pycharm": {
     "name": "#%%\n"
    }
   }
  },
  {
   "cell_type": "code",
   "execution_count": 20,
   "outputs": [
    {
     "name": "stdout",
     "output_type": "stream",
     "text": [
      "41 singlet individuals.\n",
      "4 families.\n"
     ]
    }
   ],
   "source": [
    "idx = enriched_flowcell_table['identity'] == 'singlet'\n",
    "print(f\"{len(enriched_flowcell_table.loc[idx,'individual'].unique())} singlet individuals.\")\n",
    "print(f\"{len(enriched_flowcell_table.loc[~idx,'family'].unique())} families.\")"
   ],
   "metadata": {
    "collapsed": false,
    "pycharm": {
     "name": "#%%\n"
    }
   }
  },
  {
   "cell_type": "code",
   "execution_count": 21,
   "outputs": [],
   "source": [
    "for f in enriched_flowcell_table.loc[idx,'family']:\n",
    "    if len(enriched_flowcell_table.loc[enriched_flowcell_table['family'] == f, 'individual'].unique()) > 1:\n",
    "        raise ValueError(f\"{f} incorrectly classified as singlet family\")"
   ],
   "metadata": {
    "collapsed": false,
    "pycharm": {
     "name": "#%%\n"
    }
   }
  },
  {
   "cell_type": "markdown",
   "source": [
    "## Now just some easy stuff"
   ],
   "metadata": {
    "collapsed": false,
    "pycharm": {
     "name": "#%% md\n"
    }
   }
  },
  {
   "cell_type": "code",
   "execution_count": 22,
   "outputs": [],
   "source": [
    "enriched_flowcell_table['input_pbi'] = enriched_flowcell_table['input_bam'].apply(lambda s: s+'.pbi')"
   ],
   "metadata": {
    "collapsed": false,
    "pycharm": {
     "name": "#%%\n"
    }
   }
  },
  {
   "cell_type": "code",
   "execution_count": 23,
   "outputs": [],
   "source": [
    "def classify_bam(bam_gs: str) -> str:\n",
    "    transformed = bam_gs.lower()\n",
    "    if transformed.endswith('ccs.bam') or transformed.endswith('hifi_reads.bam'):\n",
    "        return 'CCS'\n",
    "    elif transformed.endswith('subreads.bam') or transformed.endswith('clr.bam'):\n",
    "        return 'CLR'\n",
    "    else:\n",
    "        raise ValueError(f\"Assumption on BAMs naming convention following library type is broken\\n{bam_gs}\")"
   ],
   "metadata": {
    "collapsed": false,
    "pycharm": {
     "name": "#%%\n"
    }
   }
  },
  {
   "cell_type": "code",
   "execution_count": 24,
   "outputs": [],
   "source": [
    "enriched_flowcell_table['library_type'] = enriched_flowcell_table['input_bam'].apply(classify_bam)"
   ],
   "metadata": {
    "collapsed": false,
    "pycharm": {
     "name": "#%%\n"
    }
   }
  },
  {
   "cell_type": "code",
   "execution_count": 25,
   "outputs": [],
   "source": [
    "enriched_flowcell_table['flowcell_id'] = enriched_flowcell_table['input_bam'].apply(lambda gs: gs.split('/')[-1].split('.')[-3])"
   ],
   "metadata": {
    "collapsed": false,
    "pycharm": {
     "name": "#%%\n"
    }
   }
  },
  {
   "cell_type": "code",
   "execution_count": 26,
   "outputs": [
    {
     "name": "stdout",
     "output_type": "stream",
     "text": [
      "133 CCS flowcells\n",
      "65 CLR flowcells\n"
     ]
    }
   ],
   "source": [
    "ccs_flows = enriched_flowcell_table.loc[enriched_flowcell_table['library_type'] == 'CCS', :].reset_index(drop=True)\n",
    "clr_flows = enriched_flowcell_table.loc[enriched_flowcell_table['library_type'] == 'CLR', :].reset_index(drop=True)\n",
    "print(f\"{len(ccs_flows)} CCS flowcells\")\n",
    "print(f\"{len(clr_flows)} CLR flowcells\")"
   ],
   "metadata": {
    "collapsed": false,
    "pycharm": {
     "name": "#%%\n"
    }
   }
  },
  {
   "cell_type": "code",
   "execution_count": 27,
   "outputs": [
    {
     "data": {
      "text/plain": "(198, 12)"
     },
     "execution_count": 27,
     "metadata": {},
     "output_type": "execute_result"
    }
   ],
   "source": [
    "enriched_flowcell_table.shape"
   ],
   "metadata": {
    "collapsed": false,
    "pycharm": {
     "name": "#%%\n"
    }
   }
  },
  {
   "cell_type": "markdown",
   "source": [
    "# Data table organization"
   ],
   "metadata": {
    "collapsed": false,
    "pycharm": {
     "name": "#%% md\n"
    }
   }
  },
  {
   "cell_type": "markdown",
   "source": [
    "We will organize the data tables into the following structure:\n",
    "\n",
    "* `ccs-flowcell`\n",
    "* `clr-flowcell`\n",
    "* `ccs-sample`\n",
    "* `clr-sample`\n",
    "* `individual`\n",
    "* `singlet`\n",
    "* `family`\n",
    "* `population`"
   ],
   "metadata": {
    "collapsed": false,
    "pycharm": {
     "name": "#%% md\n"
    }
   }
  },
  {
   "cell_type": "code",
   "execution_count": 28,
   "outputs": [],
   "source": [
    "target_namespace = 'broad-firecloud-dsde-methods'\n",
    "target_workspace = 'HGSVC2-unified'"
   ],
   "metadata": {
    "collapsed": false,
    "pycharm": {
     "name": "#%%\n"
    }
   }
  },
  {
   "cell_type": "code",
   "execution_count": 29,
   "outputs": [
    {
     "data": {
      "text/plain": "['alias',\n 'family',\n 'father',\n 'flowcell_id',\n 'identity',\n 'individual',\n 'input_bam',\n 'input_pbi',\n 'library_type',\n 'mother',\n 'population',\n 'sex']"
     },
     "execution_count": 29,
     "metadata": {},
     "output_type": "execute_result"
    }
   ],
   "source": [
    "sorted(list(ccs_flows.columns))"
   ],
   "metadata": {
    "collapsed": false,
    "pycharm": {
     "name": "#%%\n"
    }
   }
  },
  {
   "cell_type": "markdown",
   "source": [
    "### Format and upload flowcell level tables"
   ],
   "metadata": {
    "collapsed": false
   }
  },
  {
   "cell_type": "code",
   "execution_count": 33,
   "outputs": [],
   "source": [
    "ccs_flowcells = ccs_flows[['individual', 'sex', 'family', 'identity', 'father', 'mother', 'population', 'input_bam', 'input_pbi', 'library_type', 'alias']]"
   ],
   "metadata": {
    "collapsed": false,
    "pycharm": {
     "name": "#%%\n"
    }
   }
  },
  {
   "cell_type": "code",
   "execution_count": 34,
   "outputs": [
    {
     "data": {
      "text/plain": "                      entity:ccs-flowcell_id individual sex   family identity  \\\n0  GM18989_20210510_Lee_m64119_210501_214725    NA18989   M  NA18989  singlet   \n1  GM18989_20210513_Lee_m64039_210506_192609    NA18989   M  NA18989  singlet   \n2  GM18989_20210513_Lee_m64039_210508_014218    NA18989   M  NA18989  singlet   \n3  GM18989_20210624_Lee_m64039_210616_161955    NA18989   M  NA18989  singlet   \n4                      m54329U_201019_191314    NA19320   F  NA19320  singlet   \n\n  father mother population                                          input_bam  \\\n0     NA     NA        JPT  gs://broad-dsde-methods-long-reads/datasets/HG...   \n1     NA     NA        JPT  gs://broad-dsde-methods-long-reads/datasets/HG...   \n2     NA     NA        JPT  gs://broad-dsde-methods-long-reads/datasets/HG...   \n3     NA     NA        JPT  gs://broad-dsde-methods-long-reads/datasets/HG...   \n4     NA     NA        LWK  gs://broad-dsde-methods-long-reads/datasets/HG...   \n\n                                           input_pbi library_type    alias  \n0  gs://broad-dsde-methods-long-reads/datasets/HG...          CCS  GM18989  \n1  gs://broad-dsde-methods-long-reads/datasets/HG...          CCS  GM18989  \n2  gs://broad-dsde-methods-long-reads/datasets/HG...          CCS  GM18989  \n3  gs://broad-dsde-methods-long-reads/datasets/HG...          CCS  GM18989  \n4  gs://broad-dsde-methods-long-reads/datasets/HG...          CCS  GM19320  ",
      "text/html": "<div>\n<style scoped>\n    .dataframe tbody tr th:only-of-type {\n        vertical-align: middle;\n    }\n\n    .dataframe tbody tr th {\n        vertical-align: top;\n    }\n\n    .dataframe thead th {\n        text-align: right;\n    }\n</style>\n<table border=\"1\" class=\"dataframe\">\n  <thead>\n    <tr style=\"text-align: right;\">\n      <th></th>\n      <th>entity:ccs-flowcell_id</th>\n      <th>individual</th>\n      <th>sex</th>\n      <th>family</th>\n      <th>identity</th>\n      <th>father</th>\n      <th>mother</th>\n      <th>population</th>\n      <th>input_bam</th>\n      <th>input_pbi</th>\n      <th>library_type</th>\n      <th>alias</th>\n    </tr>\n  </thead>\n  <tbody>\n    <tr>\n      <th>0</th>\n      <td>GM18989_20210510_Lee_m64119_210501_214725</td>\n      <td>NA18989</td>\n      <td>M</td>\n      <td>NA18989</td>\n      <td>singlet</td>\n      <td>NA</td>\n      <td>NA</td>\n      <td>JPT</td>\n      <td>gs://broad-dsde-methods-long-reads/datasets/HG...</td>\n      <td>gs://broad-dsde-methods-long-reads/datasets/HG...</td>\n      <td>CCS</td>\n      <td>GM18989</td>\n    </tr>\n    <tr>\n      <th>1</th>\n      <td>GM18989_20210513_Lee_m64039_210506_192609</td>\n      <td>NA18989</td>\n      <td>M</td>\n      <td>NA18989</td>\n      <td>singlet</td>\n      <td>NA</td>\n      <td>NA</td>\n      <td>JPT</td>\n      <td>gs://broad-dsde-methods-long-reads/datasets/HG...</td>\n      <td>gs://broad-dsde-methods-long-reads/datasets/HG...</td>\n      <td>CCS</td>\n      <td>GM18989</td>\n    </tr>\n    <tr>\n      <th>2</th>\n      <td>GM18989_20210513_Lee_m64039_210508_014218</td>\n      <td>NA18989</td>\n      <td>M</td>\n      <td>NA18989</td>\n      <td>singlet</td>\n      <td>NA</td>\n      <td>NA</td>\n      <td>JPT</td>\n      <td>gs://broad-dsde-methods-long-reads/datasets/HG...</td>\n      <td>gs://broad-dsde-methods-long-reads/datasets/HG...</td>\n      <td>CCS</td>\n      <td>GM18989</td>\n    </tr>\n    <tr>\n      <th>3</th>\n      <td>GM18989_20210624_Lee_m64039_210616_161955</td>\n      <td>NA18989</td>\n      <td>M</td>\n      <td>NA18989</td>\n      <td>singlet</td>\n      <td>NA</td>\n      <td>NA</td>\n      <td>JPT</td>\n      <td>gs://broad-dsde-methods-long-reads/datasets/HG...</td>\n      <td>gs://broad-dsde-methods-long-reads/datasets/HG...</td>\n      <td>CCS</td>\n      <td>GM18989</td>\n    </tr>\n    <tr>\n      <th>4</th>\n      <td>m54329U_201019_191314</td>\n      <td>NA19320</td>\n      <td>F</td>\n      <td>NA19320</td>\n      <td>singlet</td>\n      <td>NA</td>\n      <td>NA</td>\n      <td>LWK</td>\n      <td>gs://broad-dsde-methods-long-reads/datasets/HG...</td>\n      <td>gs://broad-dsde-methods-long-reads/datasets/HG...</td>\n      <td>CCS</td>\n      <td>GM19320</td>\n    </tr>\n  </tbody>\n</table>\n</div>"
     },
     "execution_count": 34,
     "metadata": {},
     "output_type": "execute_result"
    }
   ],
   "source": [
    "ccs_flowcells.insert(loc=0, column = 'entity:ccs-flowcell_id', value=ccs_flows['flowcell_id'])\n",
    "ccs_flowcells.head()"
   ],
   "metadata": {
    "collapsed": false,
    "pycharm": {
     "name": "#%%\n"
    }
   }
  },
  {
   "cell_type": "code",
   "execution_count": 35,
   "outputs": [],
   "source": [
    "upload_root_table(target_namespace, target_workspace, ccs_flowcells)"
   ],
   "metadata": {
    "collapsed": false,
    "pycharm": {
     "name": "#%%\n"
    }
   }
  },
  {
   "cell_type": "code",
   "execution_count": 36,
   "outputs": [],
   "source": [
    "clr_flowcells = clr_flows[['individual', 'sex', 'family', 'identity', 'father', 'mother', 'population', 'input_bam', 'input_pbi', 'library_type', 'alias']]\n",
    "clr_flowcells.insert(loc=0, column = 'entity:clr-flowcell_id', value=clr_flows['flowcell_id'])\n",
    "upload_root_table(target_namespace, target_workspace, clr_flowcells)"
   ],
   "metadata": {
    "collapsed": false,
    "pycharm": {
     "name": "#%%\n"
    }
   }
  },
  {
   "cell_type": "markdown",
   "source": [
    "### Make and upload library-type-specific sample tables"
   ],
   "metadata": {
    "collapsed": false,
    "pycharm": {
     "name": "#%% md\n"
    }
   }
  },
  {
   "cell_type": "code",
   "execution_count": 37,
   "outputs": [
    {
     "data": {
      "text/plain": "   individual                             entity:ccs-flowcell_id   family  \\\n0     HG00268  [HG00268_20210121_Lee_m64119_210113_164007, HG...  HG00268   \n1     HG00512  [HG00512_PacBio_Sequel2_CCS__EDEVI_20190920_S6...    SH032   \n2     HG00513  [HG00513_PacBio_Sequel2_CCS__EDEVI_20190920_S6...    SH032   \n3     HG00514  [m54329U_200715_194535, m54329U_200717_235548,...    SH032   \n4     HG00731  [HG00731_20190925_EEE_m54329U_190528_231241, H...     PR05   \n5     HG00732  [HG00732_20200722_EEE_m54329U_200528_200534, H...     PR05   \n6     HG00733  [HG00733_20190925_EEE_m54329U_190607_185248, H...     PR05   \n7     HG01352  [m54329U_200819_192918, m54329U_200824_191532,...    CLM29   \n8     HG01457  [HG01457_20210706_Lee_m64039_210627_040723, HG...    CLM51   \n9     HG02059  [m54329U_210430_224654, m54329U_210505_001822,...    VN061   \n10    HG02106  [HG02106_20210115_Lee_m64119_210108_225831, HG...    PEL38   \n11    HG02554  [m54329U_210424_234256, m54329U_210426_220943,...     BB67   \n12    HG02666  [HG02666_20210706_Lee_m64039_210625_190927, HG...     GB40   \n13    HG02769  [m54329U_210122_200631, m54329U_210125_180102,...     GB57   \n14    HG02953  [m64076_210425_010557, m64076_210426_220753, m...     NG16   \n15    HG03248  [HG03248_20210622_Lee_m64119_210613_003658, HG...    GB116   \n16    HG03452  [m64076_210126_175628, m64076_210131_015832, m...     SL50   \n17    HG03807  [HG03807_20210125_Lee_m64039_210118_125023, HG...     BD19   \n18    HG04036  [m54329U_210411_022852, m64076_210405_202313, ...    ST116   \n19    HG04217  [HG04217_20210125_Lee_m64039_210119_191818, HG...    IT220   \n20    NA18989  [GM18989_20210510_Lee_m64119_210501_214725, GM...  NA18989   \n21    NA19238  [NA19238_20191205_CLEE_m54336U_191015_222230, ...     Y117   \n22    NA19239  [NA19239_20191205_CLEE_m54336U_191005_142313, ...     Y117   \n23    NA19240  [NA19240_20191002_CLEE_m54336U_190827_013439, ...     Y117   \n24    NA19317  [NA19317_20210610_Lee_m64039_210601_195743, NA...  NA19317   \n25    NA19320  [m54329U_201019_191314, m54329U_201023_003851,...  NA19320   \n26    NA19331  [GM19331_20210510_Lee_m64119_210503_041604, GM...   LWK001   \n27    NA19347  [NA19347_20210622_Lee_m64119_210611_153956, NA...  NA19347   \n28    NA19384  [NA19384_20210622_Lee_m64119_210614_074737, NA...  NA19384   \n29    NA20355  [m54329U_210124_022104, m54329U_210220_055130,...    2484a   \n\n    identity  \n0    singlet  \n1     father  \n2     mother  \n3   daughter  \n4     father  \n5     mother  \n6   daughter  \n7    singlet  \n8    singlet  \n9    singlet  \n10   singlet  \n11   singlet  \n12   singlet  \n13   singlet  \n14   singlet  \n15   singlet  \n16   singlet  \n17   singlet  \n18   singlet  \n19   singlet  \n20   singlet  \n21    mother  \n22    father  \n23  daughter  \n24   singlet  \n25   singlet  \n26   singlet  \n27   singlet  \n28   singlet  \n29   singlet  ",
      "text/html": "<div>\n<style scoped>\n    .dataframe tbody tr th:only-of-type {\n        vertical-align: middle;\n    }\n\n    .dataframe tbody tr th {\n        vertical-align: top;\n    }\n\n    .dataframe thead th {\n        text-align: right;\n    }\n</style>\n<table border=\"1\" class=\"dataframe\">\n  <thead>\n    <tr style=\"text-align: right;\">\n      <th></th>\n      <th>individual</th>\n      <th>entity:ccs-flowcell_id</th>\n      <th>family</th>\n      <th>identity</th>\n    </tr>\n  </thead>\n  <tbody>\n    <tr>\n      <th>0</th>\n      <td>HG00268</td>\n      <td>[HG00268_20210121_Lee_m64119_210113_164007, HG...</td>\n      <td>HG00268</td>\n      <td>singlet</td>\n    </tr>\n    <tr>\n      <th>1</th>\n      <td>HG00512</td>\n      <td>[HG00512_PacBio_Sequel2_CCS__EDEVI_20190920_S6...</td>\n      <td>SH032</td>\n      <td>father</td>\n    </tr>\n    <tr>\n      <th>2</th>\n      <td>HG00513</td>\n      <td>[HG00513_PacBio_Sequel2_CCS__EDEVI_20190920_S6...</td>\n      <td>SH032</td>\n      <td>mother</td>\n    </tr>\n    <tr>\n      <th>3</th>\n      <td>HG00514</td>\n      <td>[m54329U_200715_194535, m54329U_200717_235548,...</td>\n      <td>SH032</td>\n      <td>daughter</td>\n    </tr>\n    <tr>\n      <th>4</th>\n      <td>HG00731</td>\n      <td>[HG00731_20190925_EEE_m54329U_190528_231241, H...</td>\n      <td>PR05</td>\n      <td>father</td>\n    </tr>\n    <tr>\n      <th>5</th>\n      <td>HG00732</td>\n      <td>[HG00732_20200722_EEE_m54329U_200528_200534, H...</td>\n      <td>PR05</td>\n      <td>mother</td>\n    </tr>\n    <tr>\n      <th>6</th>\n      <td>HG00733</td>\n      <td>[HG00733_20190925_EEE_m54329U_190607_185248, H...</td>\n      <td>PR05</td>\n      <td>daughter</td>\n    </tr>\n    <tr>\n      <th>7</th>\n      <td>HG01352</td>\n      <td>[m54329U_200819_192918, m54329U_200824_191532,...</td>\n      <td>CLM29</td>\n      <td>singlet</td>\n    </tr>\n    <tr>\n      <th>8</th>\n      <td>HG01457</td>\n      <td>[HG01457_20210706_Lee_m64039_210627_040723, HG...</td>\n      <td>CLM51</td>\n      <td>singlet</td>\n    </tr>\n    <tr>\n      <th>9</th>\n      <td>HG02059</td>\n      <td>[m54329U_210430_224654, m54329U_210505_001822,...</td>\n      <td>VN061</td>\n      <td>singlet</td>\n    </tr>\n    <tr>\n      <th>10</th>\n      <td>HG02106</td>\n      <td>[HG02106_20210115_Lee_m64119_210108_225831, HG...</td>\n      <td>PEL38</td>\n      <td>singlet</td>\n    </tr>\n    <tr>\n      <th>11</th>\n      <td>HG02554</td>\n      <td>[m54329U_210424_234256, m54329U_210426_220943,...</td>\n      <td>BB67</td>\n      <td>singlet</td>\n    </tr>\n    <tr>\n      <th>12</th>\n      <td>HG02666</td>\n      <td>[HG02666_20210706_Lee_m64039_210625_190927, HG...</td>\n      <td>GB40</td>\n      <td>singlet</td>\n    </tr>\n    <tr>\n      <th>13</th>\n      <td>HG02769</td>\n      <td>[m54329U_210122_200631, m54329U_210125_180102,...</td>\n      <td>GB57</td>\n      <td>singlet</td>\n    </tr>\n    <tr>\n      <th>14</th>\n      <td>HG02953</td>\n      <td>[m64076_210425_010557, m64076_210426_220753, m...</td>\n      <td>NG16</td>\n      <td>singlet</td>\n    </tr>\n    <tr>\n      <th>15</th>\n      <td>HG03248</td>\n      <td>[HG03248_20210622_Lee_m64119_210613_003658, HG...</td>\n      <td>GB116</td>\n      <td>singlet</td>\n    </tr>\n    <tr>\n      <th>16</th>\n      <td>HG03452</td>\n      <td>[m64076_210126_175628, m64076_210131_015832, m...</td>\n      <td>SL50</td>\n      <td>singlet</td>\n    </tr>\n    <tr>\n      <th>17</th>\n      <td>HG03807</td>\n      <td>[HG03807_20210125_Lee_m64039_210118_125023, HG...</td>\n      <td>BD19</td>\n      <td>singlet</td>\n    </tr>\n    <tr>\n      <th>18</th>\n      <td>HG04036</td>\n      <td>[m54329U_210411_022852, m64076_210405_202313, ...</td>\n      <td>ST116</td>\n      <td>singlet</td>\n    </tr>\n    <tr>\n      <th>19</th>\n      <td>HG04217</td>\n      <td>[HG04217_20210125_Lee_m64039_210119_191818, HG...</td>\n      <td>IT220</td>\n      <td>singlet</td>\n    </tr>\n    <tr>\n      <th>20</th>\n      <td>NA18989</td>\n      <td>[GM18989_20210510_Lee_m64119_210501_214725, GM...</td>\n      <td>NA18989</td>\n      <td>singlet</td>\n    </tr>\n    <tr>\n      <th>21</th>\n      <td>NA19238</td>\n      <td>[NA19238_20191205_CLEE_m54336U_191015_222230, ...</td>\n      <td>Y117</td>\n      <td>mother</td>\n    </tr>\n    <tr>\n      <th>22</th>\n      <td>NA19239</td>\n      <td>[NA19239_20191205_CLEE_m54336U_191005_142313, ...</td>\n      <td>Y117</td>\n      <td>father</td>\n    </tr>\n    <tr>\n      <th>23</th>\n      <td>NA19240</td>\n      <td>[NA19240_20191002_CLEE_m54336U_190827_013439, ...</td>\n      <td>Y117</td>\n      <td>daughter</td>\n    </tr>\n    <tr>\n      <th>24</th>\n      <td>NA19317</td>\n      <td>[NA19317_20210610_Lee_m64039_210601_195743, NA...</td>\n      <td>NA19317</td>\n      <td>singlet</td>\n    </tr>\n    <tr>\n      <th>25</th>\n      <td>NA19320</td>\n      <td>[m54329U_201019_191314, m54329U_201023_003851,...</td>\n      <td>NA19320</td>\n      <td>singlet</td>\n    </tr>\n    <tr>\n      <th>26</th>\n      <td>NA19331</td>\n      <td>[GM19331_20210510_Lee_m64119_210503_041604, GM...</td>\n      <td>LWK001</td>\n      <td>singlet</td>\n    </tr>\n    <tr>\n      <th>27</th>\n      <td>NA19347</td>\n      <td>[NA19347_20210622_Lee_m64119_210611_153956, NA...</td>\n      <td>NA19347</td>\n      <td>singlet</td>\n    </tr>\n    <tr>\n      <th>28</th>\n      <td>NA19384</td>\n      <td>[NA19384_20210622_Lee_m64119_210614_074737, NA...</td>\n      <td>NA19384</td>\n      <td>singlet</td>\n    </tr>\n    <tr>\n      <th>29</th>\n      <td>NA20355</td>\n      <td>[m54329U_210124_022104, m54329U_210220_055130,...</td>\n      <td>2484a</td>\n      <td>singlet</td>\n    </tr>\n  </tbody>\n</table>\n</div>"
     },
     "execution_count": 37,
     "metadata": {},
     "output_type": "execute_result"
    }
   ],
   "source": [
    "ccs_samples = construct_bare_family_table_from_individual_table(individual_fc_table=ccs_flowcells,\n",
    "                                                                flowcell_id_col='entity:ccs-flowcell_id',\n",
    "                                                                group_by='individual',\n",
    "                                                                family_id_col='family', relation_col='identity')\n",
    "ccs_samples"
   ],
   "metadata": {
    "collapsed": false,
    "pycharm": {
     "name": "#%%\n"
    }
   }
  },
  {
   "cell_type": "code",
   "execution_count": 38,
   "outputs": [
    {
     "name": "stderr",
     "output_type": "stream",
     "text": [
      "2021-12-30 11:46:58,014 - INFO - uploaded set level table, next fill-in members...\n"
     ]
    }
   ],
   "source": [
    "upload_set_table(target_namespace, target_workspace, table=ccs_samples,\n",
    "                 current_set_type_name='individual', desired_set_type_name='ccs-sample',\n",
    "                 current_membership_col_name='entity:ccs-flowcell_id', desired_membership_col_name='ccs-flowcell',\n",
    "                 operation=MembersOperationType.RESET)"
   ],
   "metadata": {
    "collapsed": false,
    "pycharm": {
     "name": "#%%\n"
    }
   }
  },
  {
   "cell_type": "code",
   "execution_count": 39,
   "outputs": [
    {
     "name": "stderr",
     "output_type": "stream",
     "text": [
      "2021-12-30 11:47:16,979 - INFO - uploaded set level table, next fill-in members...\n"
     ]
    }
   ],
   "source": [
    "clr_samples = construct_bare_family_table_from_individual_table(individual_fc_table=clr_flowcells,\n",
    "                                                                flowcell_id_col='entity:clr-flowcell_id',\n",
    "                                                                group_by='individual',\n",
    "                                                                family_id_col='family', relation_col='identity')\n",
    "upload_set_table(target_namespace, target_workspace, table=clr_samples,\n",
    "                 current_set_type_name='individual', desired_set_type_name='clr-sample',\n",
    "                 current_membership_col_name='entity:clr-flowcell_id', desired_membership_col_name='clr-flowcell',\n",
    "                 operation=MembersOperationType.RESET)"
   ],
   "metadata": {
    "collapsed": false,
    "pycharm": {
     "name": "#%%\n"
    }
   }
  },
  {
   "cell_type": "markdown",
   "source": [
    "### Format and upload remaining tables (these tables are not suitable to be used for WDL computations)"
   ],
   "metadata": {
    "collapsed": false,
    "pycharm": {
     "name": "#%% md\n"
    }
   }
  },
  {
   "cell_type": "markdown",
   "source": [
    "#### Prep"
   ],
   "metadata": {
    "collapsed": false
   }
  },
  {
   "cell_type": "code",
   "execution_count": 40,
   "outputs": [],
   "source": [
    "ccs_samples = construct_bare_family_table_from_individual_table(individual_fc_table=ccs_flowcells,\n",
    "                                                                flowcell_id_col='entity:ccs-flowcell_id',\n",
    "                                                                group_by='individual',\n",
    "                                                                family_id_col='family', relation_col='identity')\n",
    "clr_samples = construct_bare_family_table_from_individual_table(individual_fc_table=clr_flowcells,\n",
    "                                                                flowcell_id_col='entity:clr-flowcell_id',\n",
    "                                                                group_by='individual',\n",
    "                                                                family_id_col='family', relation_col='identity')\n",
    "ccs_samples.rename({'entity:ccs-flowcell_id': 'ccs-flowcells'}, axis=1, inplace=True)\n",
    "clr_samples.rename({'entity:clr-flowcell_id': 'clr-flowcells'}, axis=1, inplace=True)"
   ],
   "metadata": {
    "collapsed": false,
    "pycharm": {
     "name": "#%%\n"
    }
   }
  },
  {
   "cell_type": "code",
   "execution_count": 41,
   "outputs": [
    {
     "data": {
      "text/plain": "(52, 7)"
     },
     "execution_count": 41,
     "metadata": {},
     "output_type": "execute_result"
    }
   ],
   "source": [
    "individuals_table = pd.merge(ccs_samples, clr_samples, on='individual', how='outer')\n",
    "individuals_table.shape"
   ],
   "metadata": {
    "collapsed": false,
    "pycharm": {
     "name": "#%%\n"
    }
   }
  },
  {
   "cell_type": "code",
   "execution_count": 42,
   "outputs": [],
   "source": [
    "def resolve_pedigree(row) -> pd.Series:\n",
    "    if pd.isna(row['family_x']) and pd.isna(row['identity_x']):\n",
    "        return pd.Series([row['family_y'], row['identity_y']])\n",
    "    else:\n",
    "        return pd.Series([row['family_x'], row['identity_x']])"
   ],
   "metadata": {
    "collapsed": false,
    "pycharm": {
     "name": "#%%\n"
    }
   }
  },
  {
   "cell_type": "code",
   "execution_count": 43,
   "outputs": [],
   "source": [
    "resolved_pedigree = individuals_table.apply(resolve_pedigree, axis=1)\n",
    "resolved_pedigree.columns = ['family', 'identity']"
   ],
   "metadata": {
    "collapsed": false,
    "pycharm": {
     "name": "#%%\n"
    }
   }
  },
  {
   "cell_type": "code",
   "execution_count": 44,
   "outputs": [
    {
     "data": {
      "text/plain": "     family  identity\n0   HG00268   singlet\n1     SH032    father\n2     SH032    mother\n3     SH032  daughter\n4      PR05    father\n5      PR05    mother\n6      PR05  daughter\n7     CLM29   singlet\n8     CLM51   singlet\n9     VN061   singlet\n10    PEL38   singlet\n11     BB67   singlet\n12     GB40   singlet\n13     GB57   singlet\n14     NG16   singlet\n15    GB116   singlet\n16     SL50   singlet\n17     BD19   singlet\n18    ST116   singlet\n19    IT220   singlet\n20  NA18989   singlet\n21     Y117    mother\n22     Y117    father\n23     Y117  daughter\n24  NA19317   singlet\n25  NA19320   singlet\n26   LWK001   singlet\n27  NA19347   singlet\n28  NA19384   singlet\n29    2484a   singlet\n30  HG00096   singlet\n31  HG00171   singlet\n32  HG00864   singlet\n33    CLM03   singlet\n34   IBS002   singlet\n35    VN002   singlet\n36     BB13   singlet\n37     PK06   singlet\n38     GB24   singlet\n39  HG03009   singlet\n40     SL05   singlet\n41     NG98   singlet\n42    ST012   singlet\n43    IT003    mother\n44    IT003       son\n45     1328   singlet\n46  NA18534   singlet\n47  NA18939   singlet\n48     m001   singlet\n49     2436   singlet\n50  NA20509   singlet\n51  NA20847   singlet",
      "text/html": "<div>\n<style scoped>\n    .dataframe tbody tr th:only-of-type {\n        vertical-align: middle;\n    }\n\n    .dataframe tbody tr th {\n        vertical-align: top;\n    }\n\n    .dataframe thead th {\n        text-align: right;\n    }\n</style>\n<table border=\"1\" class=\"dataframe\">\n  <thead>\n    <tr style=\"text-align: right;\">\n      <th></th>\n      <th>family</th>\n      <th>identity</th>\n    </tr>\n  </thead>\n  <tbody>\n    <tr>\n      <th>0</th>\n      <td>HG00268</td>\n      <td>singlet</td>\n    </tr>\n    <tr>\n      <th>1</th>\n      <td>SH032</td>\n      <td>father</td>\n    </tr>\n    <tr>\n      <th>2</th>\n      <td>SH032</td>\n      <td>mother</td>\n    </tr>\n    <tr>\n      <th>3</th>\n      <td>SH032</td>\n      <td>daughter</td>\n    </tr>\n    <tr>\n      <th>4</th>\n      <td>PR05</td>\n      <td>father</td>\n    </tr>\n    <tr>\n      <th>5</th>\n      <td>PR05</td>\n      <td>mother</td>\n    </tr>\n    <tr>\n      <th>6</th>\n      <td>PR05</td>\n      <td>daughter</td>\n    </tr>\n    <tr>\n      <th>7</th>\n      <td>CLM29</td>\n      <td>singlet</td>\n    </tr>\n    <tr>\n      <th>8</th>\n      <td>CLM51</td>\n      <td>singlet</td>\n    </tr>\n    <tr>\n      <th>9</th>\n      <td>VN061</td>\n      <td>singlet</td>\n    </tr>\n    <tr>\n      <th>10</th>\n      <td>PEL38</td>\n      <td>singlet</td>\n    </tr>\n    <tr>\n      <th>11</th>\n      <td>BB67</td>\n      <td>singlet</td>\n    </tr>\n    <tr>\n      <th>12</th>\n      <td>GB40</td>\n      <td>singlet</td>\n    </tr>\n    <tr>\n      <th>13</th>\n      <td>GB57</td>\n      <td>singlet</td>\n    </tr>\n    <tr>\n      <th>14</th>\n      <td>NG16</td>\n      <td>singlet</td>\n    </tr>\n    <tr>\n      <th>15</th>\n      <td>GB116</td>\n      <td>singlet</td>\n    </tr>\n    <tr>\n      <th>16</th>\n      <td>SL50</td>\n      <td>singlet</td>\n    </tr>\n    <tr>\n      <th>17</th>\n      <td>BD19</td>\n      <td>singlet</td>\n    </tr>\n    <tr>\n      <th>18</th>\n      <td>ST116</td>\n      <td>singlet</td>\n    </tr>\n    <tr>\n      <th>19</th>\n      <td>IT220</td>\n      <td>singlet</td>\n    </tr>\n    <tr>\n      <th>20</th>\n      <td>NA18989</td>\n      <td>singlet</td>\n    </tr>\n    <tr>\n      <th>21</th>\n      <td>Y117</td>\n      <td>mother</td>\n    </tr>\n    <tr>\n      <th>22</th>\n      <td>Y117</td>\n      <td>father</td>\n    </tr>\n    <tr>\n      <th>23</th>\n      <td>Y117</td>\n      <td>daughter</td>\n    </tr>\n    <tr>\n      <th>24</th>\n      <td>NA19317</td>\n      <td>singlet</td>\n    </tr>\n    <tr>\n      <th>25</th>\n      <td>NA19320</td>\n      <td>singlet</td>\n    </tr>\n    <tr>\n      <th>26</th>\n      <td>LWK001</td>\n      <td>singlet</td>\n    </tr>\n    <tr>\n      <th>27</th>\n      <td>NA19347</td>\n      <td>singlet</td>\n    </tr>\n    <tr>\n      <th>28</th>\n      <td>NA19384</td>\n      <td>singlet</td>\n    </tr>\n    <tr>\n      <th>29</th>\n      <td>2484a</td>\n      <td>singlet</td>\n    </tr>\n    <tr>\n      <th>30</th>\n      <td>HG00096</td>\n      <td>singlet</td>\n    </tr>\n    <tr>\n      <th>31</th>\n      <td>HG00171</td>\n      <td>singlet</td>\n    </tr>\n    <tr>\n      <th>32</th>\n      <td>HG00864</td>\n      <td>singlet</td>\n    </tr>\n    <tr>\n      <th>33</th>\n      <td>CLM03</td>\n      <td>singlet</td>\n    </tr>\n    <tr>\n      <th>34</th>\n      <td>IBS002</td>\n      <td>singlet</td>\n    </tr>\n    <tr>\n      <th>35</th>\n      <td>VN002</td>\n      <td>singlet</td>\n    </tr>\n    <tr>\n      <th>36</th>\n      <td>BB13</td>\n      <td>singlet</td>\n    </tr>\n    <tr>\n      <th>37</th>\n      <td>PK06</td>\n      <td>singlet</td>\n    </tr>\n    <tr>\n      <th>38</th>\n      <td>GB24</td>\n      <td>singlet</td>\n    </tr>\n    <tr>\n      <th>39</th>\n      <td>HG03009</td>\n      <td>singlet</td>\n    </tr>\n    <tr>\n      <th>40</th>\n      <td>SL05</td>\n      <td>singlet</td>\n    </tr>\n    <tr>\n      <th>41</th>\n      <td>NG98</td>\n      <td>singlet</td>\n    </tr>\n    <tr>\n      <th>42</th>\n      <td>ST012</td>\n      <td>singlet</td>\n    </tr>\n    <tr>\n      <th>43</th>\n      <td>IT003</td>\n      <td>mother</td>\n    </tr>\n    <tr>\n      <th>44</th>\n      <td>IT003</td>\n      <td>son</td>\n    </tr>\n    <tr>\n      <th>45</th>\n      <td>1328</td>\n      <td>singlet</td>\n    </tr>\n    <tr>\n      <th>46</th>\n      <td>NA18534</td>\n      <td>singlet</td>\n    </tr>\n    <tr>\n      <th>47</th>\n      <td>NA18939</td>\n      <td>singlet</td>\n    </tr>\n    <tr>\n      <th>48</th>\n      <td>m001</td>\n      <td>singlet</td>\n    </tr>\n    <tr>\n      <th>49</th>\n      <td>2436</td>\n      <td>singlet</td>\n    </tr>\n    <tr>\n      <th>50</th>\n      <td>NA20509</td>\n      <td>singlet</td>\n    </tr>\n    <tr>\n      <th>51</th>\n      <td>NA20847</td>\n      <td>singlet</td>\n    </tr>\n  </tbody>\n</table>\n</div>"
     },
     "execution_count": 44,
     "metadata": {},
     "output_type": "execute_result"
    }
   ],
   "source": [
    "resolved_pedigree"
   ],
   "metadata": {
    "collapsed": false,
    "pycharm": {
     "name": "#%%\n"
    }
   }
  },
  {
   "cell_type": "code",
   "execution_count": 45,
   "outputs": [
    {
     "data": {
      "text/plain": "  individual                                      ccs-flowcells  \\\n0    HG00268  [HG00268_20210121_Lee_m64119_210113_164007, HG...   \n1    HG00512  [HG00512_PacBio_Sequel2_CCS__EDEVI_20190920_S6...   \n2    HG00513  [HG00513_PacBio_Sequel2_CCS__EDEVI_20190920_S6...   \n3    HG00514  [m54329U_200715_194535, m54329U_200717_235548,...   \n4    HG00731  [HG00731_20190925_EEE_m54329U_190528_231241, H...   \n\n                                       clr-flowcells   family  identity  \n0                                                NaN  HG00268   singlet  \n1  [EDEVI_20200115_S64049_PL100139347A-1_A01, EDE...    SH032    father  \n2  [EDEVI_20200115_S64049_PL100139348A-1_B01, EDE...    SH032    mother  \n3     [m54329U_200723_213143, m54329U_200724_231822]    SH032  daughter  \n4  [20191208_r64076_20191206_232343_B01, 20191210...     PR05    father  ",
      "text/html": "<div>\n<style scoped>\n    .dataframe tbody tr th:only-of-type {\n        vertical-align: middle;\n    }\n\n    .dataframe tbody tr th {\n        vertical-align: top;\n    }\n\n    .dataframe thead th {\n        text-align: right;\n    }\n</style>\n<table border=\"1\" class=\"dataframe\">\n  <thead>\n    <tr style=\"text-align: right;\">\n      <th></th>\n      <th>individual</th>\n      <th>ccs-flowcells</th>\n      <th>clr-flowcells</th>\n      <th>family</th>\n      <th>identity</th>\n    </tr>\n  </thead>\n  <tbody>\n    <tr>\n      <th>0</th>\n      <td>HG00268</td>\n      <td>[HG00268_20210121_Lee_m64119_210113_164007, HG...</td>\n      <td>NaN</td>\n      <td>HG00268</td>\n      <td>singlet</td>\n    </tr>\n    <tr>\n      <th>1</th>\n      <td>HG00512</td>\n      <td>[HG00512_PacBio_Sequel2_CCS__EDEVI_20190920_S6...</td>\n      <td>[EDEVI_20200115_S64049_PL100139347A-1_A01, EDE...</td>\n      <td>SH032</td>\n      <td>father</td>\n    </tr>\n    <tr>\n      <th>2</th>\n      <td>HG00513</td>\n      <td>[HG00513_PacBio_Sequel2_CCS__EDEVI_20190920_S6...</td>\n      <td>[EDEVI_20200115_S64049_PL100139348A-1_B01, EDE...</td>\n      <td>SH032</td>\n      <td>mother</td>\n    </tr>\n    <tr>\n      <th>3</th>\n      <td>HG00514</td>\n      <td>[m54329U_200715_194535, m54329U_200717_235548,...</td>\n      <td>[m54329U_200723_213143, m54329U_200724_231822]</td>\n      <td>SH032</td>\n      <td>daughter</td>\n    </tr>\n    <tr>\n      <th>4</th>\n      <td>HG00731</td>\n      <td>[HG00731_20190925_EEE_m54329U_190528_231241, H...</td>\n      <td>[20191208_r64076_20191206_232343_B01, 20191210...</td>\n      <td>PR05</td>\n      <td>father</td>\n    </tr>\n  </tbody>\n</table>\n</div>"
     },
     "execution_count": 45,
     "metadata": {},
     "output_type": "execute_result"
    }
   ],
   "source": [
    "individuals_table = pd.concat([individuals_table, resolved_pedigree], axis=1)\n",
    "individuals_table.drop(labels=['family_x', 'identity_x', 'family_y', 'identity_y'], axis=1, inplace=True)\n",
    "individuals_table.head()"
   ],
   "metadata": {
    "collapsed": false,
    "pycharm": {
     "name": "#%%\n"
    }
   }
  },
  {
   "cell_type": "code",
   "execution_count": 47,
   "outputs": [
    {
     "data": {
      "text/plain": "  individual                                      ccs-flowcells  \\\n0    HG00268  [HG00268_20210121_Lee_m64119_210113_164007, HG...   \n1    HG00512  [HG00512_PacBio_Sequel2_CCS__EDEVI_20190920_S6...   \n2    HG00513  [HG00513_PacBio_Sequel2_CCS__EDEVI_20190920_S6...   \n3    HG00514  [m54329U_200715_194535, m54329U_200717_235548,...   \n4    HG00731  [HG00731_20190925_EEE_m54329U_190528_231241, H...   \n\n                                       clr-flowcells   family  identity  \\\n0                                                NaN  HG00268   singlet   \n1  [EDEVI_20200115_S64049_PL100139347A-1_A01, EDE...    SH032    father   \n2  [EDEVI_20200115_S64049_PL100139348A-1_B01, EDE...    SH032    mother   \n3     [m54329U_200723_213143, m54329U_200724_231822]    SH032  daughter   \n4  [20191208_r64076_20191206_232343_B01, 20191210...     PR05    father   \n\n  population  \n0        FIN  \n1        CHS  \n2        CHS  \n3        CHS  \n4        PUR  ",
      "text/html": "<div>\n<style scoped>\n    .dataframe tbody tr th:only-of-type {\n        vertical-align: middle;\n    }\n\n    .dataframe tbody tr th {\n        vertical-align: top;\n    }\n\n    .dataframe thead th {\n        text-align: right;\n    }\n</style>\n<table border=\"1\" class=\"dataframe\">\n  <thead>\n    <tr style=\"text-align: right;\">\n      <th></th>\n      <th>individual</th>\n      <th>ccs-flowcells</th>\n      <th>clr-flowcells</th>\n      <th>family</th>\n      <th>identity</th>\n      <th>population</th>\n    </tr>\n  </thead>\n  <tbody>\n    <tr>\n      <th>0</th>\n      <td>HG00268</td>\n      <td>[HG00268_20210121_Lee_m64119_210113_164007, HG...</td>\n      <td>NaN</td>\n      <td>HG00268</td>\n      <td>singlet</td>\n      <td>FIN</td>\n    </tr>\n    <tr>\n      <th>1</th>\n      <td>HG00512</td>\n      <td>[HG00512_PacBio_Sequel2_CCS__EDEVI_20190920_S6...</td>\n      <td>[EDEVI_20200115_S64049_PL100139347A-1_A01, EDE...</td>\n      <td>SH032</td>\n      <td>father</td>\n      <td>CHS</td>\n    </tr>\n    <tr>\n      <th>2</th>\n      <td>HG00513</td>\n      <td>[HG00513_PacBio_Sequel2_CCS__EDEVI_20190920_S6...</td>\n      <td>[EDEVI_20200115_S64049_PL100139348A-1_B01, EDE...</td>\n      <td>SH032</td>\n      <td>mother</td>\n      <td>CHS</td>\n    </tr>\n    <tr>\n      <th>3</th>\n      <td>HG00514</td>\n      <td>[m54329U_200715_194535, m54329U_200717_235548,...</td>\n      <td>[m54329U_200723_213143, m54329U_200724_231822]</td>\n      <td>SH032</td>\n      <td>daughter</td>\n      <td>CHS</td>\n    </tr>\n    <tr>\n      <th>4</th>\n      <td>HG00731</td>\n      <td>[HG00731_20190925_EEE_m54329U_190528_231241, H...</td>\n      <td>[20191208_r64076_20191206_232343_B01, 20191210...</td>\n      <td>PR05</td>\n      <td>father</td>\n      <td>PUR</td>\n    </tr>\n  </tbody>\n</table>\n</div>"
     },
     "execution_count": 47,
     "metadata": {},
     "output_type": "execute_result"
    }
   ],
   "source": [
    "family_2_pop = dict(zip(enriched_flowcell_table['family'].tolist(), enriched_flowcell_table['population'].tolist()))\n",
    "individuals_table['population'] = individuals_table['family'].apply(lambda f: family_2_pop[f])\n",
    "individuals_table.head()"
   ],
   "metadata": {
    "collapsed": false,
    "pycharm": {
     "name": "#%%\n"
    }
   }
  },
  {
   "cell_type": "markdown",
   "source": [
    "##### Table: `individual`"
   ],
   "metadata": {
    "collapsed": false
   }
  },
  {
   "cell_type": "code",
   "execution_count": 48,
   "outputs": [
    {
     "data": {
      "text/plain": "  entity:individual_id   family  identity population\n0              HG00268  HG00268   singlet        FIN\n1              HG00512    SH032    father        CHS\n2              HG00513    SH032    mother        CHS\n3              HG00514    SH032  daughter        CHS\n4              HG00731     PR05    father        PUR",
      "text/html": "<div>\n<style scoped>\n    .dataframe tbody tr th:only-of-type {\n        vertical-align: middle;\n    }\n\n    .dataframe tbody tr th {\n        vertical-align: top;\n    }\n\n    .dataframe thead th {\n        text-align: right;\n    }\n</style>\n<table border=\"1\" class=\"dataframe\">\n  <thead>\n    <tr style=\"text-align: right;\">\n      <th></th>\n      <th>entity:individual_id</th>\n      <th>family</th>\n      <th>identity</th>\n      <th>population</th>\n    </tr>\n  </thead>\n  <tbody>\n    <tr>\n      <th>0</th>\n      <td>HG00268</td>\n      <td>HG00268</td>\n      <td>singlet</td>\n      <td>FIN</td>\n    </tr>\n    <tr>\n      <th>1</th>\n      <td>HG00512</td>\n      <td>SH032</td>\n      <td>father</td>\n      <td>CHS</td>\n    </tr>\n    <tr>\n      <th>2</th>\n      <td>HG00513</td>\n      <td>SH032</td>\n      <td>mother</td>\n      <td>CHS</td>\n    </tr>\n    <tr>\n      <th>3</th>\n      <td>HG00514</td>\n      <td>SH032</td>\n      <td>daughter</td>\n      <td>CHS</td>\n    </tr>\n    <tr>\n      <th>4</th>\n      <td>HG00731</td>\n      <td>PR05</td>\n      <td>father</td>\n      <td>PUR</td>\n    </tr>\n  </tbody>\n</table>\n</div>"
     },
     "execution_count": 48,
     "metadata": {},
     "output_type": "execute_result"
    }
   ],
   "source": [
    "individuals_table_barebone = individuals_table[['individual', 'family', 'identity', 'population']].copy(deep=True)\n",
    "individuals_table_barebone.rename({'individual': 'entity:individual_id'}, axis=1, inplace=True)\n",
    "individuals_table_barebone.head()"
   ],
   "metadata": {
    "collapsed": false,
    "pycharm": {
     "name": "#%%\n"
    }
   }
  },
  {
   "cell_type": "code",
   "execution_count": 49,
   "outputs": [
    {
     "data": {
      "text/plain": "True"
     },
     "execution_count": 49,
     "metadata": {},
     "output_type": "execute_result"
    }
   ],
   "source": [
    "response = fapi.upload_entities(target_namespace, target_workspace,\n",
    "                                entity_data=individuals_table_barebone.to_csv(sep='\\t', index=False),\n",
    "                                model='flexible')\n",
    "response.ok"
   ],
   "metadata": {
    "collapsed": false,
    "pycharm": {
     "name": "#%%\n"
    }
   }
  },
  {
   "cell_type": "code",
   "execution_count": 50,
   "outputs": [],
   "source": [
    "def __upload_one_set(ns: str, ws: str,\n",
    "                     etype: str, ename: str,\n",
    "                     member_type: str, members: List[str],\n",
    "                     operation: MembersOperationType) -> None:\n",
    "    \"\"\"\n",
    "    For a given set identified by etype and ename, fill-in it's members,\n",
    "    assuming the member entities already exists on Terra.\n",
    "    :param ns: namespace\n",
    "    :param ws: workspace\n",
    "    :param etype: entity type\n",
    "    :param ename: entity UUID\n",
    "    :param member_type: entity type of the members\n",
    "    :param members: list of member uuids\n",
    "    :param operation: whether to override or append to existing membership list\n",
    "    :return:\n",
    "    \"\"\"\n",
    "\n",
    "    operations = list()\n",
    "    response = fapi.get_entity(ns, ws, etype, ename)\n",
    "    if not response.ok:\n",
    "        raise FireCloudServerError(response.status_code, response.text)\n",
    "\n",
    "    attributes = response.json().get('attributes')\n",
    "    if f'{member_type}s' not in attributes:\n",
    "        operations.append({\n",
    "            \"op\": \"CreateAttributeEntityReferenceList\",\n",
    "            \"attributeListName\": f\"{member_type}s\"\n",
    "        })\n",
    "        members_to_upload = members\n",
    "    else:\n",
    "        old_members = [e['entityName'] for e in attributes[f'{member_type}s']['items']]\n",
    "        if operation == MembersOperationType.MERGE:\n",
    "            members_to_upload = list(set(members) - set(old_members))\n",
    "        else:\n",
    "            for member_id in old_members:\n",
    "                operations.append({\n",
    "                    \"op\": \"RemoveListMember\",\n",
    "                    \"attributeListName\": f\"{member_type}s\",\n",
    "                    \"removeMember\": {\"entityType\":f\"{member_type}\",\n",
    "                                     \"entityName\":f\"{member_id}\"}\n",
    "                })\n",
    "            members_to_upload = members\n",
    "\n",
    "    for member_id in members_to_upload:\n",
    "        operations.append({\n",
    "            \"op\": \"AddListMember\",\n",
    "            \"attributeListName\": f\"{member_type}s\",\n",
    "            \"newMember\": {\"entityType\":f\"{member_type}\",\n",
    "                          \"entityName\":f\"{member_id}\"}\n",
    "        })\n",
    "    logger.debug(operations)\n",
    "\n",
    "    response = fapi.update_entity(ns, ws,\n",
    "                                  etype=etype,\n",
    "                                  ename=ename,\n",
    "                                  updates=operations)\n",
    "    if not response.ok:\n",
    "        raise FireCloudServerError(response.status_code, response.text)"
   ],
   "metadata": {
    "collapsed": false,
    "pycharm": {
     "name": "#%%\n"
    }
   }
  },
  {
   "cell_type": "code",
   "execution_count": 51,
   "outputs": [],
   "source": [
    "for i in range(len(individuals_table)):\n",
    "    set_uuid = individuals_table.iloc[i, 0]\n",
    "\n",
    "    ccs_members = individuals_table.iloc[i, 1]\n",
    "    if 'nan' != str(ccs_members):\n",
    "        try:\n",
    "            __upload_one_set(target_namespace, target_workspace,\n",
    "                             etype='individual', ename=set_uuid,\n",
    "                             member_type='ccs-flowcell', members=ccs_members,\n",
    "                             operation=MembersOperationType.RESET)\n",
    "        except FireCloudServerError:\n",
    "            logger.error(f\"Failed to upload ccs membership information for {set_uuid}\")\n",
    "            raise\n",
    "\n",
    "    clr_members = individuals_table.iloc[i, 2]\n",
    "    if 'nan' != str(clr_members):\n",
    "        try:\n",
    "            __upload_one_set(target_namespace, target_workspace,\n",
    "                             etype='individual', ename=set_uuid,\n",
    "                             member_type='clr-flowcell', members=clr_members,\n",
    "                             operation=MembersOperationType.RESET)\n",
    "        except FireCloudServerError:\n",
    "            logger.error(f\"Failed to upload clr membership information for {set_uuid}\")\n",
    "            raise"
   ],
   "metadata": {
    "collapsed": false,
    "pycharm": {
     "name": "#%%\n"
    }
   }
  },
  {
   "cell_type": "markdown",
   "source": [
    "##### Tables `singlet` and `family`"
   ],
   "metadata": {
    "collapsed": false
   }
  },
  {
   "cell_type": "code",
   "execution_count": 52,
   "outputs": [],
   "source": [
    "singlets_and_families = individuals_table.groupby('family')\\\n",
    "        .agg({'family': lambda x: x.tolist()[0],\n",
    "              'individual': lambda x: x.tolist(),\n",
    "              'population': lambda x: x.tolist()[0]})\\\n",
    "        .reset_index(drop=True)"
   ],
   "metadata": {
    "collapsed": false,
    "pycharm": {
     "name": "#%%\n"
    }
   }
  },
  {
   "cell_type": "code",
   "execution_count": 53,
   "outputs": [],
   "source": [
    "singlets = singlets_and_families.loc[singlets_and_families['individual'].apply(lambda l: 1==len(l)),:]\n",
    "families = singlets_and_families.loc[singlets_and_families['individual'].apply(lambda l: 1<len(l)),:]"
   ],
   "metadata": {
    "collapsed": false,
    "pycharm": {
     "name": "#%%\n"
    }
   }
  },
  {
   "cell_type": "code",
   "execution_count": 54,
   "outputs": [
    {
     "data": {
      "text/plain": "(41, 3)"
     },
     "execution_count": 54,
     "metadata": {},
     "output_type": "execute_result"
    }
   ],
   "source": [
    "singlets.shape"
   ],
   "metadata": {
    "collapsed": false,
    "pycharm": {
     "name": "#%%\n"
    }
   }
  },
  {
   "cell_type": "code",
   "execution_count": 55,
   "outputs": [
    {
     "data": {
      "text/plain": "(4, 3)"
     },
     "execution_count": 55,
     "metadata": {},
     "output_type": "execute_result"
    }
   ],
   "source": [
    "families.shape"
   ],
   "metadata": {
    "collapsed": false,
    "pycharm": {
     "name": "#%%\n"
    }
   }
  },
  {
   "cell_type": "code",
   "execution_count": 56,
   "outputs": [
    {
     "name": "stderr",
     "output_type": "stream",
     "text": [
      "2021-12-30 11:56:23,461 - INFO - uploaded set level table, next fill-in members...\n"
     ]
    }
   ],
   "source": [
    "upload_set_table(target_namespace, target_workspace, singlets,\n",
    "                 current_set_type_name='family', desired_set_type_name='singlet',\n",
    "                 current_membership_col_name='individual', desired_membership_col_name='individuals', operation=MembersOperationType.RESET)"
   ],
   "metadata": {
    "collapsed": false,
    "pycharm": {
     "name": "#%%\n"
    }
   }
  },
  {
   "cell_type": "code",
   "execution_count": 57,
   "outputs": [
    {
     "name": "stderr",
     "output_type": "stream",
     "text": [
      "2021-12-30 11:56:39,160 - INFO - uploaded set level table, next fill-in members...\n"
     ]
    }
   ],
   "source": [
    "upload_set_table(target_namespace, target_workspace, families,\n",
    "                 current_set_type_name='family', desired_set_type_name='family',\n",
    "                 current_membership_col_name='individual', desired_membership_col_name='individuals', operation=MembersOperationType.RESET)"
   ],
   "metadata": {
    "collapsed": false,
    "pycharm": {
     "name": "#%%\n"
    }
   }
  },
  {
   "cell_type": "markdown",
   "source": [
    "##### Table `population`"
   ],
   "metadata": {
    "collapsed": false,
    "pycharm": {
     "name": "#%% md\n"
    }
   }
  },
  {
   "cell_type": "code",
   "execution_count": 61,
   "outputs": [
    {
     "data": {
      "text/plain": "  family individual population\n0   1328  [NA12329]       CEPH\n1   2436  [NA19983]        ASW\n2  2484a  [NA20355]        ASW\n3   BB13  [HG02011]        ACB\n4   BB67  [HG02554]        ACB",
      "text/html": "<div>\n<style scoped>\n    .dataframe tbody tr th:only-of-type {\n        vertical-align: middle;\n    }\n\n    .dataframe tbody tr th {\n        vertical-align: top;\n    }\n\n    .dataframe thead th {\n        text-align: right;\n    }\n</style>\n<table border=\"1\" class=\"dataframe\">\n  <thead>\n    <tr style=\"text-align: right;\">\n      <th></th>\n      <th>family</th>\n      <th>individual</th>\n      <th>population</th>\n    </tr>\n  </thead>\n  <tbody>\n    <tr>\n      <th>0</th>\n      <td>1328</td>\n      <td>[NA12329]</td>\n      <td>CEPH</td>\n    </tr>\n    <tr>\n      <th>1</th>\n      <td>2436</td>\n      <td>[NA19983]</td>\n      <td>ASW</td>\n    </tr>\n    <tr>\n      <th>2</th>\n      <td>2484a</td>\n      <td>[NA20355]</td>\n      <td>ASW</td>\n    </tr>\n    <tr>\n      <th>3</th>\n      <td>BB13</td>\n      <td>[HG02011]</td>\n      <td>ACB</td>\n    </tr>\n    <tr>\n      <th>4</th>\n      <td>BB67</td>\n      <td>[HG02554]</td>\n      <td>ACB</td>\n    </tr>\n  </tbody>\n</table>\n</div>"
     },
     "execution_count": 61,
     "metadata": {},
     "output_type": "execute_result"
    }
   ],
   "source": [
    "singlets_and_families.head()"
   ],
   "metadata": {
    "collapsed": false,
    "pycharm": {
     "name": "#%%\n"
    }
   }
  },
  {
   "cell_type": "code",
   "execution_count": 80,
   "outputs": [
    {
     "data": {
      "text/plain": "   population                                        family  \\\n0         ACB                                  [BB13, BB67]   \n1         ASW                                 [2436, 2484a]   \n2         BEB                               [BD19, HG03009]   \n3         CDX                                     [HG00864]   \n4        CEPH                                        [1328]   \n5         CHS                              [NA18534, SH032]   \n6         CLM                         [CLM03, CLM29, CLM51]   \n7         ESN                                  [NG16, NG98]   \n8         FIN                            [HG00171, HG00268]   \n9         GBR                                     [HG00096]   \n10        GIH                                     [NA20847]   \n11        GWD                     [GB116, GB24, GB40, GB57]   \n12        IBS                                      [IBS002]   \n13        ITU                                [IT003, IT220]   \n14        JPT                            [NA18939, NA18989]   \n15        KHV                                [VN002, VN061]   \n16        LWK  [LWK001, NA19317, NA19320, NA19347, NA19384]   \n17        MSL                                  [SL05, SL50]   \n18        MXL                                        [m001]   \n19        PEL                                       [PEL38]   \n20        PJL                                        [PK06]   \n21        PUR                                        [PR05]   \n22        STU                                [ST012, ST116]   \n23        TSI                                     [NA20509]   \n24        YRI                                        [Y117]   \n\n                                           individual  \n0                              [[HG02011], [HG02554]]  \n1                              [[NA19983], [NA20355]]  \n2                              [[HG03807], [HG03009]]  \n3                                         [[HG00864]]  \n4                                         [[NA12329]]  \n5            [[NA18534], [HG00512, HG00513, HG00514]]  \n6                   [[HG01114], [HG01352], [HG01457]]  \n7                              [[HG02953], [HG03371]]  \n8                              [[HG00171], [HG00268]]  \n9                                         [[HG00096]]  \n10                                        [[NA20847]]  \n11       [[HG03248], [HG02587], [HG02666], [HG02769]]  \n12                                        [[HG01505]]  \n13                    [[HG03721, HG03732], [HG04217]]  \n14                             [[NA18939], [NA18989]]  \n15                             [[HG01596], [HG02059]]  \n16  [[NA19331], [NA19317], [NA19320], [NA19347], [...  \n17                             [[HG03065], [HG03452]]  \n18                                        [[NA19650]]  \n19                                        [[HG02106]]  \n20                                        [[HG02492]]  \n21                      [[HG00731, HG00732, HG00733]]  \n22                             [[HG03683], [HG04036]]  \n23                                        [[NA20509]]  \n24                      [[NA19238, NA19239, NA19240]]  ",
      "text/html": "<div>\n<style scoped>\n    .dataframe tbody tr th:only-of-type {\n        vertical-align: middle;\n    }\n\n    .dataframe tbody tr th {\n        vertical-align: top;\n    }\n\n    .dataframe thead th {\n        text-align: right;\n    }\n</style>\n<table border=\"1\" class=\"dataframe\">\n  <thead>\n    <tr style=\"text-align: right;\">\n      <th></th>\n      <th>population</th>\n      <th>family</th>\n      <th>individual</th>\n    </tr>\n  </thead>\n  <tbody>\n    <tr>\n      <th>0</th>\n      <td>ACB</td>\n      <td>[BB13, BB67]</td>\n      <td>[[HG02011], [HG02554]]</td>\n    </tr>\n    <tr>\n      <th>1</th>\n      <td>ASW</td>\n      <td>[2436, 2484a]</td>\n      <td>[[NA19983], [NA20355]]</td>\n    </tr>\n    <tr>\n      <th>2</th>\n      <td>BEB</td>\n      <td>[BD19, HG03009]</td>\n      <td>[[HG03807], [HG03009]]</td>\n    </tr>\n    <tr>\n      <th>3</th>\n      <td>CDX</td>\n      <td>[HG00864]</td>\n      <td>[[HG00864]]</td>\n    </tr>\n    <tr>\n      <th>4</th>\n      <td>CEPH</td>\n      <td>[1328]</td>\n      <td>[[NA12329]]</td>\n    </tr>\n    <tr>\n      <th>5</th>\n      <td>CHS</td>\n      <td>[NA18534, SH032]</td>\n      <td>[[NA18534], [HG00512, HG00513, HG00514]]</td>\n    </tr>\n    <tr>\n      <th>6</th>\n      <td>CLM</td>\n      <td>[CLM03, CLM29, CLM51]</td>\n      <td>[[HG01114], [HG01352], [HG01457]]</td>\n    </tr>\n    <tr>\n      <th>7</th>\n      <td>ESN</td>\n      <td>[NG16, NG98]</td>\n      <td>[[HG02953], [HG03371]]</td>\n    </tr>\n    <tr>\n      <th>8</th>\n      <td>FIN</td>\n      <td>[HG00171, HG00268]</td>\n      <td>[[HG00171], [HG00268]]</td>\n    </tr>\n    <tr>\n      <th>9</th>\n      <td>GBR</td>\n      <td>[HG00096]</td>\n      <td>[[HG00096]]</td>\n    </tr>\n    <tr>\n      <th>10</th>\n      <td>GIH</td>\n      <td>[NA20847]</td>\n      <td>[[NA20847]]</td>\n    </tr>\n    <tr>\n      <th>11</th>\n      <td>GWD</td>\n      <td>[GB116, GB24, GB40, GB57]</td>\n      <td>[[HG03248], [HG02587], [HG02666], [HG02769]]</td>\n    </tr>\n    <tr>\n      <th>12</th>\n      <td>IBS</td>\n      <td>[IBS002]</td>\n      <td>[[HG01505]]</td>\n    </tr>\n    <tr>\n      <th>13</th>\n      <td>ITU</td>\n      <td>[IT003, IT220]</td>\n      <td>[[HG03721, HG03732], [HG04217]]</td>\n    </tr>\n    <tr>\n      <th>14</th>\n      <td>JPT</td>\n      <td>[NA18939, NA18989]</td>\n      <td>[[NA18939], [NA18989]]</td>\n    </tr>\n    <tr>\n      <th>15</th>\n      <td>KHV</td>\n      <td>[VN002, VN061]</td>\n      <td>[[HG01596], [HG02059]]</td>\n    </tr>\n    <tr>\n      <th>16</th>\n      <td>LWK</td>\n      <td>[LWK001, NA19317, NA19320, NA19347, NA19384]</td>\n      <td>[[NA19331], [NA19317], [NA19320], [NA19347], [...</td>\n    </tr>\n    <tr>\n      <th>17</th>\n      <td>MSL</td>\n      <td>[SL05, SL50]</td>\n      <td>[[HG03065], [HG03452]]</td>\n    </tr>\n    <tr>\n      <th>18</th>\n      <td>MXL</td>\n      <td>[m001]</td>\n      <td>[[NA19650]]</td>\n    </tr>\n    <tr>\n      <th>19</th>\n      <td>PEL</td>\n      <td>[PEL38]</td>\n      <td>[[HG02106]]</td>\n    </tr>\n    <tr>\n      <th>20</th>\n      <td>PJL</td>\n      <td>[PK06]</td>\n      <td>[[HG02492]]</td>\n    </tr>\n    <tr>\n      <th>21</th>\n      <td>PUR</td>\n      <td>[PR05]</td>\n      <td>[[HG00731, HG00732, HG00733]]</td>\n    </tr>\n    <tr>\n      <th>22</th>\n      <td>STU</td>\n      <td>[ST012, ST116]</td>\n      <td>[[HG03683], [HG04036]]</td>\n    </tr>\n    <tr>\n      <th>23</th>\n      <td>TSI</td>\n      <td>[NA20509]</td>\n      <td>[[NA20509]]</td>\n    </tr>\n    <tr>\n      <th>24</th>\n      <td>YRI</td>\n      <td>[Y117]</td>\n      <td>[[NA19238, NA19239, NA19240]]</td>\n    </tr>\n  </tbody>\n</table>\n</div>"
     },
     "execution_count": 80,
     "metadata": {},
     "output_type": "execute_result"
    }
   ],
   "source": [
    "populations = singlets_and_families.groupby('population')\\\n",
    "        .agg({'population': lambda x: x.tolist()[0],\n",
    "              'family': lambda x: x.tolist(),\n",
    "              'individual': lambda x: x.tolist()})\\\n",
    "        .reset_index(drop=True)\n",
    "populations"
   ],
   "metadata": {
    "collapsed": false,
    "pycharm": {
     "name": "#%%\n"
    }
   }
  },
  {
   "cell_type": "code",
   "execution_count": 81,
   "outputs": [],
   "source": [
    "def separate_family_singlet(row) -> pd.Series:\n",
    "    a = row['family']\n",
    "    b = row['individual']\n",
    "    assert len(a) == len(b),\\\n",
    "        f'family array and individual array assumed to be same length, not so with {row}'\n",
    "\n",
    "    families = list()\n",
    "    singlets = list()\n",
    "\n",
    "    for i in range(len(a)):\n",
    "        f = a[i]\n",
    "        persons = b[i]\n",
    "        if len(persons) == 1:\n",
    "            singlets.append(f)\n",
    "        else:\n",
    "            families.append(f)\n",
    "\n",
    "    return pd.Series([families, singlets])"
   ],
   "metadata": {
    "collapsed": false,
    "pycharm": {
     "name": "#%%\n"
    }
   }
  },
  {
   "cell_type": "code",
   "execution_count": 82,
   "outputs": [
    {
     "data": {
      "text/plain": "          0                                             1\n0        []                                  [BB13, BB67]\n1        []                                 [2436, 2484a]\n2        []                               [BD19, HG03009]\n3        []                                     [HG00864]\n4        []                                        [1328]\n5   [SH032]                                     [NA18534]\n6        []                         [CLM03, CLM29, CLM51]\n7        []                                  [NG16, NG98]\n8        []                            [HG00171, HG00268]\n9        []                                     [HG00096]\n10       []                                     [NA20847]\n11       []                     [GB116, GB24, GB40, GB57]\n12       []                                      [IBS002]\n13  [IT003]                                       [IT220]\n14       []                            [NA18939, NA18989]\n15       []                                [VN002, VN061]\n16       []  [LWK001, NA19317, NA19320, NA19347, NA19384]\n17       []                                  [SL05, SL50]\n18       []                                        [m001]\n19       []                                       [PEL38]\n20       []                                        [PK06]\n21   [PR05]                                            []\n22       []                                [ST012, ST116]\n23       []                                     [NA20509]\n24   [Y117]                                            []",
      "text/html": "<div>\n<style scoped>\n    .dataframe tbody tr th:only-of-type {\n        vertical-align: middle;\n    }\n\n    .dataframe tbody tr th {\n        vertical-align: top;\n    }\n\n    .dataframe thead th {\n        text-align: right;\n    }\n</style>\n<table border=\"1\" class=\"dataframe\">\n  <thead>\n    <tr style=\"text-align: right;\">\n      <th></th>\n      <th>0</th>\n      <th>1</th>\n    </tr>\n  </thead>\n  <tbody>\n    <tr>\n      <th>0</th>\n      <td>[]</td>\n      <td>[BB13, BB67]</td>\n    </tr>\n    <tr>\n      <th>1</th>\n      <td>[]</td>\n      <td>[2436, 2484a]</td>\n    </tr>\n    <tr>\n      <th>2</th>\n      <td>[]</td>\n      <td>[BD19, HG03009]</td>\n    </tr>\n    <tr>\n      <th>3</th>\n      <td>[]</td>\n      <td>[HG00864]</td>\n    </tr>\n    <tr>\n      <th>4</th>\n      <td>[]</td>\n      <td>[1328]</td>\n    </tr>\n    <tr>\n      <th>5</th>\n      <td>[SH032]</td>\n      <td>[NA18534]</td>\n    </tr>\n    <tr>\n      <th>6</th>\n      <td>[]</td>\n      <td>[CLM03, CLM29, CLM51]</td>\n    </tr>\n    <tr>\n      <th>7</th>\n      <td>[]</td>\n      <td>[NG16, NG98]</td>\n    </tr>\n    <tr>\n      <th>8</th>\n      <td>[]</td>\n      <td>[HG00171, HG00268]</td>\n    </tr>\n    <tr>\n      <th>9</th>\n      <td>[]</td>\n      <td>[HG00096]</td>\n    </tr>\n    <tr>\n      <th>10</th>\n      <td>[]</td>\n      <td>[NA20847]</td>\n    </tr>\n    <tr>\n      <th>11</th>\n      <td>[]</td>\n      <td>[GB116, GB24, GB40, GB57]</td>\n    </tr>\n    <tr>\n      <th>12</th>\n      <td>[]</td>\n      <td>[IBS002]</td>\n    </tr>\n    <tr>\n      <th>13</th>\n      <td>[IT003]</td>\n      <td>[IT220]</td>\n    </tr>\n    <tr>\n      <th>14</th>\n      <td>[]</td>\n      <td>[NA18939, NA18989]</td>\n    </tr>\n    <tr>\n      <th>15</th>\n      <td>[]</td>\n      <td>[VN002, VN061]</td>\n    </tr>\n    <tr>\n      <th>16</th>\n      <td>[]</td>\n      <td>[LWK001, NA19317, NA19320, NA19347, NA19384]</td>\n    </tr>\n    <tr>\n      <th>17</th>\n      <td>[]</td>\n      <td>[SL05, SL50]</td>\n    </tr>\n    <tr>\n      <th>18</th>\n      <td>[]</td>\n      <td>[m001]</td>\n    </tr>\n    <tr>\n      <th>19</th>\n      <td>[]</td>\n      <td>[PEL38]</td>\n    </tr>\n    <tr>\n      <th>20</th>\n      <td>[]</td>\n      <td>[PK06]</td>\n    </tr>\n    <tr>\n      <th>21</th>\n      <td>[PR05]</td>\n      <td>[]</td>\n    </tr>\n    <tr>\n      <th>22</th>\n      <td>[]</td>\n      <td>[ST012, ST116]</td>\n    </tr>\n    <tr>\n      <th>23</th>\n      <td>[]</td>\n      <td>[NA20509]</td>\n    </tr>\n    <tr>\n      <th>24</th>\n      <td>[Y117]</td>\n      <td>[]</td>\n    </tr>\n  </tbody>\n</table>\n</div>"
     },
     "execution_count": 82,
     "metadata": {},
     "output_type": "execute_result"
    }
   ],
   "source": [
    "separated_families_singlets = populations.apply(separate_family_singlet, axis=1)\n",
    "separated_families_singlets"
   ],
   "metadata": {
    "collapsed": false,
    "pycharm": {
     "name": "#%%\n"
    }
   }
  },
  {
   "cell_type": "code",
   "execution_count": 83,
   "outputs": [],
   "source": [
    "separated_families_singlets.columns = ['families', 'singlets']"
   ],
   "metadata": {
    "collapsed": false,
    "pycharm": {
     "name": "#%%\n"
    }
   }
  },
  {
   "cell_type": "code",
   "execution_count": 84,
   "outputs": [
    {
     "data": {
      "text/plain": "  population families         singlets\n0        ACB       []     [BB13, BB67]\n1        ASW       []    [2436, 2484a]\n2        BEB       []  [BD19, HG03009]\n3        CDX       []        [HG00864]\n4       CEPH       []           [1328]",
      "text/html": "<div>\n<style scoped>\n    .dataframe tbody tr th:only-of-type {\n        vertical-align: middle;\n    }\n\n    .dataframe tbody tr th {\n        vertical-align: top;\n    }\n\n    .dataframe thead th {\n        text-align: right;\n    }\n</style>\n<table border=\"1\" class=\"dataframe\">\n  <thead>\n    <tr style=\"text-align: right;\">\n      <th></th>\n      <th>population</th>\n      <th>families</th>\n      <th>singlets</th>\n    </tr>\n  </thead>\n  <tbody>\n    <tr>\n      <th>0</th>\n      <td>ACB</td>\n      <td>[]</td>\n      <td>[BB13, BB67]</td>\n    </tr>\n    <tr>\n      <th>1</th>\n      <td>ASW</td>\n      <td>[]</td>\n      <td>[2436, 2484a]</td>\n    </tr>\n    <tr>\n      <th>2</th>\n      <td>BEB</td>\n      <td>[]</td>\n      <td>[BD19, HG03009]</td>\n    </tr>\n    <tr>\n      <th>3</th>\n      <td>CDX</td>\n      <td>[]</td>\n      <td>[HG00864]</td>\n    </tr>\n    <tr>\n      <th>4</th>\n      <td>CEPH</td>\n      <td>[]</td>\n      <td>[1328]</td>\n    </tr>\n  </tbody>\n</table>\n</div>"
     },
     "execution_count": 84,
     "metadata": {},
     "output_type": "execute_result"
    }
   ],
   "source": [
    "populations = pd.concat([populations, separated_families_singlets], axis=1).drop(['family', 'individual'], axis=1)\n",
    "populations.head()"
   ],
   "metadata": {
    "collapsed": false,
    "pycharm": {
     "name": "#%%\n"
    }
   }
  },
  {
   "cell_type": "code",
   "execution_count": 86,
   "outputs": [
    {
     "data": {
      "text/plain": "   population families                                      singlets\n0         ACB       []                                  [BB13, BB67]\n1         ASW       []                                 [2436, 2484a]\n2         BEB       []                               [BD19, HG03009]\n3         CDX       []                                     [HG00864]\n4        CEPH       []                                        [1328]\n5         CHS  [SH032]                                     [NA18534]\n6         CLM       []                         [CLM03, CLM29, CLM51]\n7         ESN       []                                  [NG16, NG98]\n8         FIN       []                            [HG00171, HG00268]\n9         GBR       []                                     [HG00096]\n10        GIH       []                                     [NA20847]\n11        GWD       []                     [GB116, GB24, GB40, GB57]\n12        IBS       []                                      [IBS002]\n13        ITU  [IT003]                                       [IT220]\n14        JPT       []                            [NA18939, NA18989]\n15        KHV       []                                [VN002, VN061]\n16        LWK       []  [LWK001, NA19317, NA19320, NA19347, NA19384]\n17        MSL       []                                  [SL05, SL50]\n18        MXL       []                                        [m001]\n19        PEL       []                                       [PEL38]\n20        PJL       []                                        [PK06]\n21        PUR   [PR05]                                            []\n22        STU       []                                [ST012, ST116]\n23        TSI       []                                     [NA20509]\n24        YRI   [Y117]                                            []",
      "text/html": "<div>\n<style scoped>\n    .dataframe tbody tr th:only-of-type {\n        vertical-align: middle;\n    }\n\n    .dataframe tbody tr th {\n        vertical-align: top;\n    }\n\n    .dataframe thead th {\n        text-align: right;\n    }\n</style>\n<table border=\"1\" class=\"dataframe\">\n  <thead>\n    <tr style=\"text-align: right;\">\n      <th></th>\n      <th>population</th>\n      <th>families</th>\n      <th>singlets</th>\n    </tr>\n  </thead>\n  <tbody>\n    <tr>\n      <th>0</th>\n      <td>ACB</td>\n      <td>[]</td>\n      <td>[BB13, BB67]</td>\n    </tr>\n    <tr>\n      <th>1</th>\n      <td>ASW</td>\n      <td>[]</td>\n      <td>[2436, 2484a]</td>\n    </tr>\n    <tr>\n      <th>2</th>\n      <td>BEB</td>\n      <td>[]</td>\n      <td>[BD19, HG03009]</td>\n    </tr>\n    <tr>\n      <th>3</th>\n      <td>CDX</td>\n      <td>[]</td>\n      <td>[HG00864]</td>\n    </tr>\n    <tr>\n      <th>4</th>\n      <td>CEPH</td>\n      <td>[]</td>\n      <td>[1328]</td>\n    </tr>\n    <tr>\n      <th>5</th>\n      <td>CHS</td>\n      <td>[SH032]</td>\n      <td>[NA18534]</td>\n    </tr>\n    <tr>\n      <th>6</th>\n      <td>CLM</td>\n      <td>[]</td>\n      <td>[CLM03, CLM29, CLM51]</td>\n    </tr>\n    <tr>\n      <th>7</th>\n      <td>ESN</td>\n      <td>[]</td>\n      <td>[NG16, NG98]</td>\n    </tr>\n    <tr>\n      <th>8</th>\n      <td>FIN</td>\n      <td>[]</td>\n      <td>[HG00171, HG00268]</td>\n    </tr>\n    <tr>\n      <th>9</th>\n      <td>GBR</td>\n      <td>[]</td>\n      <td>[HG00096]</td>\n    </tr>\n    <tr>\n      <th>10</th>\n      <td>GIH</td>\n      <td>[]</td>\n      <td>[NA20847]</td>\n    </tr>\n    <tr>\n      <th>11</th>\n      <td>GWD</td>\n      <td>[]</td>\n      <td>[GB116, GB24, GB40, GB57]</td>\n    </tr>\n    <tr>\n      <th>12</th>\n      <td>IBS</td>\n      <td>[]</td>\n      <td>[IBS002]</td>\n    </tr>\n    <tr>\n      <th>13</th>\n      <td>ITU</td>\n      <td>[IT003]</td>\n      <td>[IT220]</td>\n    </tr>\n    <tr>\n      <th>14</th>\n      <td>JPT</td>\n      <td>[]</td>\n      <td>[NA18939, NA18989]</td>\n    </tr>\n    <tr>\n      <th>15</th>\n      <td>KHV</td>\n      <td>[]</td>\n      <td>[VN002, VN061]</td>\n    </tr>\n    <tr>\n      <th>16</th>\n      <td>LWK</td>\n      <td>[]</td>\n      <td>[LWK001, NA19317, NA19320, NA19347, NA19384]</td>\n    </tr>\n    <tr>\n      <th>17</th>\n      <td>MSL</td>\n      <td>[]</td>\n      <td>[SL05, SL50]</td>\n    </tr>\n    <tr>\n      <th>18</th>\n      <td>MXL</td>\n      <td>[]</td>\n      <td>[m001]</td>\n    </tr>\n    <tr>\n      <th>19</th>\n      <td>PEL</td>\n      <td>[]</td>\n      <td>[PEL38]</td>\n    </tr>\n    <tr>\n      <th>20</th>\n      <td>PJL</td>\n      <td>[]</td>\n      <td>[PK06]</td>\n    </tr>\n    <tr>\n      <th>21</th>\n      <td>PUR</td>\n      <td>[PR05]</td>\n      <td>[]</td>\n    </tr>\n    <tr>\n      <th>22</th>\n      <td>STU</td>\n      <td>[]</td>\n      <td>[ST012, ST116]</td>\n    </tr>\n    <tr>\n      <th>23</th>\n      <td>TSI</td>\n      <td>[]</td>\n      <td>[NA20509]</td>\n    </tr>\n    <tr>\n      <th>24</th>\n      <td>YRI</td>\n      <td>[Y117]</td>\n      <td>[]</td>\n    </tr>\n  </tbody>\n</table>\n</div>"
     },
     "execution_count": 86,
     "metadata": {},
     "output_type": "execute_result"
    }
   ],
   "source": [
    "populations"
   ],
   "metadata": {
    "collapsed": false,
    "pycharm": {
     "name": "#%%\n"
    }
   }
  },
  {
   "cell_type": "code",
   "execution_count": 88,
   "outputs": [
    {
     "data": {
      "text/plain": "  entity:population_id\n0                  ACB\n1                  ASW\n2                  BEB\n3                  CDX\n4                 CEPH",
      "text/html": "<div>\n<style scoped>\n    .dataframe tbody tr th:only-of-type {\n        vertical-align: middle;\n    }\n\n    .dataframe tbody tr th {\n        vertical-align: top;\n    }\n\n    .dataframe thead th {\n        text-align: right;\n    }\n</style>\n<table border=\"1\" class=\"dataframe\">\n  <thead>\n    <tr style=\"text-align: right;\">\n      <th></th>\n      <th>entity:population_id</th>\n    </tr>\n  </thead>\n  <tbody>\n    <tr>\n      <th>0</th>\n      <td>ACB</td>\n    </tr>\n    <tr>\n      <th>1</th>\n      <td>ASW</td>\n    </tr>\n    <tr>\n      <th>2</th>\n      <td>BEB</td>\n    </tr>\n    <tr>\n      <th>3</th>\n      <td>CDX</td>\n    </tr>\n    <tr>\n      <th>4</th>\n      <td>CEPH</td>\n    </tr>\n  </tbody>\n</table>\n</div>"
     },
     "execution_count": 88,
     "metadata": {},
     "output_type": "execute_result"
    }
   ],
   "source": [
    "populations_barebone = populations[['population']].copy(deep=True)\n",
    "populations_barebone.rename({'population': 'entity:population_id'}, axis=1, inplace=True)\n",
    "populations_barebone.head()"
   ],
   "metadata": {
    "collapsed": false,
    "pycharm": {
     "name": "#%%\n"
    }
   }
  },
  {
   "cell_type": "code",
   "execution_count": 89,
   "outputs": [
    {
     "data": {
      "text/plain": "True"
     },
     "execution_count": 89,
     "metadata": {},
     "output_type": "execute_result"
    }
   ],
   "source": [
    "response = fapi.upload_entities(target_namespace, target_workspace,\n",
    "                                entity_data=populations_barebone.to_csv(sep='\\t', index=False),\n",
    "                                model='flexible')\n",
    "response.ok"
   ],
   "metadata": {
    "collapsed": false,
    "pycharm": {
     "name": "#%%\n"
    }
   }
  },
  {
   "cell_type": "code",
   "execution_count": 91,
   "outputs": [],
   "source": [
    "for i in range(len(populations)):\n",
    "    set_uuid = populations.iloc[i, 0]\n",
    "\n",
    "    families = populations.iloc[i, 1]\n",
    "    if 0 < len(families):\n",
    "        try:\n",
    "            __upload_one_set(target_namespace, target_workspace,\n",
    "                             etype='population', ename=set_uuid,\n",
    "                             member_type='family', members=families,\n",
    "                             operation=MembersOperationType.RESET)\n",
    "        except FireCloudServerError:\n",
    "            logger.error(f\"Failed to upload family membership information for {set_uuid}\")\n",
    "            raise\n",
    "\n",
    "    singlets = populations.iloc[i, 2]\n",
    "    if 0 < len(singlets):\n",
    "        try:\n",
    "            __upload_one_set(target_namespace, target_workspace,\n",
    "                             etype='population', ename=set_uuid,\n",
    "                             member_type='singlet', members=singlets,\n",
    "                             operation=MembersOperationType.RESET)\n",
    "        except FireCloudServerError:\n",
    "            logger.error(f\"Failed to upload singlet membership information for {set_uuid}\")\n",
    "            raise"
   ],
   "metadata": {
    "collapsed": false,
    "pycharm": {
     "name": "#%%\n"
    }
   }
  },
  {
   "cell_type": "code",
   "execution_count": null,
   "outputs": [],
   "source": [],
   "metadata": {
    "collapsed": false,
    "pycharm": {
     "name": "#%%\n"
    }
   }
  }
 ],
 "metadata": {
  "kernelspec": {
   "display_name": "Python 3",
   "language": "python",
   "name": "python3"
  },
  "language_info": {
   "codemirror_mode": {
    "name": "ipython",
    "version": 2
   },
   "file_extension": ".py",
   "mimetype": "text/x-python",
   "name": "python",
   "nbconvert_exporter": "python",
   "pygments_lexer": "ipython2",
   "version": "2.7.6"
  }
 },
 "nbformat": 4,
 "nbformat_minor": 0
}