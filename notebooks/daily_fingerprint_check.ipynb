{
 "cells": [
  {
   "cell_type": "markdown",
   "source": [
    "This is the under-dev notebook for checking identity metadata of PacBio flowcells.\n",
    "\n",
    "The order of execution is the following:\n",
    "\n",
    "0. Load all flowcells that is workable\n",
    "1. Based on the flowcells' marked identity metadata, see if its Mercury FP VCF has been uploaded to the cloud database (and upload using on-prem scripts if missing)\n",
    "2. Check which flowcells have negative LOD, report\n",
    "3. Check which flowcells have indecisive LOD, report\n",
    "4. Check which flowcells don't have LOD yet, then\n",
    "    * if it's ready, i.e. have alignments and FP vcf, then launch `VerifyFingerprint`\n",
    "    * if it's because there's no BAM yet, i.e. `PBFlowcell` hasn't been run on it, launch the job\n",
    "    * if it's because there's a shallow BAM, report\n",
    "\n",
    "There are several dark-knowledge dependencies that are needed for this to run:\n",
    "    * \"known_samples_without_mercury.txt\": holding samples that are known to have no GT'ed fingerprinting VCF\n",
    "    * \"known_flowcells_with_issues.txt\": holding flowcells that are known to be inappropriate (for various reasons) to be fingerprinted\n"
   ],
   "metadata": {
    "collapsed": false,
    "pycharm": {
     "name": "#%% md\n"
    }
   }
  },
  {
   "cell_type": "code",
   "execution_count": 185,
   "outputs": [
    {
     "name": "stdout",
     "output_type": "stream",
     "text": [
      "The autoreload extension is already loaded. To reload it, use:\n",
      "  %reload_ext autoreload\n"
     ]
    }
   ],
   "source": [
    "# auto reloading of local scripts under dev\n",
    "%load_ext autoreload\n",
    "%autoreload 2"
   ],
   "metadata": {
    "collapsed": false,
    "pycharm": {
     "name": "#%%\n"
    }
   }
  },
  {
   "cell_type": "code",
   "execution_count": 186,
   "outputs": [],
   "source": [
    "# relying on these stdlib anyway\n",
    "import http\n",
    "import re\n",
    "import os\n",
    "import sys\n",
    "import pandas as pd"
   ],
   "metadata": {
    "collapsed": false,
    "pycharm": {
     "name": "#%%\n"
    }
   }
  },
  {
   "cell_type": "code",
   "execution_count": 187,
   "outputs": [],
   "source": [
    "# Google Cloud and FISS\n",
    "from firecloud import api as fapi\n",
    "\n",
    "from google.cloud import storage\n",
    "storage_client = storage.Client()"
   ],
   "metadata": {
    "collapsed": false,
    "pycharm": {
     "name": "#%%\n"
    }
   }
  },
  {
   "cell_type": "code",
   "execution_count": 188,
   "outputs": [],
   "source": [
    "# load local lib\n",
    "module_path = os.path.abspath(os.path.join('..'))\n",
    "if module_path not in sys.path:\n",
    "    sys.path.append(module_path)\n",
    "\n",
    "from src.table_utils import *\n",
    "from src.gcs_utils import *"
   ],
   "metadata": {
    "collapsed": false,
    "pycharm": {
     "name": "#%%\n"
    }
   }
  },
  {
   "cell_type": "code",
   "execution_count": 189,
   "outputs": [],
   "source": [
    "import datetime\n",
    "import dateutil\n",
    "from dateutil import parser"
   ],
   "metadata": {
    "collapsed": false,
    "pycharm": {
     "name": "#%%\n"
    }
   }
  },
  {
   "cell_type": "markdown",
   "source": [
    "# Date & time, for record keeping"
   ],
   "metadata": {
    "collapsed": false,
    "pycharm": {
     "name": "#%% md\n"
    }
   }
  },
  {
   "cell_type": "code",
   "execution_count": 190,
   "outputs": [],
   "source": [
    "today = datetime.datetime.today().strftime(\"%Y%m%d\")\n",
    "cutoff_date = pd.to_datetime(datetime.datetime(2021, 1, 1, 0, 0, tzinfo=datetime.timezone.utc))"
   ],
   "metadata": {
    "collapsed": false,
    "pycharm": {
     "name": "#%%\n"
    }
   }
  },
  {
   "cell_type": "markdown",
   "source": [],
   "metadata": {
    "collapsed": false
   }
  },
  {
   "cell_type": "code",
   "execution_count": 191,
   "outputs": [
    {
     "name": "stdout",
     "output_type": "stream",
     "text": [
      "Current Time = 12/27/21 08:57:01\n"
     ]
    }
   ],
   "source": [
    "print(\"Current Time =\", datetime.datetime.now().strftime(\"%D %H:%M:%S\"))"
   ],
   "metadata": {
    "collapsed": false,
    "pycharm": {
     "name": "#%%\n"
    }
   }
  },
  {
   "cell_type": "code",
   "execution_count": 192,
   "outputs": [],
   "source": [
    "output_dir = f'/Users/shuang/Desktop/DailyFingerprintCheck/{datetime.datetime.today().strftime(\"%Y-%m-%d\")}'\n",
    "os.makedirs(output_dir, exist_ok=True)"
   ],
   "metadata": {
    "collapsed": false,
    "pycharm": {
     "name": "#%%\n"
    }
   }
  },
  {
   "cell_type": "markdown",
   "source": [
    "# Filters to apply, still under development, so changes with time"
   ],
   "metadata": {
    "collapsed": false,
    "pycharm": {
     "name": "#%% md\n"
    }
   }
  },
  {
   "cell_type": "code",
   "execution_count": 193,
   "outputs": [],
   "source": [
    "known_flowcells_inappropriate_for_current_pbflowcell = ['DA143934', 'DA073901']"
   ],
   "metadata": {
    "collapsed": false,
    "pycharm": {
     "name": "#%%\n"
    }
   }
  },
  {
   "cell_type": "code",
   "execution_count": 194,
   "outputs": [
    {
     "name": "stdout",
     "output_type": "stream",
     "text": [
      "45 samples are known to have no Mercury entries.\n"
     ]
    }
   ],
   "source": [
    "ff = GcsPath('gs://broad-gp-pacbio/metrics/fingerprinting/mercury/known_samples_without_mercury.txt')\n",
    "if not ff.exists(storage_client):\n",
    "    raise RuntimeError(\"Dependency file gs://broad-gp-pacbio/metrics/fingerprinting/mercury/known_samples_without_mercury.txt doesn't exist any more.\")\n",
    "known_samples_without_mercury = ff.get_blob(storage_client).download_as_text().split('\\n')\n",
    "print(f\"{len(known_samples_without_mercury)} samples are known to have no Mercury entries.\")"
   ],
   "metadata": {
    "collapsed": false,
    "pycharm": {
     "name": "#%%\n"
    }
   }
  },
  {
   "cell_type": "code",
   "execution_count": 195,
   "outputs": [
    {
     "name": "stdout",
     "output_type": "stream",
     "text": [
      "23 flowcells known to have issues preventing them from being VerifyFingerprint'ed.\n"
     ]
    }
   ],
   "source": [
    "ff = GcsPath('gs://broad-gp-pacbio/metrics/fingerprinting/mercury/known_flowcells_with_issues.txt')\n",
    "if not ff.exists(storage_client):\n",
    "    raise RuntimeError(\"Dependency file gs://broad-gp-pacbio/metrics/fingerprinting/mercury/known_flowcells_with_issues.txt doesn't exist any more.\")\n",
    "known_problematic_flowcells = ff.get_blob(storage_client).download_as_text().split('\\n')\n",
    "print(f\"{len(known_problematic_flowcells)} flowcells known to have issues preventing them from being VerifyFingerprint'ed.\")"
   ],
   "metadata": {
    "collapsed": false,
    "pycharm": {
     "name": "#%%\n"
    }
   }
  },
  {
   "cell_type": "code",
   "execution_count": 196,
   "outputs": [],
   "source": [
    "ff = GcsPath('gs://broad-gp-pacbio/metrics/fingerprinting/mercury/flowcells_identity_manually_confirmed.txt')\n",
    "if not ff.exists(storage_client):\n",
    "    raise RuntimeError(\"Dependency file gs://broad-gp-pacbio/metrics/fingerprinting/mercury/flowcells_identity_manually_confirmed.txt doesn't exist any more.\")\n",
    "borderline_lod_flowcells_cleared = ff.get_blob(storage_client).download_as_text().split('\\n')"
   ],
   "metadata": {
    "collapsed": false,
    "pycharm": {
     "name": "#%%\n"
    }
   }
  },
  {
   "cell_type": "code",
   "execution_count": 197,
   "outputs": [
    {
     "name": "stdout",
     "output_type": "stream",
     "text": [
      "287 samples already in living in the lrma-cloud-mercury.\n"
     ]
    }
   ],
   "source": [
    "samples_in_cloud_mercury = list()\n",
    "for b in storage_client.list_blobs('broad-gp-pacbio', prefix='metrics/fingerprinting/mercury/vcfs'):\n",
    "    file_name = b.name.split('/')[-1]\n",
    "    if file_name.endswith('.vcf.gz'):\n",
    "        sample = file_name.split('__')[0]\n",
    "        samples_in_cloud_mercury.append(sample)\n",
    "print(f\"{len(samples_in_cloud_mercury)} samples already in living in the lrma-cloud-mercury.\")"
   ],
   "metadata": {
    "collapsed": false,
    "pycharm": {
     "name": "#%%\n"
    }
   }
  },
  {
   "cell_type": "code",
   "execution_count": 197,
   "outputs": [],
   "source": [],
   "metadata": {
    "collapsed": false,
    "pycharm": {
     "name": "#%%\n"
    }
   }
  },
  {
   "cell_type": "markdown",
   "source": [
    "# LOAD & FORMAT FLOWCELLS"
   ],
   "metadata": {
    "collapsed": false
   }
  },
  {
   "cell_type": "code",
   "execution_count": 198,
   "outputs": [],
   "source": [
    "primary_namespace = 'production-long-reads'\n",
    "primary_workspace = 'broad-gp-pacbio'\n",
    "root_data_type='sample'\n",
    "flowcell_table = \\\n",
    "  fetch_existing_root_table(ns=primary_namespace,\n",
    "                            ws=primary_workspace,\n",
    "                            etype=root_data_type)"
   ],
   "metadata": {
    "collapsed": false,
    "pycharm": {
     "name": "#%%\n"
    }
   }
  },
  {
   "cell_type": "code",
   "execution_count": 199,
   "outputs": [],
   "source": [
    "gcs_locations = ['aligned_bai', 'aligned_bam', 'aligned_pbi',\n",
    "                 'ccs_bam', 'ccs_pbi', 'ccs_report',\n",
    "                 'fingerprint_details', 'fingerprint_metrics',\n",
    "                 'fq', 'gcs_input_dir', 'input_bam', 'input_pbi', 'subreads_bam', 'subreads_pbi']"
   ],
   "metadata": {
    "collapsed": false,
    "pycharm": {
     "name": "#%%\n"
    }
   }
  },
  {
   "cell_type": "code",
   "execution_count": 200,
   "outputs": [],
   "source": [
    "lab_identity = ['bio_sample', 'description', 'well_sample']\n",
    "sequencer_identity = ['flowcell_id', 'movie_name', 'well_name']\n",
    "terra_identity = ['sample']"
   ],
   "metadata": {
    "collapsed": false,
    "pycharm": {
     "name": "#%%\n"
    }
   }
  },
  {
   "cell_type": "code",
   "execution_count": 201,
   "outputs": [],
   "source": [
    "categorical_columns = {'type': 'category',\n",
    "                       'columns': ['application', 'experiment_type', 'instrument', 'workspace']}\n",
    "\n",
    "date_time_columns = {'type': 'datetime64',\n",
    "                     'timezone': datetime.timezone.utc,\n",
    "                     'columns': ['created_at']}\n",
    "\n",
    "boolean_columns = {'type': 'bool',\n",
    "                   'columns': ['is_ccs', 'is_corrected', 'is_isoseq']}\n",
    "\n",
    "int_type_columns = {'type': 'Int64',\n",
    "                    'columns': ['aligned_num_bases','aligned_num_reads','aligned_read_length_N50',\n",
    "                                'ccs_zmws_fail_filters','ccs_zmws_input','ccs_zmws_pass_filters', 'ccs_zmws_shortcut_filters',\n",
    "                                'insert_size',\n",
    "                                'num_bases','num_reads','num_reads_Q10','num_reads_Q12','num_reads_Q15','num_reads_Q5','num_reads_Q7','num_records',\n",
    "                                'total_length']}\n",
    "\n",
    "float_type_columns = {'type': 'float64',\n",
    "                      'columns': ['lod_expected_sample',\n",
    "                                  'aligned_est_fold_cov', 'raw_est_fold_cov',\n",
    "                                  'aligned_frac_bases','aligned_read_length_mean','aligned_read_length_median','aligned_read_length_stdev',\n",
    "                                  'average_identity', 'median_identity',\n",
    "                                  'ccs_zmws_fail_filters_pct','ccs_zmws_pass_filters_pct','ccs_zmws_shortcut_filters_pct',\n",
    "                                  'polymerase_read_length_N50', 'polymerase_read_length_mean',\n",
    "                                  'read_length_N50', 'read_length_mean', 'read_length_median', 'read_length_stdev', 'read_qual_mean', 'read_qual_median',\n",
    "                                  'subread_read_length_N50','subread_read_length_mean']}\n",
    "\n",
    "string_type_columns = {'type': 'str',\n",
    "                       'columns': gcs_locations + terra_identity + lab_identity + sequencer_identity}"
   ],
   "metadata": {
    "collapsed": false,
    "pycharm": {
     "name": "#%%\n"
    }
   }
  },
  {
   "cell_type": "code",
   "execution_count": 202,
   "outputs": [],
   "source": [
    "for n in boolean_columns['columns']:\n",
    "    flowcell_table[n] = flowcell_table[n].apply(lambda s: s=='TRUE' or s=='True' or s=='true').astype(boolean_columns['type'])"
   ],
   "metadata": {
    "collapsed": false,
    "pycharm": {
     "name": "#%%\n"
    }
   }
  },
  {
   "cell_type": "code",
   "execution_count": 203,
   "outputs": [],
   "source": [
    "for n in categorical_columns['columns']:\n",
    "    flowcell_table[n] = flowcell_table[n].astype(categorical_columns['type'])"
   ],
   "metadata": {
    "collapsed": false,
    "pycharm": {
     "name": "#%%\n"
    }
   }
  },
  {
   "cell_type": "code",
   "execution_count": 204,
   "outputs": [],
   "source": [
    "for n in string_type_columns['columns']:\n",
    "    flowcell_table[n] = flowcell_table[n].astype(string_type_columns['type'])"
   ],
   "metadata": {
    "collapsed": false,
    "pycharm": {
     "name": "#%%\n"
    }
   }
  },
  {
   "cell_type": "code",
   "execution_count": 205,
   "outputs": [],
   "source": [
    "def convert_to_float(e) -> float or None:\n",
    "    if e:\n",
    "        if e.lower() in ['nan', 'none']:\n",
    "            return None\n",
    "        else:\n",
    "            try:\n",
    "                return float(e)\n",
    "            except TypeError:\n",
    "                print(e)\n",
    "                raise\n",
    "    else:\n",
    "        return None\n",
    "\n",
    "def convert_to_int(e) -> int:\n",
    "    f = convert_to_float(e)\n",
    "    return round(f) if f else None"
   ],
   "metadata": {
    "collapsed": false,
    "pycharm": {
     "name": "#%%\n"
    }
   }
  },
  {
   "cell_type": "code",
   "execution_count": 206,
   "outputs": [],
   "source": [
    "for n in int_type_columns['columns']:\n",
    "    try:\n",
    "        flowcell_table[n] = flowcell_table[n].apply(convert_to_int).astype(int_type_columns['type'])\n",
    "    except ValueError:\n",
    "        print(n)\n",
    "        raise"
   ],
   "metadata": {
    "collapsed": false,
    "pycharm": {
     "name": "#%%\n"
    }
   }
  },
  {
   "cell_type": "code",
   "execution_count": 207,
   "outputs": [],
   "source": [
    "for n in float_type_columns['columns']:\n",
    "    try:\n",
    "        flowcell_table[n] = flowcell_table[n].apply(convert_to_float).astype(float_type_columns['type'])\n",
    "    except ValueError:\n",
    "        print(n)\n",
    "        raise"
   ],
   "metadata": {
    "collapsed": false,
    "pycharm": {
     "name": "#%%\n"
    }
   }
  },
  {
   "cell_type": "code",
   "execution_count": 208,
   "outputs": [],
   "source": [
    "def convert_date_time(s):\n",
    "    try:\n",
    "        t = parser.isoparse(s).astimezone(tz=date_time_columns['timezone'])\n",
    "        return pd.to_datetime(t)\n",
    "    except (ValueError, pd.errors.OutOfBoundsDatetime):\n",
    "        return pd.Timestamp.min\n",
    "for n in date_time_columns['columns']:\n",
    "    flowcell_table[n] = flowcell_table[n].apply(lambda s: pd.to_datetime(convert_date_time(s)))"
   ],
   "metadata": {
    "collapsed": false,
    "pycharm": {
     "name": "#%%\n"
    }
   }
  },
  {
   "cell_type": "markdown",
   "source": [
    "# FILTER DATA"
   ],
   "metadata": {
    "collapsed": false,
    "pycharm": {
     "name": "#%% md\n"
    }
   }
  },
  {
   "cell_type": "code",
   "execution_count": 209,
   "outputs": [],
   "source": [
    "def filter_pacbio_flowcells(terra_table_row, cutoff_date_to_study,\n",
    "                            columns_and_blacklist: dict) -> bool:\n",
    "    \"\"\"\n",
    "    Filter applicable to all flowcells.\n",
    "    :param terra_table_row:\n",
    "    :param cutoff_date_to_study:\n",
    "    :param columns_and_blacklist:\n",
    "    :return: true if the row should be kept\n",
    "    \"\"\"\n",
    "\n",
    "    # filter out known bad ones\n",
    "    keep = True\n",
    "    for col, black_list in columns_and_blacklist.items():\n",
    "        keep &= terra_table_row[col] not in black_list\n",
    "\n",
    "    # no time zone information\n",
    "    sequencing_date = terra_table_row['created_at']\n",
    "    if sequencing_date.tzinfo is None:\n",
    "        return False\n",
    "\n",
    "    # remove unknowns\n",
    "    keep &= ' ' not in terra_table_row['description']\n",
    "    keep &= 'unknown' != terra_table_row['description']\n",
    "\n",
    "    # NON-genomic applications\n",
    "    keep &= not terra_table_row['description'].startswith('SIRV_')\n",
    "    keep &= 'amplicon' not in terra_table_row['application']\n",
    "\n",
    "    # too early\n",
    "    keep &= sequencing_date >= cutoff_date_to_study\n",
    "\n",
    "    return keep"
   ],
   "metadata": {
    "collapsed": false,
    "pycharm": {
     "name": "#%%\n"
    }
   }
  },
  {
   "cell_type": "code",
   "execution_count": 210,
   "outputs": [],
   "source": [
    "my_blacklists = {'flowcell_id': [*known_problematic_flowcells , *known_flowcells_inappropriate_for_current_pbflowcell],\n",
    "                 'well_sample': known_samples_without_mercury,\n",
    "                 'experiment_type': ['ISOSEQ', 'MASSEQ'],\n",
    "                 'application': ['isoSeq', 'unknown']}"
   ],
   "metadata": {
    "collapsed": false,
    "pycharm": {
     "name": "#%%\n"
    }
   }
  },
  {
   "cell_type": "code",
   "execution_count": 211,
   "outputs": [
    {
     "data": {
      "text/plain": "(471, 69)"
     },
     "execution_count": 211,
     "metadata": {},
     "output_type": "execute_result"
    }
   ],
   "source": [
    "usable_flowcell_table = flowcell_table.loc[flowcell_table.apply(lambda row: filter_pacbio_flowcells(row, cutoff_date, my_blacklists), axis=1),:].reset_index(drop=True)\n",
    "usable_flowcell_table.shape"
   ],
   "metadata": {
    "collapsed": false,
    "pycharm": {
     "name": "#%%\n"
    }
   }
  },
  {
   "cell_type": "code",
   "execution_count": 212,
   "outputs": [
    {
     "data": {
      "text/plain": "Empty DataFrame\nColumns: [sample, P0, aligned_bai, aligned_bam, aligned_est_fold_cov, aligned_frac_bases, aligned_num_bases, aligned_num_reads, aligned_pbi, aligned_read_length_N50, aligned_read_length_mean, aligned_read_length_median, aligned_read_length_stdev, application, average_identity, bio_sample, ccs_bam, ccs_pbi, ccs_report, ccs_zmws_fail_filters, ccs_zmws_fail_filters_pct, ccs_zmws_input, ccs_zmws_pass_filters, ccs_zmws_pass_filters_pct, ccs_zmws_shortcut_filters, ccs_zmws_shortcut_filters_pct, created_at, description, experiment_type, fingerprint_details, fingerprint_metrics, flowcell_id, fq, gcs_input_dir, input_bam, input_pbi, insert_size, instrument, is_ccs, is_corrected, is_isoseq, lod_expected_sample, median_identity, movie_name, num_bases, num_reads, num_reads_Q10, num_reads_Q12, num_reads_Q15, num_reads_Q5, num_reads_Q7, num_records, polymerase_read_length_N50, polymerase_read_length_mean, raw_est_fold_cov, read_length_N50, read_length_mean, read_length_median, read_length_stdev, read_qual_mean, read_qual_median, subread_read_length_N50, subread_read_length_mean, subreads_bam, subreads_pbi, total_length, well_name, well_sample, workspace]\nIndex: []\n\n[0 rows x 69 columns]",
      "text/html": "<div>\n<style scoped>\n    .dataframe tbody tr th:only-of-type {\n        vertical-align: middle;\n    }\n\n    .dataframe tbody tr th {\n        vertical-align: top;\n    }\n\n    .dataframe thead th {\n        text-align: right;\n    }\n</style>\n<table border=\"1\" class=\"dataframe\">\n  <thead>\n    <tr style=\"text-align: right;\">\n      <th></th>\n      <th>sample</th>\n      <th>P0</th>\n      <th>aligned_bai</th>\n      <th>aligned_bam</th>\n      <th>aligned_est_fold_cov</th>\n      <th>aligned_frac_bases</th>\n      <th>aligned_num_bases</th>\n      <th>aligned_num_reads</th>\n      <th>aligned_pbi</th>\n      <th>aligned_read_length_N50</th>\n      <th>...</th>\n      <th>read_qual_mean</th>\n      <th>read_qual_median</th>\n      <th>subread_read_length_N50</th>\n      <th>subread_read_length_mean</th>\n      <th>subreads_bam</th>\n      <th>subreads_pbi</th>\n      <th>total_length</th>\n      <th>well_name</th>\n      <th>well_sample</th>\n      <th>workspace</th>\n    </tr>\n  </thead>\n  <tbody>\n  </tbody>\n</table>\n<p>0 rows × 69 columns</p>\n</div>"
     },
     "execution_count": 212,
     "metadata": {},
     "output_type": "execute_result"
    }
   ],
   "source": [
    "usable_flowcell_table.loc[usable_flowcell_table['flowcell_id'].isin(known_problematic_flowcells),:]"
   ],
   "metadata": {
    "collapsed": false,
    "pycharm": {
     "name": "#%%\n"
    }
   }
  },
  {
   "cell_type": "code",
   "execution_count": 213,
   "outputs": [
    {
     "name": "stdout",
     "output_type": "stream",
     "text": [
      "279 unique SM-[A-Z0-9]+ samples\n"
     ]
    }
   ],
   "source": [
    "print(f\"{len(usable_flowcell_table['well_sample'].unique())} unique SM-[A-Z0-9]+ samples\")"
   ],
   "metadata": {
    "collapsed": false,
    "pycharm": {
     "name": "#%%\n"
    }
   }
  },
  {
   "cell_type": "code",
   "execution_count": 214,
   "outputs": [
    {
     "data": {
      "text/plain": "(279, 3)"
     },
     "execution_count": 214,
     "metadata": {},
     "output_type": "execute_result"
    }
   ],
   "source": [
    "samples_upto_date = usable_flowcell_table[['bio_sample', 'description', 'well_sample']].sort_values(by=['well_sample']).drop_duplicates(ignore_index=True)\n",
    "samples_upto_date.shape"
   ],
   "metadata": {
    "collapsed": false,
    "pycharm": {
     "name": "#%%\n"
    }
   }
  },
  {
   "cell_type": "code",
   "execution_count": 214,
   "outputs": [],
   "source": [],
   "metadata": {
    "collapsed": false,
    "pycharm": {
     "name": "#%%\n"
    }
   }
  },
  {
   "cell_type": "code",
   "execution_count": 214,
   "outputs": [],
   "source": [],
   "metadata": {
    "collapsed": false,
    "pycharm": {
     "name": "#%%\n"
    }
   }
  },
  {
   "cell_type": "code",
   "execution_count": 215,
   "outputs": [],
   "source": [
    "desired_columns_in_order = ['flowcell_id', 'bio_sample', 'description', 'well_sample',\n",
    "                            'aligned_est_fold_cov',\n",
    "                            'lod_expected_sample',  'aligned_bam',\n",
    "                            'application', 'experiment_type',\n",
    "                            'is_ccs', 'is_corrected', 'is_isoseq',\n",
    "                            'ccs_zmws_pass_filters_pct',\n",
    "                            'instrument', 'movie_name', 'well_name', 'insert_size', 'created_at',\n",
    "                            'sample', 'workspace']"
   ],
   "metadata": {
    "collapsed": false,
    "pycharm": {
     "name": "#%%\n"
    }
   }
  },
  {
   "cell_type": "code",
   "execution_count": 215,
   "outputs": [],
   "source": [],
   "metadata": {
    "collapsed": false,
    "pycharm": {
     "name": "#%%\n"
    }
   }
  },
  {
   "cell_type": "code",
   "execution_count": 215,
   "outputs": [],
   "source": [],
   "metadata": {
    "collapsed": false,
    "pycharm": {
     "name": "#%%\n"
    }
   }
  },
  {
   "cell_type": "code",
   "execution_count": 215,
   "outputs": [],
   "source": [],
   "metadata": {
    "collapsed": false,
    "pycharm": {
     "name": "#%%\n"
    }
   }
  },
  {
   "cell_type": "markdown",
   "source": [
    "# Negative LOD, i.e. swapped"
   ],
   "metadata": {
    "collapsed": false
   }
  },
  {
   "cell_type": "code",
   "execution_count": 216,
   "outputs": [
    {
     "data": {
      "text/plain": "  flowcell_id bio_sample  description well_sample  aligned_est_fold_cov  \\\n0    DA126105    1-06357  CG0037-9302    SM-K6JDL              9.381812   \n\n   lod_expected_sample                                        aligned_bam  \\\n0           -13.977636  gs://broad-gp-pacbio-outgoing/results/PBFlowce...   \n\n  application experiment_type  is_ccs  is_corrected  is_isoseq  \\\n0   hifiReads             CCS   False          True      False   \n\n   ccs_zmws_pass_filters_pct instrument             movie_name well_name  \\\n0                      46.77     64218e  m64218e_211026_124229       A01   \n\n   insert_size                        created_at  \\\n0        14000  2021-10-25 18:22:56.353000+00:00   \n\n                                 sample                         workspace  \n0  846c0ea7-9ebf-4fe6-b9d9-2ba3e7e4be27  Gabriel_GMKFLRP_Gelb_PacBio_FY20  ",
      "text/html": "<div>\n<style scoped>\n    .dataframe tbody tr th:only-of-type {\n        vertical-align: middle;\n    }\n\n    .dataframe tbody tr th {\n        vertical-align: top;\n    }\n\n    .dataframe thead th {\n        text-align: right;\n    }\n</style>\n<table border=\"1\" class=\"dataframe\">\n  <thead>\n    <tr style=\"text-align: right;\">\n      <th></th>\n      <th>flowcell_id</th>\n      <th>bio_sample</th>\n      <th>description</th>\n      <th>well_sample</th>\n      <th>aligned_est_fold_cov</th>\n      <th>lod_expected_sample</th>\n      <th>aligned_bam</th>\n      <th>application</th>\n      <th>experiment_type</th>\n      <th>is_ccs</th>\n      <th>is_corrected</th>\n      <th>is_isoseq</th>\n      <th>ccs_zmws_pass_filters_pct</th>\n      <th>instrument</th>\n      <th>movie_name</th>\n      <th>well_name</th>\n      <th>insert_size</th>\n      <th>created_at</th>\n      <th>sample</th>\n      <th>workspace</th>\n    </tr>\n  </thead>\n  <tbody>\n    <tr>\n      <th>0</th>\n      <td>DA126105</td>\n      <td>1-06357</td>\n      <td>CG0037-9302</td>\n      <td>SM-K6JDL</td>\n      <td>9.381812</td>\n      <td>-13.977636</td>\n      <td>gs://broad-gp-pacbio-outgoing/results/PBFlowce...</td>\n      <td>hifiReads</td>\n      <td>CCS</td>\n      <td>False</td>\n      <td>True</td>\n      <td>False</td>\n      <td>46.77</td>\n      <td>64218e</td>\n      <td>m64218e_211026_124229</td>\n      <td>A01</td>\n      <td>14000</td>\n      <td>2021-10-25 18:22:56.353000+00:00</td>\n      <td>846c0ea7-9ebf-4fe6-b9d9-2ba3e7e4be27</td>\n      <td>Gabriel_GMKFLRP_Gelb_PacBio_FY20</td>\n    </tr>\n  </tbody>\n</table>\n</div>"
     },
     "execution_count": 216,
     "metadata": {},
     "output_type": "execute_result"
    }
   ],
   "source": [
    "swapped_flowcells = usable_flowcell_table[usable_flowcell_table.lod_expected_sample < -10.0].reset_index(drop=True).sort_values(by=['created_at'])\n",
    "swapped_flowcells[desired_columns_in_order]"
   ],
   "metadata": {
    "collapsed": false,
    "pycharm": {
     "name": "#%%\n"
    }
   }
  },
  {
   "cell_type": "code",
   "execution_count": 217,
   "outputs": [],
   "source": [
    "swapped_flowcells[desired_columns_in_order]\\\n",
    "    .to_csv(f'{output_dir}/negative.LOD.flowcells.tsv', sep='\\t', header=True, index=False)"
   ],
   "metadata": {
    "collapsed": false,
    "pycharm": {
     "name": "#%%\n"
    }
   }
  },
  {
   "cell_type": "markdown",
   "source": [
    "# Indecisive LOD"
   ],
   "metadata": {
    "collapsed": false
   }
  },
  {
   "cell_type": "code",
   "execution_count": 218,
   "outputs": [
    {
     "data": {
      "text/plain": "Empty DataFrame\nColumns: [flowcell_id, bio_sample, description, well_sample, aligned_est_fold_cov, lod_expected_sample, aligned_bam, application, experiment_type, is_ccs, is_corrected, is_isoseq, ccs_zmws_pass_filters_pct, instrument, movie_name, well_name, insert_size, created_at, sample, workspace]\nIndex: []",
      "text/html": "<div>\n<style scoped>\n    .dataframe tbody tr th:only-of-type {\n        vertical-align: middle;\n    }\n\n    .dataframe tbody tr th {\n        vertical-align: top;\n    }\n\n    .dataframe thead th {\n        text-align: right;\n    }\n</style>\n<table border=\"1\" class=\"dataframe\">\n  <thead>\n    <tr style=\"text-align: right;\">\n      <th></th>\n      <th>flowcell_id</th>\n      <th>bio_sample</th>\n      <th>description</th>\n      <th>well_sample</th>\n      <th>aligned_est_fold_cov</th>\n      <th>lod_expected_sample</th>\n      <th>aligned_bam</th>\n      <th>application</th>\n      <th>experiment_type</th>\n      <th>is_ccs</th>\n      <th>is_corrected</th>\n      <th>is_isoseq</th>\n      <th>ccs_zmws_pass_filters_pct</th>\n      <th>instrument</th>\n      <th>movie_name</th>\n      <th>well_name</th>\n      <th>insert_size</th>\n      <th>created_at</th>\n      <th>sample</th>\n      <th>workspace</th>\n    </tr>\n  </thead>\n  <tbody>\n  </tbody>\n</table>\n</div>"
     },
     "execution_count": 218,
     "metadata": {},
     "output_type": "execute_result"
    }
   ],
   "source": [
    "indecisive_idx = ~usable_flowcell_table['flowcell_id'].isin( borderline_lod_flowcells_cleared)\n",
    "indecisive_idx &= ((usable_flowcell_table.lod_expected_sample >= -3) & (usable_flowcell_table.lod_expected_sample < 6))\n",
    "indecisive_flowcells = usable_flowcell_table[indecisive_idx].reset_index(drop=True).sort_values(by=['created_at'])\n",
    "indecisive_flowcells[desired_columns_in_order]"
   ],
   "metadata": {
    "collapsed": false,
    "pycharm": {
     "name": "#%%\n"
    }
   }
  },
  {
   "cell_type": "code",
   "execution_count": 219,
   "outputs": [],
   "source": [
    "if 0 < len(indecisive_flowcells):\n",
    "    indecisive_flowcells[desired_columns_in_order]\\\n",
    "        .to_csv(f'{output_dir}/indecisive.LOD.flowcells.tsv',\n",
    "                sep='\\t', header=True, index=False)"
   ],
   "metadata": {
    "collapsed": false,
    "pycharm": {
     "name": "#%%\n"
    }
   }
  },
  {
   "cell_type": "code",
   "execution_count": 219,
   "outputs": [],
   "source": [],
   "metadata": {
    "collapsed": false,
    "pycharm": {
     "name": "#%%\n"
    }
   }
  },
  {
   "cell_type": "markdown",
   "source": [
    "# No LOD"
   ],
   "metadata": {
    "collapsed": false
   }
  },
  {
   "cell_type": "code",
   "execution_count": 220,
   "outputs": [
    {
     "name": "stdout",
     "output_type": "stream",
     "text": [
      "6 flowcell have no LOD.\n"
     ]
    }
   ],
   "source": [
    "no_lod = usable_flowcell_table.loc[usable_flowcell_table.lod_expected_sample.isna(),:].reset_index(drop=True)\n",
    "print(f'{len(no_lod)} flowcell have no LOD.')"
   ],
   "metadata": {
    "collapsed": false,
    "pycharm": {
     "name": "#%%\n"
    }
   }
  },
  {
   "cell_type": "code",
   "execution_count": 221,
   "outputs": [
    {
     "data": {
      "text/plain": "                                 sample   P0  \\\n0  b371686f-d672-448a-a6aa-9400ac93f6f4  nan   \n1  b93737a8-ce9f-41c3-8d2b-9153f53cdeb0  nan   \n2  bf10cdd7-7953-4d24-9e1e-f063b44d3693  nan   \n3  bfcc2fd8-3844-4a95-b5e1-08bcfc9b2b3a  nan   \n4  dfad1eae-661f-45a6-9d1c-11097d47107b  nan   \n5  f2614335-e7f2-46df-85d4-9050f84dba1c  nan   \n\n                                         aligned_bai  \\\n0  gs://broad-gp-pacbio-outgoing/results/PBFlowce...   \n1                                                nan   \n2  gs://broad-gp-pacbio-outgoing/results/PBFlowce...   \n3  gs://broad-gp-pacbio-outgoing/results/PBFlowce...   \n4  gs://broad-gp-pacbio-outgoing/results/PBFlowce...   \n5                                                nan   \n\n                                         aligned_bam  aligned_est_fold_cov  \\\n0  gs://broad-gp-pacbio-outgoing/results/PBFlowce...              4.843104   \n1                                                nan                   NaN   \n2  gs://broad-gp-pacbio-outgoing/results/PBFlowce...              6.127957   \n3  gs://broad-gp-pacbio-outgoing/results/PBFlowce...              5.704286   \n4  gs://broad-gp-pacbio-outgoing/results/PBFlowce...              7.107879   \n5                                                nan                   NaN   \n\n   aligned_frac_bases  aligned_num_bases  aligned_num_reads  \\\n0                 0.9        15013235035            1097030   \n1                 NaN               <NA>               <NA>   \n2                 1.0        18996175886            1509738   \n3                 1.0        17682829870            1426884   \n4                 0.9        22033855952            1500718   \n5                 NaN               <NA>               <NA>   \n\n                                         aligned_pbi  aligned_read_length_N50  \\\n0  gs://broad-gp-pacbio-outgoing/results/PBFlowce...                    15086   \n1                                                nan                     <NA>   \n2  gs://broad-gp-pacbio-outgoing/results/PBFlowce...                    13509   \n3  gs://broad-gp-pacbio-outgoing/results/PBFlowce...                    13747   \n4  gs://broad-gp-pacbio-outgoing/results/PBFlowce...                    17194   \n5                                                nan                     <NA>   \n\n   ...  read_qual_mean  read_qual_median  subread_read_length_N50  \\\n0  ...       30.809116              31.0                  15233.0   \n1  ...             NaN               NaN                      NaN   \n2  ...       33.825616              35.0                  13593.0   \n3  ...       34.190260              35.0                  13793.0   \n4  ...       32.178017              33.0                  17254.0   \n5  ...             NaN               NaN                      NaN   \n\n  subread_read_length_mean  subreads_bam subreads_pbi  total_length well_name  \\\n0                  14603.0           nan          nan  104581960418       C01   \n1                      NaN           nan          nan   72538215009       C01   \n2                  13108.0           nan          nan   61005231228       C01   \n3                  13061.0           nan          nan   52025549047       B01   \n4                  15777.0           nan          nan   65780487854       B01   \n5                      NaN           nan          nan   70477431715       C01   \n\n  well_sample  workspace  \n0    SM-KTT9O        nan  \n1    SM-LNN1B        nan  \n2    SM-K6CQC        nan  \n3    SM-K6JCE        nan  \n4    SM-LNN1A        nan  \n5    SM-K6845        nan  \n\n[6 rows x 69 columns]",
      "text/html": "<div>\n<style scoped>\n    .dataframe tbody tr th:only-of-type {\n        vertical-align: middle;\n    }\n\n    .dataframe tbody tr th {\n        vertical-align: top;\n    }\n\n    .dataframe thead th {\n        text-align: right;\n    }\n</style>\n<table border=\"1\" class=\"dataframe\">\n  <thead>\n    <tr style=\"text-align: right;\">\n      <th></th>\n      <th>sample</th>\n      <th>P0</th>\n      <th>aligned_bai</th>\n      <th>aligned_bam</th>\n      <th>aligned_est_fold_cov</th>\n      <th>aligned_frac_bases</th>\n      <th>aligned_num_bases</th>\n      <th>aligned_num_reads</th>\n      <th>aligned_pbi</th>\n      <th>aligned_read_length_N50</th>\n      <th>...</th>\n      <th>read_qual_mean</th>\n      <th>read_qual_median</th>\n      <th>subread_read_length_N50</th>\n      <th>subread_read_length_mean</th>\n      <th>subreads_bam</th>\n      <th>subreads_pbi</th>\n      <th>total_length</th>\n      <th>well_name</th>\n      <th>well_sample</th>\n      <th>workspace</th>\n    </tr>\n  </thead>\n  <tbody>\n    <tr>\n      <th>0</th>\n      <td>b371686f-d672-448a-a6aa-9400ac93f6f4</td>\n      <td>nan</td>\n      <td>gs://broad-gp-pacbio-outgoing/results/PBFlowce...</td>\n      <td>gs://broad-gp-pacbio-outgoing/results/PBFlowce...</td>\n      <td>4.843104</td>\n      <td>0.9</td>\n      <td>15013235035</td>\n      <td>1097030</td>\n      <td>gs://broad-gp-pacbio-outgoing/results/PBFlowce...</td>\n      <td>15086</td>\n      <td>...</td>\n      <td>30.809116</td>\n      <td>31.0</td>\n      <td>15233.0</td>\n      <td>14603.0</td>\n      <td>nan</td>\n      <td>nan</td>\n      <td>104581960418</td>\n      <td>C01</td>\n      <td>SM-KTT9O</td>\n      <td>nan</td>\n    </tr>\n    <tr>\n      <th>1</th>\n      <td>b93737a8-ce9f-41c3-8d2b-9153f53cdeb0</td>\n      <td>nan</td>\n      <td>nan</td>\n      <td>nan</td>\n      <td>NaN</td>\n      <td>NaN</td>\n      <td>&lt;NA&gt;</td>\n      <td>&lt;NA&gt;</td>\n      <td>nan</td>\n      <td>&lt;NA&gt;</td>\n      <td>...</td>\n      <td>NaN</td>\n      <td>NaN</td>\n      <td>NaN</td>\n      <td>NaN</td>\n      <td>nan</td>\n      <td>nan</td>\n      <td>72538215009</td>\n      <td>C01</td>\n      <td>SM-LNN1B</td>\n      <td>nan</td>\n    </tr>\n    <tr>\n      <th>2</th>\n      <td>bf10cdd7-7953-4d24-9e1e-f063b44d3693</td>\n      <td>nan</td>\n      <td>gs://broad-gp-pacbio-outgoing/results/PBFlowce...</td>\n      <td>gs://broad-gp-pacbio-outgoing/results/PBFlowce...</td>\n      <td>6.127957</td>\n      <td>1.0</td>\n      <td>18996175886</td>\n      <td>1509738</td>\n      <td>gs://broad-gp-pacbio-outgoing/results/PBFlowce...</td>\n      <td>13509</td>\n      <td>...</td>\n      <td>33.825616</td>\n      <td>35.0</td>\n      <td>13593.0</td>\n      <td>13108.0</td>\n      <td>nan</td>\n      <td>nan</td>\n      <td>61005231228</td>\n      <td>C01</td>\n      <td>SM-K6CQC</td>\n      <td>nan</td>\n    </tr>\n    <tr>\n      <th>3</th>\n      <td>bfcc2fd8-3844-4a95-b5e1-08bcfc9b2b3a</td>\n      <td>nan</td>\n      <td>gs://broad-gp-pacbio-outgoing/results/PBFlowce...</td>\n      <td>gs://broad-gp-pacbio-outgoing/results/PBFlowce...</td>\n      <td>5.704286</td>\n      <td>1.0</td>\n      <td>17682829870</td>\n      <td>1426884</td>\n      <td>gs://broad-gp-pacbio-outgoing/results/PBFlowce...</td>\n      <td>13747</td>\n      <td>...</td>\n      <td>34.190260</td>\n      <td>35.0</td>\n      <td>13793.0</td>\n      <td>13061.0</td>\n      <td>nan</td>\n      <td>nan</td>\n      <td>52025549047</td>\n      <td>B01</td>\n      <td>SM-K6JCE</td>\n      <td>nan</td>\n    </tr>\n    <tr>\n      <th>4</th>\n      <td>dfad1eae-661f-45a6-9d1c-11097d47107b</td>\n      <td>nan</td>\n      <td>gs://broad-gp-pacbio-outgoing/results/PBFlowce...</td>\n      <td>gs://broad-gp-pacbio-outgoing/results/PBFlowce...</td>\n      <td>7.107879</td>\n      <td>0.9</td>\n      <td>22033855952</td>\n      <td>1500718</td>\n      <td>gs://broad-gp-pacbio-outgoing/results/PBFlowce...</td>\n      <td>17194</td>\n      <td>...</td>\n      <td>32.178017</td>\n      <td>33.0</td>\n      <td>17254.0</td>\n      <td>15777.0</td>\n      <td>nan</td>\n      <td>nan</td>\n      <td>65780487854</td>\n      <td>B01</td>\n      <td>SM-LNN1A</td>\n      <td>nan</td>\n    </tr>\n    <tr>\n      <th>5</th>\n      <td>f2614335-e7f2-46df-85d4-9050f84dba1c</td>\n      <td>nan</td>\n      <td>nan</td>\n      <td>nan</td>\n      <td>NaN</td>\n      <td>NaN</td>\n      <td>&lt;NA&gt;</td>\n      <td>&lt;NA&gt;</td>\n      <td>nan</td>\n      <td>&lt;NA&gt;</td>\n      <td>...</td>\n      <td>NaN</td>\n      <td>NaN</td>\n      <td>NaN</td>\n      <td>NaN</td>\n      <td>nan</td>\n      <td>nan</td>\n      <td>70477431715</td>\n      <td>C01</td>\n      <td>SM-K6845</td>\n      <td>nan</td>\n    </tr>\n  </tbody>\n</table>\n<p>6 rows × 69 columns</p>\n</div>"
     },
     "execution_count": 221,
     "metadata": {},
     "output_type": "execute_result"
    }
   ],
   "source": [
    "no_lod"
   ],
   "metadata": {
    "collapsed": false,
    "pycharm": {
     "name": "#%%\n"
    }
   }
  },
  {
   "cell_type": "code",
   "execution_count": 222,
   "outputs": [],
   "source": [
    "is_with_bam = no_lod['aligned_bam'].apply(lambda s: s.startswith('gs://'))\n",
    "is_enough_coverage = no_lod['aligned_est_fold_cov'].apply(lambda s: float(s) > 1.0)\n",
    "is_with_mercury = no_lod['well_sample'].isin(samples_in_cloud_mercury)"
   ],
   "metadata": {
    "collapsed": false,
    "pycharm": {
     "name": "#%%\n"
    }
   }
  },
  {
   "cell_type": "code",
   "execution_count": 222,
   "outputs": [],
   "source": [],
   "metadata": {
    "collapsed": false,
    "pycharm": {
     "name": "#%%\n"
    }
   }
  },
  {
   "cell_type": "markdown",
   "source": [
    "## No LOD&mdash;meaningless coverage"
   ],
   "metadata": {
    "collapsed": false
   }
  },
  {
   "cell_type": "code",
   "execution_count": 223,
   "outputs": [
    {
     "data": {
      "text/plain": "Empty DataFrame\nColumns: [flowcell_id, bio_sample, description, well_sample, aligned_est_fold_cov, lod_expected_sample, aligned_bam, application, experiment_type, is_ccs, is_corrected, is_isoseq, ccs_zmws_pass_filters_pct, instrument, movie_name, well_name, insert_size, created_at, sample, workspace]\nIndex: []",
      "text/html": "<div>\n<style scoped>\n    .dataframe tbody tr th:only-of-type {\n        vertical-align: middle;\n    }\n\n    .dataframe tbody tr th {\n        vertical-align: top;\n    }\n\n    .dataframe thead th {\n        text-align: right;\n    }\n</style>\n<table border=\"1\" class=\"dataframe\">\n  <thead>\n    <tr style=\"text-align: right;\">\n      <th></th>\n      <th>flowcell_id</th>\n      <th>bio_sample</th>\n      <th>description</th>\n      <th>well_sample</th>\n      <th>aligned_est_fold_cov</th>\n      <th>lod_expected_sample</th>\n      <th>aligned_bam</th>\n      <th>application</th>\n      <th>experiment_type</th>\n      <th>is_ccs</th>\n      <th>is_corrected</th>\n      <th>is_isoseq</th>\n      <th>ccs_zmws_pass_filters_pct</th>\n      <th>instrument</th>\n      <th>movie_name</th>\n      <th>well_name</th>\n      <th>insert_size</th>\n      <th>created_at</th>\n      <th>sample</th>\n      <th>workspace</th>\n    </tr>\n  </thead>\n  <tbody>\n  </tbody>\n</table>\n</div>"
     },
     "execution_count": 223,
     "metadata": {},
     "output_type": "execute_result"
    }
   ],
   "source": [
    "shallow_bam = no_lod.loc[is_with_bam & ~is_enough_coverage].sort_values(by=['well_sample']).reset_index(drop=True)\n",
    "shallow_bam[desired_columns_in_order]"
   ],
   "metadata": {
    "collapsed": false,
    "pycharm": {
     "name": "#%%\n"
    }
   }
  },
  {
   "cell_type": "code",
   "execution_count": 224,
   "outputs": [],
   "source": [
    "if 0 < len(shallow_bam):\n",
    "    shallow_bam.to_csv(f'{output_dir}/shallow.BAM.flowcells.tsv', sep='\\t', header=True, index=False)"
   ],
   "metadata": {
    "collapsed": false,
    "pycharm": {
     "name": "#%%\n"
    }
   }
  },
  {
   "cell_type": "code",
   "execution_count": 224,
   "outputs": [],
   "source": [],
   "metadata": {
    "collapsed": false,
    "pycharm": {
     "name": "#%%\n"
    }
   }
  },
  {
   "cell_type": "markdown",
   "source": [
    "## No LOD&mdash;just need to run it. !!! WARN: NEED TO CHECK IT'S NOT RUNNING!!!"
   ],
   "metadata": {
    "collapsed": false
   }
  },
  {
   "cell_type": "markdown",
   "source": [],
   "metadata": {
    "collapsed": false
   }
  },
  {
   "cell_type": "code",
   "execution_count": 225,
   "outputs": [
    {
     "data": {
      "text/plain": "  flowcell_id bio_sample  description well_sample  aligned_est_fold_cov  \\\n0    DA143913    1-04920  CG0037-9147    SM-K6CQC              6.127957   \n1    DA143445    1-05153  CG0037-9251    SM-K6JCE              5.704286   \n2    DA143533    1-03246  CG0037-9340    SM-KTT9O              4.843104   \n\n   lod_expected_sample                                        aligned_bam  \\\n0                  NaN  gs://broad-gp-pacbio-outgoing/results/PBFlowce...   \n1                  NaN  gs://broad-gp-pacbio-outgoing/results/PBFlowce...   \n2                  NaN  gs://broad-gp-pacbio-outgoing/results/PBFlowce...   \n\n  application experiment_type  is_ccs  is_corrected  is_isoseq  \\\n0   hifiReads             CCS   False          True      False   \n1   hifiReads             CCS   False          True      False   \n2   hifiReads             CCS   False          True      False   \n\n   ccs_zmws_pass_filters_pct instrument             movie_name well_name  \\\n0                      44.24     64020e  m64020e_211224_142457       C01   \n1                      48.28     64297e  m64297e_211224_025130       B01   \n2                      31.98     64271e  m64271e_211224_142908       C01   \n\n   insert_size                        created_at  \\\n0        15000  2021-12-21 16:10:19.940000+00:00   \n1        16000  2021-12-21 18:46:27.706000+00:00   \n2        17000  2021-12-21 16:10:17.794000+00:00   \n\n                                 sample workspace  \n0  bf10cdd7-7953-4d24-9e1e-f063b44d3693       nan  \n1  bfcc2fd8-3844-4a95-b5e1-08bcfc9b2b3a       nan  \n2  b371686f-d672-448a-a6aa-9400ac93f6f4       nan  ",
      "text/html": "<div>\n<style scoped>\n    .dataframe tbody tr th:only-of-type {\n        vertical-align: middle;\n    }\n\n    .dataframe tbody tr th {\n        vertical-align: top;\n    }\n\n    .dataframe thead th {\n        text-align: right;\n    }\n</style>\n<table border=\"1\" class=\"dataframe\">\n  <thead>\n    <tr style=\"text-align: right;\">\n      <th></th>\n      <th>flowcell_id</th>\n      <th>bio_sample</th>\n      <th>description</th>\n      <th>well_sample</th>\n      <th>aligned_est_fold_cov</th>\n      <th>lod_expected_sample</th>\n      <th>aligned_bam</th>\n      <th>application</th>\n      <th>experiment_type</th>\n      <th>is_ccs</th>\n      <th>is_corrected</th>\n      <th>is_isoseq</th>\n      <th>ccs_zmws_pass_filters_pct</th>\n      <th>instrument</th>\n      <th>movie_name</th>\n      <th>well_name</th>\n      <th>insert_size</th>\n      <th>created_at</th>\n      <th>sample</th>\n      <th>workspace</th>\n    </tr>\n  </thead>\n  <tbody>\n    <tr>\n      <th>0</th>\n      <td>DA143913</td>\n      <td>1-04920</td>\n      <td>CG0037-9147</td>\n      <td>SM-K6CQC</td>\n      <td>6.127957</td>\n      <td>NaN</td>\n      <td>gs://broad-gp-pacbio-outgoing/results/PBFlowce...</td>\n      <td>hifiReads</td>\n      <td>CCS</td>\n      <td>False</td>\n      <td>True</td>\n      <td>False</td>\n      <td>44.24</td>\n      <td>64020e</td>\n      <td>m64020e_211224_142457</td>\n      <td>C01</td>\n      <td>15000</td>\n      <td>2021-12-21 16:10:19.940000+00:00</td>\n      <td>bf10cdd7-7953-4d24-9e1e-f063b44d3693</td>\n      <td>nan</td>\n    </tr>\n    <tr>\n      <th>1</th>\n      <td>DA143445</td>\n      <td>1-05153</td>\n      <td>CG0037-9251</td>\n      <td>SM-K6JCE</td>\n      <td>5.704286</td>\n      <td>NaN</td>\n      <td>gs://broad-gp-pacbio-outgoing/results/PBFlowce...</td>\n      <td>hifiReads</td>\n      <td>CCS</td>\n      <td>False</td>\n      <td>True</td>\n      <td>False</td>\n      <td>48.28</td>\n      <td>64297e</td>\n      <td>m64297e_211224_025130</td>\n      <td>B01</td>\n      <td>16000</td>\n      <td>2021-12-21 18:46:27.706000+00:00</td>\n      <td>bfcc2fd8-3844-4a95-b5e1-08bcfc9b2b3a</td>\n      <td>nan</td>\n    </tr>\n    <tr>\n      <th>2</th>\n      <td>DA143533</td>\n      <td>1-03246</td>\n      <td>CG0037-9340</td>\n      <td>SM-KTT9O</td>\n      <td>4.843104</td>\n      <td>NaN</td>\n      <td>gs://broad-gp-pacbio-outgoing/results/PBFlowce...</td>\n      <td>hifiReads</td>\n      <td>CCS</td>\n      <td>False</td>\n      <td>True</td>\n      <td>False</td>\n      <td>31.98</td>\n      <td>64271e</td>\n      <td>m64271e_211224_142908</td>\n      <td>C01</td>\n      <td>17000</td>\n      <td>2021-12-21 16:10:17.794000+00:00</td>\n      <td>b371686f-d672-448a-a6aa-9400ac93f6f4</td>\n      <td>nan</td>\n    </tr>\n  </tbody>\n</table>\n</div>"
     },
     "execution_count": 225,
     "metadata": {},
     "output_type": "execute_result"
    }
   ],
   "source": [
    "ready_to_fp = no_lod.loc[is_with_bam & is_enough_coverage & is_with_mercury].sort_values(by=['well_sample']).reset_index(drop=True)\n",
    "ready_to_fp[desired_columns_in_order]"
   ],
   "metadata": {
    "collapsed": false,
    "pycharm": {
     "name": "#%%\n"
    }
   }
  },
  {
   "cell_type": "code",
   "execution_count": 226,
   "outputs": [
    {
     "name": "stdout",
     "output_type": "stream",
     "text": [
      "bf10cdd7-7953-4d24-9e1e-f063b44d3693 submitted\n",
      "bfcc2fd8-3844-4a95-b5e1-08bcfc9b2b3a submitted\n",
      "b371686f-d672-448a-a6aa-9400ac93f6f4 submitted\n"
     ]
    }
   ],
   "source": [
    "for flowcell in ready_to_fp['sample']:\n",
    "    response = fapi.create_submission(wnamespace=primary_namespace, workspace=primary_workspace, cnamespace=primary_namespace,\n",
    "                                      config='VerifyFingerprint',\n",
    "                                      entity=flowcell,\n",
    "                                      etype=root_data_type,\n",
    "                                      use_callcache=False)  # explicitly disable call caching because database updates almost daily\n",
    "    if response.ok:\n",
    "        print(f\"{flowcell} submitted\")\n",
    "    else:\n",
    "        print(f\"{flowcell} failed to submit due to \\n  {response.json()}\")"
   ],
   "metadata": {
    "collapsed": false,
    "pycharm": {
     "name": "#%%\n"
    }
   }
  },
  {
   "cell_type": "code",
   "execution_count": 226,
   "outputs": [],
   "source": [],
   "metadata": {
    "collapsed": false,
    "pycharm": {
     "name": "#%%\n"
    }
   }
  },
  {
   "cell_type": "markdown",
   "source": [
    "## No LOD&mdash;no BAM yet !!! WARN: NEED TO CHECK IT'S NOT RUNNING!!!"
   ],
   "metadata": {
    "collapsed": false
   }
  },
  {
   "cell_type": "code",
   "execution_count": 227,
   "outputs": [
    {
     "data": {
      "text/plain": "  flowcell_id bio_sample  description well_sample  aligned_est_fold_cov  \\\n0    DA143555    1-04466  CG0037-9239    SM-K6845                   NaN   \n1    DA143565    1-05966  CG0038-3656    SM-LNN1B                   NaN   \n\n   lod_expected_sample aligned_bam application experiment_type  is_ccs  \\\n0                  NaN         nan   hifiReads             CCS   False   \n1                  NaN         nan   hifiReads             CCS   False   \n\n   is_corrected  is_isoseq  ccs_zmws_pass_filters_pct instrument  \\\n0          True      False                      41.67     64297e   \n1          True      False                      39.22     64218e   \n\n              movie_name well_name  insert_size  \\\n0  m64297e_211225_134822       C01        18000   \n1  m64218e_211225_104546       C01        20000   \n\n                         created_at                                sample  \\\n0  2021-12-21 18:46:27.706000+00:00  f2614335-e7f2-46df-85d4-9050f84dba1c   \n1  2021-12-21 18:46:34.035000+00:00  b93737a8-ce9f-41c3-8d2b-9153f53cdeb0   \n\n  workspace  \n0       nan  \n1       nan  ",
      "text/html": "<div>\n<style scoped>\n    .dataframe tbody tr th:only-of-type {\n        vertical-align: middle;\n    }\n\n    .dataframe tbody tr th {\n        vertical-align: top;\n    }\n\n    .dataframe thead th {\n        text-align: right;\n    }\n</style>\n<table border=\"1\" class=\"dataframe\">\n  <thead>\n    <tr style=\"text-align: right;\">\n      <th></th>\n      <th>flowcell_id</th>\n      <th>bio_sample</th>\n      <th>description</th>\n      <th>well_sample</th>\n      <th>aligned_est_fold_cov</th>\n      <th>lod_expected_sample</th>\n      <th>aligned_bam</th>\n      <th>application</th>\n      <th>experiment_type</th>\n      <th>is_ccs</th>\n      <th>is_corrected</th>\n      <th>is_isoseq</th>\n      <th>ccs_zmws_pass_filters_pct</th>\n      <th>instrument</th>\n      <th>movie_name</th>\n      <th>well_name</th>\n      <th>insert_size</th>\n      <th>created_at</th>\n      <th>sample</th>\n      <th>workspace</th>\n    </tr>\n  </thead>\n  <tbody>\n    <tr>\n      <th>0</th>\n      <td>DA143555</td>\n      <td>1-04466</td>\n      <td>CG0037-9239</td>\n      <td>SM-K6845</td>\n      <td>NaN</td>\n      <td>NaN</td>\n      <td>nan</td>\n      <td>hifiReads</td>\n      <td>CCS</td>\n      <td>False</td>\n      <td>True</td>\n      <td>False</td>\n      <td>41.67</td>\n      <td>64297e</td>\n      <td>m64297e_211225_134822</td>\n      <td>C01</td>\n      <td>18000</td>\n      <td>2021-12-21 18:46:27.706000+00:00</td>\n      <td>f2614335-e7f2-46df-85d4-9050f84dba1c</td>\n      <td>nan</td>\n    </tr>\n    <tr>\n      <th>1</th>\n      <td>DA143565</td>\n      <td>1-05966</td>\n      <td>CG0038-3656</td>\n      <td>SM-LNN1B</td>\n      <td>NaN</td>\n      <td>NaN</td>\n      <td>nan</td>\n      <td>hifiReads</td>\n      <td>CCS</td>\n      <td>False</td>\n      <td>True</td>\n      <td>False</td>\n      <td>39.22</td>\n      <td>64218e</td>\n      <td>m64218e_211225_104546</td>\n      <td>C01</td>\n      <td>20000</td>\n      <td>2021-12-21 18:46:34.035000+00:00</td>\n      <td>b93737a8-ce9f-41c3-8d2b-9153f53cdeb0</td>\n      <td>nan</td>\n    </tr>\n  </tbody>\n</table>\n</div>"
     },
     "execution_count": 227,
     "metadata": {},
     "output_type": "execute_result"
    }
   ],
   "source": [
    "need_bam = no_lod.loc[~is_with_bam].sort_values(by=['well_sample']).reset_index(drop=True)\n",
    "need_bam[desired_columns_in_order]"
   ],
   "metadata": {
    "collapsed": false,
    "pycharm": {
     "name": "#%%\n"
    }
   }
  },
  {
   "cell_type": "code",
   "execution_count": 228,
   "outputs": [
    {
     "name": "stdout",
     "output_type": "stream",
     "text": [
      "f2614335-e7f2-46df-85d4-9050f84dba1c submitted\n",
      "b93737a8-ce9f-41c3-8d2b-9153f53cdeb0 submitted\n"
     ]
    }
   ],
   "source": [
    "for flowcell in need_bam['sample']:\n",
    "    response = fapi.create_submission(wnamespace=primary_namespace, workspace=primary_workspace, cnamespace=primary_namespace,\n",
    "                                      config='PBFlowcell',\n",
    "                                      entity=flowcell,\n",
    "                                      etype=root_data_type)\n",
    "    if response.ok:\n",
    "        print(f\"{flowcell} submitted\")\n",
    "    else:\n",
    "        print(f\"{flowcell} failed to submit due to \\n  {response.json()}\")"
   ],
   "metadata": {
    "collapsed": false,
    "pycharm": {
     "name": "#%%\n"
    }
   }
  },
  {
   "cell_type": "code",
   "execution_count": 228,
   "outputs": [],
   "source": [],
   "metadata": {
    "collapsed": false,
    "pycharm": {
     "name": "#%%\n"
    }
   }
  },
  {
   "cell_type": "code",
   "execution_count": 228,
   "outputs": [],
   "source": [],
   "metadata": {
    "collapsed": false,
    "pycharm": {
     "name": "#%%\n"
    }
   }
  },
  {
   "cell_type": "markdown",
   "source": [
    "# Query on-prem Mercury, prep for next round"
   ],
   "metadata": {
    "collapsed": false
   }
  },
  {
   "cell_type": "code",
   "execution_count": 229,
   "outputs": [
    {
     "name": "stdout",
     "output_type": "stream",
     "text": [
      "2 newly found samples need to have their FP VCFs queried.\n"
     ]
    }
   ],
   "source": [
    "need_mercury_sample_ids = \\\n",
    "    samples_upto_date.loc[~samples_upto_date['well_sample'].isin(samples_in_cloud_mercury), :]\\\n",
    "        .rename({'bio_sample': 'Collab_Part_ID',\n",
    "                 'description': 'Collab_SM_ID',\n",
    "                 'well_sample': 'Broad_LSID'\n",
    "                 }, axis=1)\\\n",
    "        .sort_values(by=['Broad_LSID'], axis=0)\\\n",
    "        .reset_index(drop=True)\n",
    "\n",
    "need_mercury_sample_ids['Broad_LSID'] = need_mercury_sample_ids['Broad_LSID'].apply(lambda s: re.sub('^SM-', '', s))\n",
    "\n",
    "need_mercury_sample_ids['Date'] = today\n",
    "\n",
    "print(f\"{len(need_mercury_sample_ids)} newly found samples need to have their FP VCFs queried.\")"
   ],
   "metadata": {
    "collapsed": false,
    "pycharm": {
     "name": "#%%\n"
    }
   }
  },
  {
   "cell_type": "code",
   "execution_count": 230,
   "outputs": [],
   "source": [
    "if 0 < len(need_mercury_sample_ids):\n",
    "    csv_location = f'{output_dir}/need_mercury_sample_ids_headerless.csv'\n",
    "    need_mercury_sample_ids.to_csv(csv_location,\n",
    "                                   sep=',', index=False, header=False)"
   ],
   "metadata": {
    "collapsed": false,
    "pycharm": {
     "name": "#%%\n"
    }
   }
  },
  {
   "cell_type": "markdown",
   "source": [
    "### !!! Now go and upload the VCFs... !!!"
   ],
   "metadata": {
    "collapsed": false
   }
  },
  {
   "cell_type": "code",
   "execution_count": 230,
   "outputs": [],
   "source": [],
   "metadata": {
    "collapsed": false,
    "pycharm": {
     "name": "#%%\n"
    }
   }
  }
 ],
 "metadata": {
  "kernelspec": {
   "display_name": "Python 3",
   "language": "python",
   "name": "python3"
  },
  "language_info": {
   "codemirror_mode": {
    "name": "ipython",
    "version": 2
   },
   "file_extension": ".py",
   "mimetype": "text/x-python",
   "name": "python",
   "nbconvert_exporter": "python",
   "pygments_lexer": "ipython2",
   "version": "2.7.6"
  }
 },
 "nbformat": 4,
 "nbformat_minor": 0
}